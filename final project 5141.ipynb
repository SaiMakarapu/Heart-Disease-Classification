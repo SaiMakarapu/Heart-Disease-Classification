{
 "cells": [
  {
   "cell_type": "markdown",
   "id": "2bd3a946",
   "metadata": {
    "id": "38a19a10"
   },
   "source": [
    "Now let's first import our dataset:"
   ]
  },
  {
   "cell_type": "code",
   "execution_count": 77,
   "id": "dc015c7b",
   "metadata": {
    "id": "94007aea"
   },
   "outputs": [],
   "source": [
    "import pandas as pd\n",
    "import numpy as np\n",
    "import matplotlib.pyplot as plt\n",
    "import seaborn as sns"
   ]
  },
  {
   "cell_type": "code",
   "execution_count": 78,
   "id": "eaf1350f",
   "metadata": {
    "id": "0cf47f06"
   },
   "outputs": [],
   "source": [
    "df = pd.read_csv(\"/Users/sai/Downloads/heart_2020_cleaned.csv\")"
   ]
  },
  {
   "cell_type": "code",
   "execution_count": 79,
   "id": "057f42f5",
   "metadata": {
    "colab": {
     "base_uri": "https://localhost:8080/"
    },
    "id": "06931e36",
    "outputId": "52d67b41-e23a-4334-e0a1-3a6ce4b08eef"
   },
   "outputs": [
    {
     "name": "stdout",
     "output_type": "stream",
     "text": [
      "<class 'pandas.core.frame.DataFrame'>\n",
      "RangeIndex: 319795 entries, 0 to 319794\n",
      "Data columns (total 18 columns):\n",
      " #   Column            Non-Null Count   Dtype  \n",
      "---  ------            --------------   -----  \n",
      " 0   HeartDisease      319795 non-null  object \n",
      " 1   BMI               319795 non-null  float64\n",
      " 2   Smoking           319795 non-null  object \n",
      " 3   AlcoholDrinking   319795 non-null  object \n",
      " 4   Stroke            319795 non-null  object \n",
      " 5   PhysicalHealth    319795 non-null  float64\n",
      " 6   MentalHealth      319795 non-null  float64\n",
      " 7   DiffWalking       319795 non-null  object \n",
      " 8   Sex               319795 non-null  object \n",
      " 9   AgeCategory       319795 non-null  object \n",
      " 10  Race              319795 non-null  object \n",
      " 11  Diabetic          319795 non-null  object \n",
      " 12  PhysicalActivity  319795 non-null  object \n",
      " 13  GenHealth         319795 non-null  object \n",
      " 14  SleepTime         319795 non-null  float64\n",
      " 15  Asthma            319795 non-null  object \n",
      " 16  KidneyDisease     319795 non-null  object \n",
      " 17  SkinCancer        319795 non-null  object \n",
      "dtypes: float64(4), object(14)\n",
      "memory usage: 43.9+ MB\n"
     ]
    }
   ],
   "source": [
    "df.info()"
   ]
  },
  {
   "cell_type": "code",
   "execution_count": 80,
   "id": "60e49e04",
   "metadata": {
    "colab": {
     "base_uri": "https://localhost:8080/"
    },
    "id": "b9686a21",
    "outputId": "c029084b-eabd-4ce0-be40-1bdae1bc653e",
    "scrolled": true
   },
   "outputs": [
    {
     "data": {
      "text/plain": [
       "HeartDisease        0\n",
       "BMI                 0\n",
       "Smoking             0\n",
       "AlcoholDrinking     0\n",
       "Stroke              0\n",
       "PhysicalHealth      0\n",
       "MentalHealth        0\n",
       "DiffWalking         0\n",
       "Sex                 0\n",
       "AgeCategory         0\n",
       "Race                0\n",
       "Diabetic            0\n",
       "PhysicalActivity    0\n",
       "GenHealth           0\n",
       "SleepTime           0\n",
       "Asthma              0\n",
       "KidneyDisease       0\n",
       "SkinCancer          0\n",
       "dtype: int64"
      ]
     },
     "execution_count": 80,
     "metadata": {},
     "output_type": "execute_result"
    }
   ],
   "source": [
    "df.isnull().sum()"
   ]
  },
  {
   "cell_type": "markdown",
   "id": "6cc3bf1b",
   "metadata": {
    "id": "35e00550"
   },
   "source": [
    "### No missing data."
   ]
  },
  {
   "cell_type": "code",
   "execution_count": 81,
   "id": "b1400e8e",
   "metadata": {
    "colab": {
     "base_uri": "https://localhost:8080/",
     "height": 300
    },
    "id": "58bf08bb",
    "outputId": "c2f5cdd8-4a84-4154-be35-3f91e218d025"
   },
   "outputs": [
    {
     "data": {
      "text/html": [
       "<div>\n",
       "<style scoped>\n",
       "    .dataframe tbody tr th:only-of-type {\n",
       "        vertical-align: middle;\n",
       "    }\n",
       "\n",
       "    .dataframe tbody tr th {\n",
       "        vertical-align: top;\n",
       "    }\n",
       "\n",
       "    .dataframe thead th {\n",
       "        text-align: right;\n",
       "    }\n",
       "</style>\n",
       "<table border=\"1\" class=\"dataframe\">\n",
       "  <thead>\n",
       "    <tr style=\"text-align: right;\">\n",
       "      <th></th>\n",
       "      <th>BMI</th>\n",
       "      <th>PhysicalHealth</th>\n",
       "      <th>MentalHealth</th>\n",
       "      <th>SleepTime</th>\n",
       "    </tr>\n",
       "  </thead>\n",
       "  <tbody>\n",
       "    <tr>\n",
       "      <th>count</th>\n",
       "      <td>319795.000000</td>\n",
       "      <td>319795.00000</td>\n",
       "      <td>319795.000000</td>\n",
       "      <td>319795.000000</td>\n",
       "    </tr>\n",
       "    <tr>\n",
       "      <th>mean</th>\n",
       "      <td>28.325399</td>\n",
       "      <td>3.37171</td>\n",
       "      <td>3.898366</td>\n",
       "      <td>7.097075</td>\n",
       "    </tr>\n",
       "    <tr>\n",
       "      <th>std</th>\n",
       "      <td>6.356100</td>\n",
       "      <td>7.95085</td>\n",
       "      <td>7.955235</td>\n",
       "      <td>1.436007</td>\n",
       "    </tr>\n",
       "    <tr>\n",
       "      <th>min</th>\n",
       "      <td>12.020000</td>\n",
       "      <td>0.00000</td>\n",
       "      <td>0.000000</td>\n",
       "      <td>1.000000</td>\n",
       "    </tr>\n",
       "    <tr>\n",
       "      <th>25%</th>\n",
       "      <td>24.030000</td>\n",
       "      <td>0.00000</td>\n",
       "      <td>0.000000</td>\n",
       "      <td>6.000000</td>\n",
       "    </tr>\n",
       "    <tr>\n",
       "      <th>50%</th>\n",
       "      <td>27.340000</td>\n",
       "      <td>0.00000</td>\n",
       "      <td>0.000000</td>\n",
       "      <td>7.000000</td>\n",
       "    </tr>\n",
       "    <tr>\n",
       "      <th>75%</th>\n",
       "      <td>31.420000</td>\n",
       "      <td>2.00000</td>\n",
       "      <td>3.000000</td>\n",
       "      <td>8.000000</td>\n",
       "    </tr>\n",
       "    <tr>\n",
       "      <th>max</th>\n",
       "      <td>94.850000</td>\n",
       "      <td>30.00000</td>\n",
       "      <td>30.000000</td>\n",
       "      <td>24.000000</td>\n",
       "    </tr>\n",
       "  </tbody>\n",
       "</table>\n",
       "</div>"
      ],
      "text/plain": [
       "                 BMI  PhysicalHealth   MentalHealth      SleepTime\n",
       "count  319795.000000    319795.00000  319795.000000  319795.000000\n",
       "mean       28.325399         3.37171       3.898366       7.097075\n",
       "std         6.356100         7.95085       7.955235       1.436007\n",
       "min        12.020000         0.00000       0.000000       1.000000\n",
       "25%        24.030000         0.00000       0.000000       6.000000\n",
       "50%        27.340000         0.00000       0.000000       7.000000\n",
       "75%        31.420000         2.00000       3.000000       8.000000\n",
       "max        94.850000        30.00000      30.000000      24.000000"
      ]
     },
     "execution_count": 81,
     "metadata": {},
     "output_type": "execute_result"
    }
   ],
   "source": [
    "df.describe()"
   ]
  },
  {
   "cell_type": "code",
   "execution_count": 82,
   "id": "7a9893b5",
   "metadata": {
    "colab": {
     "base_uri": "https://localhost:8080/",
     "height": 488
    },
    "id": "b824d2b0",
    "outputId": "a93f4d03-d463-41df-ab79-210d4b9c6c2a"
   },
   "outputs": [
    {
     "data": {
      "text/html": [
       "<div>\n",
       "<style scoped>\n",
       "    .dataframe tbody tr th:only-of-type {\n",
       "        vertical-align: middle;\n",
       "    }\n",
       "\n",
       "    .dataframe tbody tr th {\n",
       "        vertical-align: top;\n",
       "    }\n",
       "\n",
       "    .dataframe thead th {\n",
       "        text-align: right;\n",
       "    }\n",
       "</style>\n",
       "<table border=\"1\" class=\"dataframe\">\n",
       "  <thead>\n",
       "    <tr style=\"text-align: right;\">\n",
       "      <th></th>\n",
       "      <th>count</th>\n",
       "      <th>unique</th>\n",
       "      <th>top</th>\n",
       "      <th>freq</th>\n",
       "    </tr>\n",
       "  </thead>\n",
       "  <tbody>\n",
       "    <tr>\n",
       "      <th>HeartDisease</th>\n",
       "      <td>319795</td>\n",
       "      <td>2</td>\n",
       "      <td>No</td>\n",
       "      <td>292422</td>\n",
       "    </tr>\n",
       "    <tr>\n",
       "      <th>Smoking</th>\n",
       "      <td>319795</td>\n",
       "      <td>2</td>\n",
       "      <td>No</td>\n",
       "      <td>187887</td>\n",
       "    </tr>\n",
       "    <tr>\n",
       "      <th>AlcoholDrinking</th>\n",
       "      <td>319795</td>\n",
       "      <td>2</td>\n",
       "      <td>No</td>\n",
       "      <td>298018</td>\n",
       "    </tr>\n",
       "    <tr>\n",
       "      <th>Stroke</th>\n",
       "      <td>319795</td>\n",
       "      <td>2</td>\n",
       "      <td>No</td>\n",
       "      <td>307726</td>\n",
       "    </tr>\n",
       "    <tr>\n",
       "      <th>DiffWalking</th>\n",
       "      <td>319795</td>\n",
       "      <td>2</td>\n",
       "      <td>No</td>\n",
       "      <td>275385</td>\n",
       "    </tr>\n",
       "    <tr>\n",
       "      <th>Sex</th>\n",
       "      <td>319795</td>\n",
       "      <td>2</td>\n",
       "      <td>Female</td>\n",
       "      <td>167805</td>\n",
       "    </tr>\n",
       "    <tr>\n",
       "      <th>AgeCategory</th>\n",
       "      <td>319795</td>\n",
       "      <td>13</td>\n",
       "      <td>65-69</td>\n",
       "      <td>34151</td>\n",
       "    </tr>\n",
       "    <tr>\n",
       "      <th>Race</th>\n",
       "      <td>319795</td>\n",
       "      <td>6</td>\n",
       "      <td>White</td>\n",
       "      <td>245212</td>\n",
       "    </tr>\n",
       "    <tr>\n",
       "      <th>Diabetic</th>\n",
       "      <td>319795</td>\n",
       "      <td>4</td>\n",
       "      <td>No</td>\n",
       "      <td>269653</td>\n",
       "    </tr>\n",
       "    <tr>\n",
       "      <th>PhysicalActivity</th>\n",
       "      <td>319795</td>\n",
       "      <td>2</td>\n",
       "      <td>Yes</td>\n",
       "      <td>247957</td>\n",
       "    </tr>\n",
       "    <tr>\n",
       "      <th>GenHealth</th>\n",
       "      <td>319795</td>\n",
       "      <td>5</td>\n",
       "      <td>Very good</td>\n",
       "      <td>113858</td>\n",
       "    </tr>\n",
       "    <tr>\n",
       "      <th>Asthma</th>\n",
       "      <td>319795</td>\n",
       "      <td>2</td>\n",
       "      <td>No</td>\n",
       "      <td>276923</td>\n",
       "    </tr>\n",
       "    <tr>\n",
       "      <th>KidneyDisease</th>\n",
       "      <td>319795</td>\n",
       "      <td>2</td>\n",
       "      <td>No</td>\n",
       "      <td>308016</td>\n",
       "    </tr>\n",
       "    <tr>\n",
       "      <th>SkinCancer</th>\n",
       "      <td>319795</td>\n",
       "      <td>2</td>\n",
       "      <td>No</td>\n",
       "      <td>289976</td>\n",
       "    </tr>\n",
       "  </tbody>\n",
       "</table>\n",
       "</div>"
      ],
      "text/plain": [
       "                   count unique        top    freq\n",
       "HeartDisease      319795      2         No  292422\n",
       "Smoking           319795      2         No  187887\n",
       "AlcoholDrinking   319795      2         No  298018\n",
       "Stroke            319795      2         No  307726\n",
       "DiffWalking       319795      2         No  275385\n",
       "Sex               319795      2     Female  167805\n",
       "AgeCategory       319795     13      65-69   34151\n",
       "Race              319795      6      White  245212\n",
       "Diabetic          319795      4         No  269653\n",
       "PhysicalActivity  319795      2        Yes  247957\n",
       "GenHealth         319795      5  Very good  113858\n",
       "Asthma            319795      2         No  276923\n",
       "KidneyDisease     319795      2         No  308016\n",
       "SkinCancer        319795      2         No  289976"
      ]
     },
     "execution_count": 82,
     "metadata": {},
     "output_type": "execute_result"
    }
   ],
   "source": [
    "df.describe(include = \"object\").T"
   ]
  },
  {
   "cell_type": "code",
   "execution_count": 83,
   "id": "155b16fd",
   "metadata": {
    "colab": {
     "base_uri": "https://localhost:8080/",
     "height": 487
    },
    "id": "7e0ee066",
    "outputId": "b4102d37-9861-4e49-b919-6a3ee9c4b966",
    "scrolled": true
   },
   "outputs": [
    {
     "data": {
      "text/html": [
       "<div>\n",
       "<style scoped>\n",
       "    .dataframe tbody tr th:only-of-type {\n",
       "        vertical-align: middle;\n",
       "    }\n",
       "\n",
       "    .dataframe tbody tr th {\n",
       "        vertical-align: top;\n",
       "    }\n",
       "\n",
       "    .dataframe thead th {\n",
       "        text-align: right;\n",
       "    }\n",
       "</style>\n",
       "<table border=\"1\" class=\"dataframe\">\n",
       "  <thead>\n",
       "    <tr style=\"text-align: right;\">\n",
       "      <th></th>\n",
       "      <th>HeartDisease</th>\n",
       "      <th>BMI</th>\n",
       "      <th>Smoking</th>\n",
       "      <th>AlcoholDrinking</th>\n",
       "      <th>Stroke</th>\n",
       "      <th>PhysicalHealth</th>\n",
       "      <th>MentalHealth</th>\n",
       "      <th>DiffWalking</th>\n",
       "      <th>Sex</th>\n",
       "      <th>AgeCategory</th>\n",
       "      <th>Race</th>\n",
       "      <th>Diabetic</th>\n",
       "      <th>PhysicalActivity</th>\n",
       "      <th>GenHealth</th>\n",
       "      <th>SleepTime</th>\n",
       "      <th>Asthma</th>\n",
       "      <th>KidneyDisease</th>\n",
       "      <th>SkinCancer</th>\n",
       "    </tr>\n",
       "  </thead>\n",
       "  <tbody>\n",
       "    <tr>\n",
       "      <th>0</th>\n",
       "      <td>No</td>\n",
       "      <td>16.60</td>\n",
       "      <td>Yes</td>\n",
       "      <td>No</td>\n",
       "      <td>No</td>\n",
       "      <td>3.0</td>\n",
       "      <td>30.0</td>\n",
       "      <td>No</td>\n",
       "      <td>Female</td>\n",
       "      <td>55-59</td>\n",
       "      <td>White</td>\n",
       "      <td>Yes</td>\n",
       "      <td>Yes</td>\n",
       "      <td>Very good</td>\n",
       "      <td>5.0</td>\n",
       "      <td>Yes</td>\n",
       "      <td>No</td>\n",
       "      <td>Yes</td>\n",
       "    </tr>\n",
       "    <tr>\n",
       "      <th>1</th>\n",
       "      <td>No</td>\n",
       "      <td>20.34</td>\n",
       "      <td>No</td>\n",
       "      <td>No</td>\n",
       "      <td>Yes</td>\n",
       "      <td>0.0</td>\n",
       "      <td>0.0</td>\n",
       "      <td>No</td>\n",
       "      <td>Female</td>\n",
       "      <td>80 or older</td>\n",
       "      <td>White</td>\n",
       "      <td>No</td>\n",
       "      <td>Yes</td>\n",
       "      <td>Very good</td>\n",
       "      <td>7.0</td>\n",
       "      <td>No</td>\n",
       "      <td>No</td>\n",
       "      <td>No</td>\n",
       "    </tr>\n",
       "    <tr>\n",
       "      <th>2</th>\n",
       "      <td>No</td>\n",
       "      <td>26.58</td>\n",
       "      <td>Yes</td>\n",
       "      <td>No</td>\n",
       "      <td>No</td>\n",
       "      <td>20.0</td>\n",
       "      <td>30.0</td>\n",
       "      <td>No</td>\n",
       "      <td>Male</td>\n",
       "      <td>65-69</td>\n",
       "      <td>White</td>\n",
       "      <td>Yes</td>\n",
       "      <td>Yes</td>\n",
       "      <td>Fair</td>\n",
       "      <td>8.0</td>\n",
       "      <td>Yes</td>\n",
       "      <td>No</td>\n",
       "      <td>No</td>\n",
       "    </tr>\n",
       "    <tr>\n",
       "      <th>3</th>\n",
       "      <td>No</td>\n",
       "      <td>24.21</td>\n",
       "      <td>No</td>\n",
       "      <td>No</td>\n",
       "      <td>No</td>\n",
       "      <td>0.0</td>\n",
       "      <td>0.0</td>\n",
       "      <td>No</td>\n",
       "      <td>Female</td>\n",
       "      <td>75-79</td>\n",
       "      <td>White</td>\n",
       "      <td>No</td>\n",
       "      <td>No</td>\n",
       "      <td>Good</td>\n",
       "      <td>6.0</td>\n",
       "      <td>No</td>\n",
       "      <td>No</td>\n",
       "      <td>Yes</td>\n",
       "    </tr>\n",
       "    <tr>\n",
       "      <th>4</th>\n",
       "      <td>No</td>\n",
       "      <td>23.71</td>\n",
       "      <td>No</td>\n",
       "      <td>No</td>\n",
       "      <td>No</td>\n",
       "      <td>28.0</td>\n",
       "      <td>0.0</td>\n",
       "      <td>Yes</td>\n",
       "      <td>Female</td>\n",
       "      <td>40-44</td>\n",
       "      <td>White</td>\n",
       "      <td>No</td>\n",
       "      <td>Yes</td>\n",
       "      <td>Very good</td>\n",
       "      <td>8.0</td>\n",
       "      <td>No</td>\n",
       "      <td>No</td>\n",
       "      <td>No</td>\n",
       "    </tr>\n",
       "    <tr>\n",
       "      <th>...</th>\n",
       "      <td>...</td>\n",
       "      <td>...</td>\n",
       "      <td>...</td>\n",
       "      <td>...</td>\n",
       "      <td>...</td>\n",
       "      <td>...</td>\n",
       "      <td>...</td>\n",
       "      <td>...</td>\n",
       "      <td>...</td>\n",
       "      <td>...</td>\n",
       "      <td>...</td>\n",
       "      <td>...</td>\n",
       "      <td>...</td>\n",
       "      <td>...</td>\n",
       "      <td>...</td>\n",
       "      <td>...</td>\n",
       "      <td>...</td>\n",
       "      <td>...</td>\n",
       "    </tr>\n",
       "    <tr>\n",
       "      <th>319790</th>\n",
       "      <td>Yes</td>\n",
       "      <td>27.41</td>\n",
       "      <td>Yes</td>\n",
       "      <td>No</td>\n",
       "      <td>No</td>\n",
       "      <td>7.0</td>\n",
       "      <td>0.0</td>\n",
       "      <td>Yes</td>\n",
       "      <td>Male</td>\n",
       "      <td>60-64</td>\n",
       "      <td>Hispanic</td>\n",
       "      <td>Yes</td>\n",
       "      <td>No</td>\n",
       "      <td>Fair</td>\n",
       "      <td>6.0</td>\n",
       "      <td>Yes</td>\n",
       "      <td>No</td>\n",
       "      <td>No</td>\n",
       "    </tr>\n",
       "    <tr>\n",
       "      <th>319791</th>\n",
       "      <td>No</td>\n",
       "      <td>29.84</td>\n",
       "      <td>Yes</td>\n",
       "      <td>No</td>\n",
       "      <td>No</td>\n",
       "      <td>0.0</td>\n",
       "      <td>0.0</td>\n",
       "      <td>No</td>\n",
       "      <td>Male</td>\n",
       "      <td>35-39</td>\n",
       "      <td>Hispanic</td>\n",
       "      <td>No</td>\n",
       "      <td>Yes</td>\n",
       "      <td>Very good</td>\n",
       "      <td>5.0</td>\n",
       "      <td>Yes</td>\n",
       "      <td>No</td>\n",
       "      <td>No</td>\n",
       "    </tr>\n",
       "    <tr>\n",
       "      <th>319792</th>\n",
       "      <td>No</td>\n",
       "      <td>24.24</td>\n",
       "      <td>No</td>\n",
       "      <td>No</td>\n",
       "      <td>No</td>\n",
       "      <td>0.0</td>\n",
       "      <td>0.0</td>\n",
       "      <td>No</td>\n",
       "      <td>Female</td>\n",
       "      <td>45-49</td>\n",
       "      <td>Hispanic</td>\n",
       "      <td>No</td>\n",
       "      <td>Yes</td>\n",
       "      <td>Good</td>\n",
       "      <td>6.0</td>\n",
       "      <td>No</td>\n",
       "      <td>No</td>\n",
       "      <td>No</td>\n",
       "    </tr>\n",
       "    <tr>\n",
       "      <th>319793</th>\n",
       "      <td>No</td>\n",
       "      <td>32.81</td>\n",
       "      <td>No</td>\n",
       "      <td>No</td>\n",
       "      <td>No</td>\n",
       "      <td>0.0</td>\n",
       "      <td>0.0</td>\n",
       "      <td>No</td>\n",
       "      <td>Female</td>\n",
       "      <td>25-29</td>\n",
       "      <td>Hispanic</td>\n",
       "      <td>No</td>\n",
       "      <td>No</td>\n",
       "      <td>Good</td>\n",
       "      <td>12.0</td>\n",
       "      <td>No</td>\n",
       "      <td>No</td>\n",
       "      <td>No</td>\n",
       "    </tr>\n",
       "    <tr>\n",
       "      <th>319794</th>\n",
       "      <td>No</td>\n",
       "      <td>46.56</td>\n",
       "      <td>No</td>\n",
       "      <td>No</td>\n",
       "      <td>No</td>\n",
       "      <td>0.0</td>\n",
       "      <td>0.0</td>\n",
       "      <td>No</td>\n",
       "      <td>Female</td>\n",
       "      <td>80 or older</td>\n",
       "      <td>Hispanic</td>\n",
       "      <td>No</td>\n",
       "      <td>Yes</td>\n",
       "      <td>Good</td>\n",
       "      <td>8.0</td>\n",
       "      <td>No</td>\n",
       "      <td>No</td>\n",
       "      <td>No</td>\n",
       "    </tr>\n",
       "  </tbody>\n",
       "</table>\n",
       "<p>301717 rows × 18 columns</p>\n",
       "</div>"
      ],
      "text/plain": [
       "       HeartDisease    BMI Smoking AlcoholDrinking Stroke  PhysicalHealth  \\\n",
       "0                No  16.60     Yes              No     No             3.0   \n",
       "1                No  20.34      No              No    Yes             0.0   \n",
       "2                No  26.58     Yes              No     No            20.0   \n",
       "3                No  24.21      No              No     No             0.0   \n",
       "4                No  23.71      No              No     No            28.0   \n",
       "...             ...    ...     ...             ...    ...             ...   \n",
       "319790          Yes  27.41     Yes              No     No             7.0   \n",
       "319791           No  29.84     Yes              No     No             0.0   \n",
       "319792           No  24.24      No              No     No             0.0   \n",
       "319793           No  32.81      No              No     No             0.0   \n",
       "319794           No  46.56      No              No     No             0.0   \n",
       "\n",
       "        MentalHealth DiffWalking     Sex  AgeCategory      Race Diabetic  \\\n",
       "0               30.0          No  Female        55-59     White      Yes   \n",
       "1                0.0          No  Female  80 or older     White       No   \n",
       "2               30.0          No    Male        65-69     White      Yes   \n",
       "3                0.0          No  Female        75-79     White       No   \n",
       "4                0.0         Yes  Female        40-44     White       No   \n",
       "...              ...         ...     ...          ...       ...      ...   \n",
       "319790           0.0         Yes    Male        60-64  Hispanic      Yes   \n",
       "319791           0.0          No    Male        35-39  Hispanic       No   \n",
       "319792           0.0          No  Female        45-49  Hispanic       No   \n",
       "319793           0.0          No  Female        25-29  Hispanic       No   \n",
       "319794           0.0          No  Female  80 or older  Hispanic       No   \n",
       "\n",
       "       PhysicalActivity  GenHealth  SleepTime Asthma KidneyDisease SkinCancer  \n",
       "0                   Yes  Very good        5.0    Yes            No        Yes  \n",
       "1                   Yes  Very good        7.0     No            No         No  \n",
       "2                   Yes       Fair        8.0    Yes            No         No  \n",
       "3                    No       Good        6.0     No            No        Yes  \n",
       "4                   Yes  Very good        8.0     No            No         No  \n",
       "...                 ...        ...        ...    ...           ...        ...  \n",
       "319790               No       Fair        6.0    Yes            No         No  \n",
       "319791              Yes  Very good        5.0    Yes            No         No  \n",
       "319792              Yes       Good        6.0     No            No         No  \n",
       "319793               No       Good       12.0     No            No         No  \n",
       "319794              Yes       Good        8.0     No            No         No  \n",
       "\n",
       "[301717 rows x 18 columns]"
      ]
     },
     "execution_count": 83,
     "metadata": {},
     "output_type": "execute_result"
    }
   ],
   "source": [
    "raw_df = df.copy()\n",
    "df.drop_duplicates()"
   ]
  },
  {
   "cell_type": "code",
   "execution_count": 84,
   "id": "81a46e5f",
   "metadata": {
    "colab": {
     "base_uri": "https://localhost:8080/"
    },
    "id": "084fcc53",
    "outputId": "4e0c2356-2d59-4254-b25f-44b49ee48a7c"
   },
   "outputs": [
    {
     "data": {
      "text/plain": [
       "(319795, 18)"
      ]
     },
     "execution_count": 84,
     "metadata": {},
     "output_type": "execute_result"
    }
   ],
   "source": [
    "df.shape"
   ]
  },
  {
   "cell_type": "code",
   "execution_count": 85,
   "id": "56275db1",
   "metadata": {
    "colab": {
     "base_uri": "https://localhost:8080/"
    },
    "id": "a32fd3e4",
    "outputId": "f6205d6e-0a90-476b-a683-32c06fc3ba02"
   },
   "outputs": [
    {
     "data": {
      "text/plain": [
       "18078"
      ]
     },
     "execution_count": 85,
     "metadata": {},
     "output_type": "execute_result"
    }
   ],
   "source": [
    "319795-301717"
   ]
  },
  {
   "cell_type": "raw",
   "id": "095e794a",
   "metadata": {
    "id": "d0e40d22"
   },
   "source": [
    "# We have 18078 duplicated records, maybe they are identical cases but since we're not planning to do any analysis at the moment, we can drop them to avoid any overfitting in our model."
   ]
  },
  {
   "cell_type": "code",
   "execution_count": 86,
   "id": "4dbbe228",
   "metadata": {
    "id": "1c8e92fa"
   },
   "outputs": [],
   "source": [
    "df.drop_duplicates(inplace = True)"
   ]
  },
  {
   "cell_type": "code",
   "execution_count": 87,
   "id": "20d76869",
   "metadata": {
    "colab": {
     "base_uri": "https://localhost:8080/"
    },
    "id": "74839f59",
    "outputId": "e1085cbb-b5df-4348-a071-ca87d0a3d8b9"
   },
   "outputs": [
    {
     "data": {
      "text/plain": [
       "(301717, 18)"
      ]
     },
     "execution_count": 87,
     "metadata": {},
     "output_type": "execute_result"
    }
   ],
   "source": [
    "df.shape"
   ]
  },
  {
   "cell_type": "markdown",
   "id": "aaf27b70",
   "metadata": {
    "id": "51aa1e0c"
   },
   "source": [
    "### Let's check our data for outliers:"
   ]
  },
  {
   "cell_type": "code",
   "execution_count": 88,
   "id": "ea9f2070",
   "metadata": {
    "colab": {
     "base_uri": "https://localhost:8080/",
     "height": 463
    },
    "id": "5dcb4ab0",
    "outputId": "6361e33d-1e2f-4514-f8fe-35bf68406ee9"
   },
   "outputs": [
    {
     "data": {
      "text/plain": [
       "BMI                  AxesSubplot(0.125,0.125;0.168478x0.755)\n",
       "PhysicalHealth    AxesSubplot(0.327174,0.125;0.168478x0.755)\n",
       "MentalHealth      AxesSubplot(0.529348,0.125;0.168478x0.755)\n",
       "SleepTime         AxesSubplot(0.731522,0.125;0.168478x0.755)\n",
       "dtype: object"
      ]
     },
     "execution_count": 88,
     "metadata": {},
     "output_type": "execute_result"
    },
    {
     "data": {
      "image/png": "[encoded data removed]",
      "text/plain": [
       "<Figure size 720x288 with 4 Axes>"
      ]
     },
     "metadata": {
      "needs_background": "light"
     },
     "output_type": "display_data"
    }
   ],
   "source": [
    "df.plot(kind = \"box\", figsize = (10,4), subplots = True)"
   ]
  },
  {
   "cell_type": "code",
   "execution_count": 89,
   "id": "6dde4d37",
   "metadata": {
    "colab": {
     "base_uri": "https://localhost:8080/",
     "height": 560
    },
    "id": "1ae107f9",
    "outputId": "ef7bd1d9-68d2-4983-a0ab-c16f5c037196"
   },
   "outputs": [
    {
     "data": {
      "text/plain": [
       "<AxesSubplot:xlabel='BMI', ylabel='PhysicalHealth'>"
      ]
     },
     "execution_count": 89,
     "metadata": {},
     "output_type": "execute_result"
    },
    {
     "name": "stderr",
     "output_type": "stream",
     "text": [
      "/opt/anaconda3/lib/python3.9/site-packages/IPython/core/pylabtools.py:151: UserWarning: Creating legend with loc=\"best\" can be slow with large amounts of data.\n",
      "  fig.canvas.print_figure(bytes_io, **kw)\n"
     ]
    },
    {
     "data": {
      "image/png": "[encoded data removed]",
      "text/plain": [
       "<Figure size 432x288 with 1 Axes>"
      ]
     },
     "metadata": {
      "needs_background": "light"
     },
     "output_type": "display_data"
    }
   ],
   "source": [
    "sns.scatterplot(data=df, x=df.BMI, y=df.PhysicalHealth, hue=df.HeartDisease)"
   ]
  },
  {
   "cell_type": "markdown",
   "id": "a350e54a",
   "metadata": {},
   "source": [
    "#### We can notice that most of our outliers are of the majority class, which makes perfect sense."
   ]
  },
  {
   "cell_type": "markdown",
   "id": "5d62abb8",
   "metadata": {
    "id": "de1a1c93"
   },
   "source": [
    "### Let's first detect these outliers:"
   ]
  },
  {
   "cell_type": "code",
   "execution_count": 90,
   "id": "e9c22b06",
   "metadata": {
    "id": "8ed8cd41"
   },
   "outputs": [],
   "source": [
    "data = df.copy()"
   ]
  },
  {
   "cell_type": "code",
   "execution_count": 91,
   "id": "18bd4e8e",
   "metadata": {
    "colab": {
     "base_uri": "https://localhost:8080/"
    },
    "id": "be0e46af",
    "outputId": "e7cd744d-3160-4134-e8e1-0015c6b24455"
   },
   "outputs": [
    {
     "name": "stdout",
     "output_type": "stream",
     "text": [
      "['BMI', 'PhysicalHealth', 'MentalHealth', 'SleepTime']\n"
     ]
    }
   ],
   "source": [
    "num_data=[]\n",
    "for i in data.columns:\n",
    "    if data[i].dtype==float :\n",
    "        num_data.append(i)\n",
    "print(num_data)"
   ]
  },
  {
   "cell_type": "code",
   "execution_count": 92,
   "id": "8bbcc4a7",
   "metadata": {
    "colab": {
     "base_uri": "https://localhost:8080/",
     "height": 423
    },
    "id": "e4c185fd",
    "outputId": "34887ec6-c322-4968-916f-ad7d66134c7f"
   },
   "outputs": [
    {
     "data": {
      "text/html": [
       "<div>\n",
       "<style scoped>\n",
       "    .dataframe tbody tr th:only-of-type {\n",
       "        vertical-align: middle;\n",
       "    }\n",
       "\n",
       "    .dataframe tbody tr th {\n",
       "        vertical-align: top;\n",
       "    }\n",
       "\n",
       "    .dataframe thead th {\n",
       "        text-align: right;\n",
       "    }\n",
       "</style>\n",
       "<table border=\"1\" class=\"dataframe\">\n",
       "  <thead>\n",
       "    <tr style=\"text-align: right;\">\n",
       "      <th></th>\n",
       "      <th>BMI</th>\n",
       "      <th>PhysicalHealth</th>\n",
       "      <th>MentalHealth</th>\n",
       "      <th>SleepTime</th>\n",
       "    </tr>\n",
       "  </thead>\n",
       "  <tbody>\n",
       "    <tr>\n",
       "      <th>0</th>\n",
       "      <td>16.60</td>\n",
       "      <td>3.0</td>\n",
       "      <td>30.0</td>\n",
       "      <td>5.0</td>\n",
       "    </tr>\n",
       "    <tr>\n",
       "      <th>1</th>\n",
       "      <td>20.34</td>\n",
       "      <td>0.0</td>\n",
       "      <td>0.0</td>\n",
       "      <td>7.0</td>\n",
       "    </tr>\n",
       "    <tr>\n",
       "      <th>2</th>\n",
       "      <td>26.58</td>\n",
       "      <td>20.0</td>\n",
       "      <td>30.0</td>\n",
       "      <td>8.0</td>\n",
       "    </tr>\n",
       "    <tr>\n",
       "      <th>3</th>\n",
       "      <td>24.21</td>\n",
       "      <td>0.0</td>\n",
       "      <td>0.0</td>\n",
       "      <td>6.0</td>\n",
       "    </tr>\n",
       "    <tr>\n",
       "      <th>4</th>\n",
       "      <td>23.71</td>\n",
       "      <td>28.0</td>\n",
       "      <td>0.0</td>\n",
       "      <td>8.0</td>\n",
       "    </tr>\n",
       "    <tr>\n",
       "      <th>...</th>\n",
       "      <td>...</td>\n",
       "      <td>...</td>\n",
       "      <td>...</td>\n",
       "      <td>...</td>\n",
       "    </tr>\n",
       "    <tr>\n",
       "      <th>319790</th>\n",
       "      <td>27.41</td>\n",
       "      <td>7.0</td>\n",
       "      <td>0.0</td>\n",
       "      <td>6.0</td>\n",
       "    </tr>\n",
       "    <tr>\n",
       "      <th>319791</th>\n",
       "      <td>29.84</td>\n",
       "      <td>0.0</td>\n",
       "      <td>0.0</td>\n",
       "      <td>5.0</td>\n",
       "    </tr>\n",
       "    <tr>\n",
       "      <th>319792</th>\n",
       "      <td>24.24</td>\n",
       "      <td>0.0</td>\n",
       "      <td>0.0</td>\n",
       "      <td>6.0</td>\n",
       "    </tr>\n",
       "    <tr>\n",
       "      <th>319793</th>\n",
       "      <td>32.81</td>\n",
       "      <td>0.0</td>\n",
       "      <td>0.0</td>\n",
       "      <td>12.0</td>\n",
       "    </tr>\n",
       "    <tr>\n",
       "      <th>319794</th>\n",
       "      <td>46.56</td>\n",
       "      <td>0.0</td>\n",
       "      <td>0.0</td>\n",
       "      <td>8.0</td>\n",
       "    </tr>\n",
       "  </tbody>\n",
       "</table>\n",
       "<p>301717 rows × 4 columns</p>\n",
       "</div>"
      ],
      "text/plain": [
       "          BMI  PhysicalHealth  MentalHealth  SleepTime\n",
       "0       16.60             3.0          30.0        5.0\n",
       "1       20.34             0.0           0.0        7.0\n",
       "2       26.58            20.0          30.0        8.0\n",
       "3       24.21             0.0           0.0        6.0\n",
       "4       23.71            28.0           0.0        8.0\n",
       "...       ...             ...           ...        ...\n",
       "319790  27.41             7.0           0.0        6.0\n",
       "319791  29.84             0.0           0.0        5.0\n",
       "319792  24.24             0.0           0.0        6.0\n",
       "319793  32.81             0.0           0.0       12.0\n",
       "319794  46.56             0.0           0.0        8.0\n",
       "\n",
       "[301717 rows x 4 columns]"
      ]
     },
     "execution_count": 92,
     "metadata": {},
     "output_type": "execute_result"
    }
   ],
   "source": [
    "data[num_data]"
   ]
  },
  {
   "cell_type": "code",
   "execution_count": 93,
   "id": "a15450cb",
   "metadata": {
    "id": "5855dd7e"
   },
   "outputs": [],
   "source": [
    "from scipy.stats import zscore"
   ]
  },
  {
   "cell_type": "code",
   "execution_count": 94,
   "id": "15990ea3",
   "metadata": {
    "id": "f683a7e2"
   },
   "outputs": [],
   "source": [
    "Z_score= zscore(data[num_data])"
   ]
  },
  {
   "cell_type": "code",
   "execution_count": 95,
   "id": "ac19555f",
   "metadata": {
    "colab": {
     "base_uri": "https://localhost:8080/",
     "height": 423
    },
    "id": "cfa392da",
    "outputId": "db13fa84-ace4-46bd-cfec-a6ccca534222"
   },
   "outputs": [
    {
     "data": {
      "text/html": [
       "<div>\n",
       "<style scoped>\n",
       "    .dataframe tbody tr th:only-of-type {\n",
       "        vertical-align: middle;\n",
       "    }\n",
       "\n",
       "    .dataframe tbody tr th {\n",
       "        vertical-align: top;\n",
       "    }\n",
       "\n",
       "    .dataframe thead th {\n",
       "        text-align: right;\n",
       "    }\n",
       "</style>\n",
       "<table border=\"1\" class=\"dataframe\">\n",
       "  <thead>\n",
       "    <tr style=\"text-align: right;\">\n",
       "      <th></th>\n",
       "      <th>BMI</th>\n",
       "      <th>PhysicalHealth</th>\n",
       "      <th>MentalHealth</th>\n",
       "      <th>SleepTime</th>\n",
       "    </tr>\n",
       "  </thead>\n",
       "  <tbody>\n",
       "    <tr>\n",
       "      <th>0</th>\n",
       "      <td>-1.830820</td>\n",
       "      <td>-0.070301</td>\n",
       "      <td>3.183766</td>\n",
       "      <td>-1.420852</td>\n",
       "    </tr>\n",
       "    <tr>\n",
       "      <th>1</th>\n",
       "      <td>-1.252600</td>\n",
       "      <td>-0.438823</td>\n",
       "      <td>-0.507054</td>\n",
       "      <td>-0.057636</td>\n",
       "    </tr>\n",
       "    <tr>\n",
       "      <th>2</th>\n",
       "      <td>-0.287869</td>\n",
       "      <td>2.017986</td>\n",
       "      <td>3.183766</td>\n",
       "      <td>0.623971</td>\n",
       "    </tr>\n",
       "    <tr>\n",
       "      <th>3</th>\n",
       "      <td>-0.654281</td>\n",
       "      <td>-0.438823</td>\n",
       "      <td>-0.507054</td>\n",
       "      <td>-0.739244</td>\n",
       "    </tr>\n",
       "    <tr>\n",
       "      <th>4</th>\n",
       "      <td>-0.731583</td>\n",
       "      <td>3.000709</td>\n",
       "      <td>-0.507054</td>\n",
       "      <td>0.623971</td>\n",
       "    </tr>\n",
       "    <tr>\n",
       "      <th>...</th>\n",
       "      <td>...</td>\n",
       "      <td>...</td>\n",
       "      <td>...</td>\n",
       "      <td>...</td>\n",
       "    </tr>\n",
       "    <tr>\n",
       "      <th>319790</th>\n",
       "      <td>-0.159547</td>\n",
       "      <td>0.421060</td>\n",
       "      <td>-0.507054</td>\n",
       "      <td>-0.739244</td>\n",
       "    </tr>\n",
       "    <tr>\n",
       "      <th>319791</th>\n",
       "      <td>0.216141</td>\n",
       "      <td>-0.438823</td>\n",
       "      <td>-0.507054</td>\n",
       "      <td>-1.420852</td>\n",
       "    </tr>\n",
       "    <tr>\n",
       "      <th>319792</th>\n",
       "      <td>-0.649643</td>\n",
       "      <td>-0.438823</td>\n",
       "      <td>-0.507054</td>\n",
       "      <td>-0.739244</td>\n",
       "    </tr>\n",
       "    <tr>\n",
       "      <th>319793</th>\n",
       "      <td>0.675316</td>\n",
       "      <td>-0.438823</td>\n",
       "      <td>-0.507054</td>\n",
       "      <td>3.350402</td>\n",
       "    </tr>\n",
       "    <tr>\n",
       "      <th>319794</th>\n",
       "      <td>2.801126</td>\n",
       "      <td>-0.438823</td>\n",
       "      <td>-0.507054</td>\n",
       "      <td>0.623971</td>\n",
       "    </tr>\n",
       "  </tbody>\n",
       "</table>\n",
       "<p>301717 rows × 4 columns</p>\n",
       "</div>"
      ],
      "text/plain": [
       "             BMI  PhysicalHealth  MentalHealth  SleepTime\n",
       "0      -1.830820       -0.070301      3.183766  -1.420852\n",
       "1      -1.252600       -0.438823     -0.507054  -0.057636\n",
       "2      -0.287869        2.017986      3.183766   0.623971\n",
       "3      -0.654281       -0.438823     -0.507054  -0.739244\n",
       "4      -0.731583        3.000709     -0.507054   0.623971\n",
       "...          ...             ...           ...        ...\n",
       "319790 -0.159547        0.421060     -0.507054  -0.739244\n",
       "319791  0.216141       -0.438823     -0.507054  -1.420852\n",
       "319792 -0.649643       -0.438823     -0.507054  -0.739244\n",
       "319793  0.675316       -0.438823     -0.507054   3.350402\n",
       "319794  2.801126       -0.438823     -0.507054   0.623971\n",
       "\n",
       "[301717 rows x 4 columns]"
      ]
     },
     "execution_count": 95,
     "metadata": {},
     "output_type": "execute_result"
    }
   ],
   "source": [
    "Z_score"
   ]
  },
  {
   "cell_type": "markdown",
   "id": "81b78e4b",
   "metadata": {
    "id": "09df7da1"
   },
   "source": [
    "We will need to get only the absolute values for a single comparison operation:"
   ]
  },
  {
   "cell_type": "code",
   "execution_count": 96,
   "id": "0cd60443",
   "metadata": {
    "colab": {
     "base_uri": "https://localhost:8080/",
     "height": 423
    },
    "id": "0ea32901",
    "outputId": "2bc8b63f-87e3-42a4-d097-ef490310e62e"
   },
   "outputs": [
    {
     "data": {
      "text/html": [
       "<div>\n",
       "<style scoped>\n",
       "    .dataframe tbody tr th:only-of-type {\n",
       "        vertical-align: middle;\n",
       "    }\n",
       "\n",
       "    .dataframe tbody tr th {\n",
       "        vertical-align: top;\n",
       "    }\n",
       "\n",
       "    .dataframe thead th {\n",
       "        text-align: right;\n",
       "    }\n",
       "</style>\n",
       "<table border=\"1\" class=\"dataframe\">\n",
       "  <thead>\n",
       "    <tr style=\"text-align: right;\">\n",
       "      <th></th>\n",
       "      <th>BMI</th>\n",
       "      <th>PhysicalHealth</th>\n",
       "      <th>MentalHealth</th>\n",
       "      <th>SleepTime</th>\n",
       "    </tr>\n",
       "  </thead>\n",
       "  <tbody>\n",
       "    <tr>\n",
       "      <th>0</th>\n",
       "      <td>1.830820</td>\n",
       "      <td>0.070301</td>\n",
       "      <td>3.183766</td>\n",
       "      <td>1.420852</td>\n",
       "    </tr>\n",
       "    <tr>\n",
       "      <th>1</th>\n",
       "      <td>1.252600</td>\n",
       "      <td>0.438823</td>\n",
       "      <td>0.507054</td>\n",
       "      <td>0.057636</td>\n",
       "    </tr>\n",
       "    <tr>\n",
       "      <th>2</th>\n",
       "      <td>0.287869</td>\n",
       "      <td>2.017986</td>\n",
       "      <td>3.183766</td>\n",
       "      <td>0.623971</td>\n",
       "    </tr>\n",
       "    <tr>\n",
       "      <th>3</th>\n",
       "      <td>0.654281</td>\n",
       "      <td>0.438823</td>\n",
       "      <td>0.507054</td>\n",
       "      <td>0.739244</td>\n",
       "    </tr>\n",
       "    <tr>\n",
       "      <th>4</th>\n",
       "      <td>0.731583</td>\n",
       "      <td>3.000709</td>\n",
       "      <td>0.507054</td>\n",
       "      <td>0.623971</td>\n",
       "    </tr>\n",
       "    <tr>\n",
       "      <th>...</th>\n",
       "      <td>...</td>\n",
       "      <td>...</td>\n",
       "      <td>...</td>\n",
       "      <td>...</td>\n",
       "    </tr>\n",
       "    <tr>\n",
       "      <th>319790</th>\n",
       "      <td>0.159547</td>\n",
       "      <td>0.421060</td>\n",
       "      <td>0.507054</td>\n",
       "      <td>0.739244</td>\n",
       "    </tr>\n",
       "    <tr>\n",
       "      <th>319791</th>\n",
       "      <td>0.216141</td>\n",
       "      <td>0.438823</td>\n",
       "      <td>0.507054</td>\n",
       "      <td>1.420852</td>\n",
       "    </tr>\n",
       "    <tr>\n",
       "      <th>319792</th>\n",
       "      <td>0.649643</td>\n",
       "      <td>0.438823</td>\n",
       "      <td>0.507054</td>\n",
       "      <td>0.739244</td>\n",
       "    </tr>\n",
       "    <tr>\n",
       "      <th>319793</th>\n",
       "      <td>0.675316</td>\n",
       "      <td>0.438823</td>\n",
       "      <td>0.507054</td>\n",
       "      <td>3.350402</td>\n",
       "    </tr>\n",
       "    <tr>\n",
       "      <th>319794</th>\n",
       "      <td>2.801126</td>\n",
       "      <td>0.438823</td>\n",
       "      <td>0.507054</td>\n",
       "      <td>0.623971</td>\n",
       "    </tr>\n",
       "  </tbody>\n",
       "</table>\n",
       "<p>301717 rows × 4 columns</p>\n",
       "</div>"
      ],
      "text/plain": [
       "             BMI  PhysicalHealth  MentalHealth  SleepTime\n",
       "0       1.830820        0.070301      3.183766   1.420852\n",
       "1       1.252600        0.438823      0.507054   0.057636\n",
       "2       0.287869        2.017986      3.183766   0.623971\n",
       "3       0.654281        0.438823      0.507054   0.739244\n",
       "4       0.731583        3.000709      0.507054   0.623971\n",
       "...          ...             ...           ...        ...\n",
       "319790  0.159547        0.421060      0.507054   0.739244\n",
       "319791  0.216141        0.438823      0.507054   1.420852\n",
       "319792  0.649643        0.438823      0.507054   0.739244\n",
       "319793  0.675316        0.438823      0.507054   3.350402\n",
       "319794  2.801126        0.438823      0.507054   0.623971\n",
       "\n",
       "[301717 rows x 4 columns]"
      ]
     },
     "execution_count": 96,
     "metadata": {},
     "output_type": "execute_result"
    }
   ],
   "source": [
    "Abs_scores = np.abs(Z_score)\n",
    "Abs_scores"
   ]
  },
  {
   "cell_type": "code",
   "execution_count": 97,
   "id": "bda4f7f9",
   "metadata": {
    "colab": {
     "base_uri": "https://localhost:8080/"
    },
    "id": "b9a0d0f8",
    "outputId": "c053e658-b16c-47a2-8833-17335d194b10",
    "scrolled": true
   },
   "outputs": [
    {
     "name": "stdout",
     "output_type": "stream",
     "text": [
      "0         False\n",
      "1          True\n",
      "2         False\n",
      "3          True\n",
      "4         False\n",
      "          ...  \n",
      "319790     True\n",
      "319791     True\n",
      "319792     True\n",
      "319793    False\n",
      "319794     True\n",
      "Length: 301717, dtype: bool\n"
     ]
    }
   ],
   "source": [
    "no_outliers = (Abs_scores<3).all(axis=1)\n",
    "# A function that originally returns \"True\" if all elements are there and there are no missing values, but\n",
    "# if we modify it a little like we did in the above code it will return \"True\" only when the condition is\n",
    "# met.\n",
    "\n",
    "print(no_outliers)"
   ]
  },
  {
   "cell_type": "code",
   "execution_count": 98,
   "id": "bfb2cb10",
   "metadata": {
    "colab": {
     "base_uri": "https://localhost:8080/",
     "height": 522
    },
    "id": "f8872b5a",
    "outputId": "275af411-1332-4309-fe40-970044541d4b"
   },
   "outputs": [
    {
     "data": {
      "text/html": [
       "<div>\n",
       "<style scoped>\n",
       "    .dataframe tbody tr th:only-of-type {\n",
       "        vertical-align: middle;\n",
       "    }\n",
       "\n",
       "    .dataframe tbody tr th {\n",
       "        vertical-align: top;\n",
       "    }\n",
       "\n",
       "    .dataframe thead th {\n",
       "        text-align: right;\n",
       "    }\n",
       "</style>\n",
       "<table border=\"1\" class=\"dataframe\">\n",
       "  <thead>\n",
       "    <tr style=\"text-align: right;\">\n",
       "      <th></th>\n",
       "      <th>HeartDisease</th>\n",
       "      <th>BMI</th>\n",
       "      <th>Smoking</th>\n",
       "      <th>AlcoholDrinking</th>\n",
       "      <th>Stroke</th>\n",
       "      <th>PhysicalHealth</th>\n",
       "      <th>MentalHealth</th>\n",
       "      <th>DiffWalking</th>\n",
       "      <th>Sex</th>\n",
       "      <th>AgeCategory</th>\n",
       "      <th>Race</th>\n",
       "      <th>Diabetic</th>\n",
       "      <th>PhysicalActivity</th>\n",
       "      <th>GenHealth</th>\n",
       "      <th>SleepTime</th>\n",
       "      <th>Asthma</th>\n",
       "      <th>KidneyDisease</th>\n",
       "      <th>SkinCancer</th>\n",
       "    </tr>\n",
       "  </thead>\n",
       "  <tbody>\n",
       "    <tr>\n",
       "      <th>1</th>\n",
       "      <td>No</td>\n",
       "      <td>20.34</td>\n",
       "      <td>No</td>\n",
       "      <td>No</td>\n",
       "      <td>Yes</td>\n",
       "      <td>0.0</td>\n",
       "      <td>0.0</td>\n",
       "      <td>No</td>\n",
       "      <td>Female</td>\n",
       "      <td>80 or older</td>\n",
       "      <td>White</td>\n",
       "      <td>No</td>\n",
       "      <td>Yes</td>\n",
       "      <td>Very good</td>\n",
       "      <td>7.0</td>\n",
       "      <td>No</td>\n",
       "      <td>No</td>\n",
       "      <td>No</td>\n",
       "    </tr>\n",
       "    <tr>\n",
       "      <th>3</th>\n",
       "      <td>No</td>\n",
       "      <td>24.21</td>\n",
       "      <td>No</td>\n",
       "      <td>No</td>\n",
       "      <td>No</td>\n",
       "      <td>0.0</td>\n",
       "      <td>0.0</td>\n",
       "      <td>No</td>\n",
       "      <td>Female</td>\n",
       "      <td>75-79</td>\n",
       "      <td>White</td>\n",
       "      <td>No</td>\n",
       "      <td>No</td>\n",
       "      <td>Good</td>\n",
       "      <td>6.0</td>\n",
       "      <td>No</td>\n",
       "      <td>No</td>\n",
       "      <td>Yes</td>\n",
       "    </tr>\n",
       "    <tr>\n",
       "      <th>6</th>\n",
       "      <td>No</td>\n",
       "      <td>21.63</td>\n",
       "      <td>No</td>\n",
       "      <td>No</td>\n",
       "      <td>No</td>\n",
       "      <td>15.0</td>\n",
       "      <td>0.0</td>\n",
       "      <td>No</td>\n",
       "      <td>Female</td>\n",
       "      <td>70-74</td>\n",
       "      <td>White</td>\n",
       "      <td>No</td>\n",
       "      <td>Yes</td>\n",
       "      <td>Fair</td>\n",
       "      <td>4.0</td>\n",
       "      <td>Yes</td>\n",
       "      <td>No</td>\n",
       "      <td>Yes</td>\n",
       "    </tr>\n",
       "    <tr>\n",
       "      <th>7</th>\n",
       "      <td>No</td>\n",
       "      <td>31.64</td>\n",
       "      <td>Yes</td>\n",
       "      <td>No</td>\n",
       "      <td>No</td>\n",
       "      <td>5.0</td>\n",
       "      <td>0.0</td>\n",
       "      <td>Yes</td>\n",
       "      <td>Female</td>\n",
       "      <td>80 or older</td>\n",
       "      <td>White</td>\n",
       "      <td>Yes</td>\n",
       "      <td>No</td>\n",
       "      <td>Good</td>\n",
       "      <td>9.0</td>\n",
       "      <td>Yes</td>\n",
       "      <td>No</td>\n",
       "      <td>No</td>\n",
       "    </tr>\n",
       "    <tr>\n",
       "      <th>8</th>\n",
       "      <td>No</td>\n",
       "      <td>26.45</td>\n",
       "      <td>No</td>\n",
       "      <td>No</td>\n",
       "      <td>No</td>\n",
       "      <td>0.0</td>\n",
       "      <td>0.0</td>\n",
       "      <td>No</td>\n",
       "      <td>Female</td>\n",
       "      <td>80 or older</td>\n",
       "      <td>White</td>\n",
       "      <td>No, borderline diabetes</td>\n",
       "      <td>No</td>\n",
       "      <td>Fair</td>\n",
       "      <td>5.0</td>\n",
       "      <td>No</td>\n",
       "      <td>Yes</td>\n",
       "      <td>No</td>\n",
       "    </tr>\n",
       "    <tr>\n",
       "      <th>...</th>\n",
       "      <td>...</td>\n",
       "      <td>...</td>\n",
       "      <td>...</td>\n",
       "      <td>...</td>\n",
       "      <td>...</td>\n",
       "      <td>...</td>\n",
       "      <td>...</td>\n",
       "      <td>...</td>\n",
       "      <td>...</td>\n",
       "      <td>...</td>\n",
       "      <td>...</td>\n",
       "      <td>...</td>\n",
       "      <td>...</td>\n",
       "      <td>...</td>\n",
       "      <td>...</td>\n",
       "      <td>...</td>\n",
       "      <td>...</td>\n",
       "      <td>...</td>\n",
       "    </tr>\n",
       "    <tr>\n",
       "      <th>319789</th>\n",
       "      <td>No</td>\n",
       "      <td>22.22</td>\n",
       "      <td>No</td>\n",
       "      <td>No</td>\n",
       "      <td>No</td>\n",
       "      <td>0.0</td>\n",
       "      <td>0.0</td>\n",
       "      <td>No</td>\n",
       "      <td>Female</td>\n",
       "      <td>18-24</td>\n",
       "      <td>Hispanic</td>\n",
       "      <td>No</td>\n",
       "      <td>Yes</td>\n",
       "      <td>Excellent</td>\n",
       "      <td>8.0</td>\n",
       "      <td>No</td>\n",
       "      <td>No</td>\n",
       "      <td>No</td>\n",
       "    </tr>\n",
       "    <tr>\n",
       "      <th>319790</th>\n",
       "      <td>Yes</td>\n",
       "      <td>27.41</td>\n",
       "      <td>Yes</td>\n",
       "      <td>No</td>\n",
       "      <td>No</td>\n",
       "      <td>7.0</td>\n",
       "      <td>0.0</td>\n",
       "      <td>Yes</td>\n",
       "      <td>Male</td>\n",
       "      <td>60-64</td>\n",
       "      <td>Hispanic</td>\n",
       "      <td>Yes</td>\n",
       "      <td>No</td>\n",
       "      <td>Fair</td>\n",
       "      <td>6.0</td>\n",
       "      <td>Yes</td>\n",
       "      <td>No</td>\n",
       "      <td>No</td>\n",
       "    </tr>\n",
       "    <tr>\n",
       "      <th>319791</th>\n",
       "      <td>No</td>\n",
       "      <td>29.84</td>\n",
       "      <td>Yes</td>\n",
       "      <td>No</td>\n",
       "      <td>No</td>\n",
       "      <td>0.0</td>\n",
       "      <td>0.0</td>\n",
       "      <td>No</td>\n",
       "      <td>Male</td>\n",
       "      <td>35-39</td>\n",
       "      <td>Hispanic</td>\n",
       "      <td>No</td>\n",
       "      <td>Yes</td>\n",
       "      <td>Very good</td>\n",
       "      <td>5.0</td>\n",
       "      <td>Yes</td>\n",
       "      <td>No</td>\n",
       "      <td>No</td>\n",
       "    </tr>\n",
       "    <tr>\n",
       "      <th>319792</th>\n",
       "      <td>No</td>\n",
       "      <td>24.24</td>\n",
       "      <td>No</td>\n",
       "      <td>No</td>\n",
       "      <td>No</td>\n",
       "      <td>0.0</td>\n",
       "      <td>0.0</td>\n",
       "      <td>No</td>\n",
       "      <td>Female</td>\n",
       "      <td>45-49</td>\n",
       "      <td>Hispanic</td>\n",
       "      <td>No</td>\n",
       "      <td>Yes</td>\n",
       "      <td>Good</td>\n",
       "      <td>6.0</td>\n",
       "      <td>No</td>\n",
       "      <td>No</td>\n",
       "      <td>No</td>\n",
       "    </tr>\n",
       "    <tr>\n",
       "      <th>319794</th>\n",
       "      <td>No</td>\n",
       "      <td>46.56</td>\n",
       "      <td>No</td>\n",
       "      <td>No</td>\n",
       "      <td>No</td>\n",
       "      <td>0.0</td>\n",
       "      <td>0.0</td>\n",
       "      <td>No</td>\n",
       "      <td>Female</td>\n",
       "      <td>80 or older</td>\n",
       "      <td>Hispanic</td>\n",
       "      <td>No</td>\n",
       "      <td>Yes</td>\n",
       "      <td>Good</td>\n",
       "      <td>8.0</td>\n",
       "      <td>No</td>\n",
       "      <td>No</td>\n",
       "      <td>No</td>\n",
       "    </tr>\n",
       "  </tbody>\n",
       "</table>\n",
       "<p>262924 rows × 18 columns</p>\n",
       "</div>"
      ],
      "text/plain": [
       "       HeartDisease    BMI Smoking AlcoholDrinking Stroke  PhysicalHealth  \\\n",
       "1                No  20.34      No              No    Yes             0.0   \n",
       "3                No  24.21      No              No     No             0.0   \n",
       "6                No  21.63      No              No     No            15.0   \n",
       "7                No  31.64     Yes              No     No             5.0   \n",
       "8                No  26.45      No              No     No             0.0   \n",
       "...             ...    ...     ...             ...    ...             ...   \n",
       "319789           No  22.22      No              No     No             0.0   \n",
       "319790          Yes  27.41     Yes              No     No             7.0   \n",
       "319791           No  29.84     Yes              No     No             0.0   \n",
       "319792           No  24.24      No              No     No             0.0   \n",
       "319794           No  46.56      No              No     No             0.0   \n",
       "\n",
       "        MentalHealth DiffWalking     Sex  AgeCategory      Race  \\\n",
       "1                0.0          No  Female  80 or older     White   \n",
       "3                0.0          No  Female        75-79     White   \n",
       "6                0.0          No  Female        70-74     White   \n",
       "7                0.0         Yes  Female  80 or older     White   \n",
       "8                0.0          No  Female  80 or older     White   \n",
       "...              ...         ...     ...          ...       ...   \n",
       "319789           0.0          No  Female        18-24  Hispanic   \n",
       "319790           0.0         Yes    Male        60-64  Hispanic   \n",
       "319791           0.0          No    Male        35-39  Hispanic   \n",
       "319792           0.0          No  Female        45-49  Hispanic   \n",
       "319794           0.0          No  Female  80 or older  Hispanic   \n",
       "\n",
       "                       Diabetic PhysicalActivity  GenHealth  SleepTime Asthma  \\\n",
       "1                            No              Yes  Very good        7.0     No   \n",
       "3                            No               No       Good        6.0     No   \n",
       "6                            No              Yes       Fair        4.0    Yes   \n",
       "7                           Yes               No       Good        9.0    Yes   \n",
       "8       No, borderline diabetes               No       Fair        5.0     No   \n",
       "...                         ...              ...        ...        ...    ...   \n",
       "319789                       No              Yes  Excellent        8.0     No   \n",
       "319790                      Yes               No       Fair        6.0    Yes   \n",
       "319791                       No              Yes  Very good        5.0    Yes   \n",
       "319792                       No              Yes       Good        6.0     No   \n",
       "319794                       No              Yes       Good        8.0     No   \n",
       "\n",
       "       KidneyDisease SkinCancer  \n",
       "1                 No         No  \n",
       "3                 No        Yes  \n",
       "6                 No        Yes  \n",
       "7                 No         No  \n",
       "8                Yes         No  \n",
       "...              ...        ...  \n",
       "319789            No         No  \n",
       "319790            No         No  \n",
       "319791            No         No  \n",
       "319792            No         No  \n",
       "319794            No         No  \n",
       "\n",
       "[262924 rows x 18 columns]"
      ]
     },
     "execution_count": 98,
     "metadata": {},
     "output_type": "execute_result"
    }
   ],
   "source": [
    "data[no_outliers]\n",
    "# Now we will get only the rows with \"True\" values which don't have any outliers in any of their features"
   ]
  },
  {
   "cell_type": "code",
   "execution_count": 99,
   "id": "836db3f5",
   "metadata": {
    "colab": {
     "base_uri": "https://localhost:8080/"
    },
    "id": "c708dca2",
    "outputId": "c11c8267-abd9-498f-ba2a-52f3e96a8fa9"
   },
   "outputs": [
    {
     "data": {
      "text/plain": [
       "(301717, 18)"
      ]
     },
     "execution_count": 99,
     "metadata": {},
     "output_type": "execute_result"
    }
   ],
   "source": [
    "df.shape"
   ]
  },
  {
   "cell_type": "code",
   "execution_count": 100,
   "id": "2fc3c5b5",
   "metadata": {
    "colab": {
     "base_uri": "https://localhost:8080/",
     "height": 423
    },
    "id": "25ec716b",
    "outputId": "d2f9002a-f6e0-42dd-959c-43c26d33b6be"
   },
   "outputs": [
    {
     "data": {
      "text/html": [
       "<div>\n",
       "<style scoped>\n",
       "    .dataframe tbody tr th:only-of-type {\n",
       "        vertical-align: middle;\n",
       "    }\n",
       "\n",
       "    .dataframe tbody tr th {\n",
       "        vertical-align: top;\n",
       "    }\n",
       "\n",
       "    .dataframe thead th {\n",
       "        text-align: right;\n",
       "    }\n",
       "</style>\n",
       "<table border=\"1\" class=\"dataframe\">\n",
       "  <thead>\n",
       "    <tr style=\"text-align: right;\">\n",
       "      <th></th>\n",
       "      <th>0</th>\n",
       "    </tr>\n",
       "  </thead>\n",
       "  <tbody>\n",
       "    <tr>\n",
       "      <th>0</th>\n",
       "      <td>False</td>\n",
       "    </tr>\n",
       "    <tr>\n",
       "      <th>1</th>\n",
       "      <td>True</td>\n",
       "    </tr>\n",
       "    <tr>\n",
       "      <th>2</th>\n",
       "      <td>False</td>\n",
       "    </tr>\n",
       "    <tr>\n",
       "      <th>3</th>\n",
       "      <td>True</td>\n",
       "    </tr>\n",
       "    <tr>\n",
       "      <th>4</th>\n",
       "      <td>False</td>\n",
       "    </tr>\n",
       "    <tr>\n",
       "      <th>...</th>\n",
       "      <td>...</td>\n",
       "    </tr>\n",
       "    <tr>\n",
       "      <th>319790</th>\n",
       "      <td>True</td>\n",
       "    </tr>\n",
       "    <tr>\n",
       "      <th>319791</th>\n",
       "      <td>True</td>\n",
       "    </tr>\n",
       "    <tr>\n",
       "      <th>319792</th>\n",
       "      <td>True</td>\n",
       "    </tr>\n",
       "    <tr>\n",
       "      <th>319793</th>\n",
       "      <td>False</td>\n",
       "    </tr>\n",
       "    <tr>\n",
       "      <th>319794</th>\n",
       "      <td>True</td>\n",
       "    </tr>\n",
       "  </tbody>\n",
       "</table>\n",
       "<p>301717 rows × 1 columns</p>\n",
       "</div>"
      ],
      "text/plain": [
       "            0\n",
       "0       False\n",
       "1        True\n",
       "2       False\n",
       "3        True\n",
       "4       False\n",
       "...       ...\n",
       "319790   True\n",
       "319791   True\n",
       "319792   True\n",
       "319793  False\n",
       "319794   True\n",
       "\n",
       "[301717 rows x 1 columns]"
      ]
     },
     "execution_count": 100,
     "metadata": {},
     "output_type": "execute_result"
    }
   ],
   "source": [
    "counts = pd.DataFrame(no_outliers)\n",
    "counts"
   ]
  },
  {
   "cell_type": "code",
   "execution_count": 101,
   "id": "677cbab0",
   "metadata": {
    "colab": {
     "base_uri": "https://localhost:8080/"
    },
    "id": "94702ba9",
    "outputId": "433c7452-5a55-4a40-a7d4-b1e528b7e621"
   },
   "outputs": [
    {
     "data": {
      "text/plain": [
       "0    38793\n",
       "dtype: int64"
      ]
     },
     "execution_count": 101,
     "metadata": {},
     "output_type": "execute_result"
    }
   ],
   "source": [
    "counts[(counts==False)].count()"
   ]
  },
  {
   "cell_type": "code",
   "execution_count": 102,
   "id": "8215664b",
   "metadata": {
    "colab": {
     "base_uri": "https://localhost:8080/"
    },
    "id": "faf7aa2a",
    "outputId": "2ddfa0cb-2644-481c-a271-bd1cf1a0f1e7"
   },
   "outputs": [
    {
     "data": {
      "text/plain": [
       "38793"
      ]
     },
     "execution_count": 102,
     "metadata": {},
     "output_type": "execute_result"
    }
   ],
   "source": [
    "# We can double check by subtracting data[no_outliers].shape[0] from the original df.shape[0]\n",
    "301717-262924"
   ]
  },
  {
   "cell_type": "code",
   "execution_count": 103,
   "id": "ac22ebca",
   "metadata": {
    "colab": {
     "base_uri": "https://localhost:8080/"
    },
    "id": "bc48f18c",
    "outputId": "0fd7990d-da34-45a2-a8d3-357d0831cd7e",
    "scrolled": true
   },
   "outputs": [
    {
     "data": {
      "text/plain": [
       "0.13092401157375952"
      ]
     },
     "execution_count": 103,
     "metadata": {},
     "output_type": "execute_result"
    }
   ],
   "source": [
    "39502/301717"
   ]
  },
  {
   "cell_type": "markdown",
   "id": "420d31f6",
   "metadata": {
    "id": "4678c62d"
   },
   "source": [
    "#### 13% is a great deal, so we can not drop those outliers, and even if the percentage was low and we could drop them; that would be  in normal cases only, but in case of having an imbalanced data, it's recommended to keep the outliers."
   ]
  },
  {
   "cell_type": "markdown",
   "id": "08f93b72",
   "metadata": {
    "id": "f7aa7ed9"
   },
   "source": [
    "---------------------------------------------------------------"
   ]
  },
  {
   "cell_type": "markdown",
   "id": "46b83359",
   "metadata": {
    "id": "4892f70f"
   },
   "source": [
    "## Now we can focus on the imbalancing problem:"
   ]
  },
  {
   "cell_type": "markdown",
   "id": "f5bcf702",
   "metadata": {
    "id": "65636fd5"
   },
   "source": [
    "### Let's check our data's balance:"
   ]
  },
  {
   "cell_type": "code",
   "execution_count": 104,
   "id": "9a8db93c",
   "metadata": {
    "colab": {
     "base_uri": "https://localhost:8080/",
     "height": 849
    },
    "id": "882f1835",
    "jupyter": {
     "outputs_hidden": true
    },
    "outputId": "7b7f710c-413c-4b69-d848-13c7c9a778ae"
   },
   "outputs": [
    {
     "data": {
      "image/png": "[encoded data removed]",
      "text/plain": [
       "<Figure size 720x720 with 1 Axes>"
      ]
     },
     "metadata": {},
     "output_type": "display_data"
    }
   ],
   "source": [
    "labels = df.HeartDisease.value_counts().index\n",
    "sizes = df.HeartDisease.value_counts()\n",
    "\n",
    "plt.figure(figsize = (10,10))\n",
    "plt.pie(sizes, labels=labels, autopct='%1.1f%%', textprops={'fontsize':20, 'color':\"black\"},\n",
    "        explode=[0.05, 0.05])\n",
    "plt.title('Heart Disease Patients Percentage',color = 'black',fontsize = 30)\n",
    "plt.legend(df.HeartDisease.value_counts(), loc = 'lower right', title = 'Cases Count')\n",
    "plt.show()"
   ]
  },
  {
   "cell_type": "code",
   "execution_count": 105,
   "id": "198d43e1",
   "metadata": {
    "colab": {
     "base_uri": "https://localhost:8080/"
    },
    "id": "71b83acb",
    "outputId": "fb306bfc-a12c-4b95-fe3d-df83df998c86"
   },
   "outputs": [
    {
     "name": "stdout",
     "output_type": "stream",
     "text": [
      "['HeartDisease', 'Smoking', 'AlcoholDrinking', 'Stroke', 'DiffWalking', 'Sex', 'AgeCategory', 'Race', 'Diabetic', 'PhysicalActivity', 'GenHealth', 'Asthma', 'KidneyDisease', 'SkinCancer']\n"
     ]
    }
   ],
   "source": [
    "categ_data=[]\n",
    "for i in df.columns:\n",
    "    if df[i].dtype==object  :\n",
    "        categ_data.append (i)\n",
    "print(categ_data)"
   ]
  },
  {
   "cell_type": "code",
   "execution_count": 106,
   "id": "da967de5",
   "metadata": {
    "colab": {
     "base_uri": "https://localhost:8080/",
     "height": 1000
    },
    "id": "d7d76dc7",
    "jupyter": {
     "outputs_hidden": true
    },
    "outputId": "7b042607-3302-468b-a675-9e0efc0bca69"
   },
   "outputs": [
    {
     "data": {
      "image/png": "[encoded data removed]",
      "text/plain": [
       "<Figure size 1728x576 with 1 Axes>"
      ]
     },
     "metadata": {
      "needs_background": "light"
     },
     "output_type": "display_data"
    },
    {
     "data": {
      "image/png": "[encoded data removed]",
      "text/plain": [
       "<Figure size 1728x576 with 1 Axes>"
      ]
     },
     "metadata": {
      "needs_background": "light"
     },
     "output_type": "display_data"
    },
    {
     "data": {
      "image/png": "[encoded data removed]",
      "text/plain": [
       "<Figure size 1728x576 with 1 Axes>"
      ]
     },
     "metadata": {
      "needs_background": "light"
     },
     "output_type": "display_data"
    },
    {
     "data": {
      "image/png": "[encoded data removed]",
      "text/plain": [
       "<Figure size 1728x576 with 1 Axes>"
      ]
     },
     "metadata": {
      "needs_background": "light"
     },
     "output_type": "display_data"
    },
    {
     "data": {
      "image/png": "[encoded data removed]",
      "text/plain": [
       "<Figure size 1728x576 with 1 Axes>"
      ]
     },
     "metadata": {
      "needs_background": "light"
     },
     "output_type": "display_data"
    },
    {
     "data": {
      "image/png": "[encoded data removed]",
      "text/plain": [
       "<Figure size 1728x576 with 1 Axes>"
      ]
     },
     "metadata": {
      "needs_background": "light"
     },
     "output_type": "display_data"
    },
    {
     "data": {
      "image/png": "[encoded data removed]",
      "text/plain": [
       "<Figure size 1728x576 with 1 Axes>"
      ]
     },
     "metadata": {
      "needs_background": "light"
     },
     "output_type": "display_data"
    },
    {
     "data": {
      "image/png": "[encoded data removed]",
      "text/plain": [
       "<Figure size 1728x576 with 1 Axes>"
      ]
     },
     "metadata": {
      "needs_background": "light"
     },
     "output_type": "display_data"
    },
    {
     "data": {
      "image/png": "[encoded data removed]",
      "text/plain": [
       "<Figure size 1728x576 with 1 Axes>"
      ]
     },
     "metadata": {
      "needs_background": "light"
     },
     "output_type": "display_data"
    },
    {
     "data": {
      "image/png": "[encoded data removed]",
      "text/plain": [
       "<Figure size 1728x576 with 1 Axes>"
      ]
     },
     "metadata": {
      "needs_background": "light"
     },
     "output_type": "display_data"
    },
    {
     "data": {
      "image/png": "[encoded data removed]",
      "text/plain": [
       "<Figure size 1728x576 with 1 Axes>"
      ]
     },
     "metadata": {
      "needs_background": "light"
     },
     "output_type": "display_data"
    },
    {
     "data": {
      "image/png": "[encoded data removed]",
      "text/plain": [
       "<Figure size 1728x576 with 1 Axes>"
      ]
     },
     "metadata": {
      "needs_background": "light"
     },
     "output_type": "display_data"
    },
    {
     "data": {
      "image/png": "[encoded data removed]",
      "text/plain": [
       "<Figure size 1728x576 with 1 Axes>"
      ]
     },
     "metadata": {
      "needs_background": "light"
     },
     "output_type": "display_data"
    },
    {
     "data": {
      "image/png": "[encoded data removed]",
      "text/plain": [
       "<Figure size 1728x576 with 1 Axes>"
      ]
     },
     "metadata": {
      "needs_background": "light"
     },
     "output_type": "display_data"
    }
   ],
   "source": [
    "for ft in categ_data:\n",
    "    plt.figure(figsize=(24,8))\n",
    "    sns.countplot(x=df[ft],  color=\"#4974a5\")\n",
    "    plt.title(ft , fontsize=40)\n",
    "    plt.xlabel(ft, fontsize=30)\n",
    "    plt.ylabel(\"Count\", fontsize=30)\n",
    "    plt.show()"
   ]
  },
  {
   "cell_type": "markdown",
   "id": "a24e39bb",
   "metadata": {
    "id": "3fd21ad9"
   },
   "source": [
    "As we can see we have imbalanced data in so many of our features and even the target which is the most important."
   ]
  },
  {
   "cell_type": "markdown",
   "id": "fab1d221",
   "metadata": {
    "id": "91de49d1"
   },
   "source": [
    "### As suspected our data is imbalanced, and we need to handle this situation"
   ]
  },
  {
   "cell_type": "markdown",
   "id": "74b57c26",
   "metadata": {
    "id": "dfb8a778"
   },
   "source": [
    "### Let's first encode our categorical data:"
   ]
  },
  {
   "cell_type": "code",
   "execution_count": 107,
   "id": "d514ddb4",
   "metadata": {
    "id": "dcf18900"
   },
   "outputs": [],
   "source": [
    "from sklearn.preprocessing import LabelEncoder\n",
    "le =  LabelEncoder()"
   ]
  },
  {
   "cell_type": "code",
   "execution_count": 108,
   "id": "bf95ce88",
   "metadata": {
    "id": "999d33f3",
    "scrolled": true
   },
   "outputs": [],
   "source": [
    "for ft in categ_data:\n",
    "    df[ft]=le.fit_transform(df[ft])"
   ]
  },
  {
   "cell_type": "code",
   "execution_count": 109,
   "id": "9a1b5539",
   "metadata": {
    "colab": {
     "base_uri": "https://localhost:8080/",
     "height": 487
    },
    "id": "93428814",
    "outputId": "b97b4772-c1eb-483d-f24e-48bb270b2602"
   },
   "outputs": [
    {
     "data": {
      "text/html": [
       "<div>\n",
       "<style scoped>\n",
       "    .dataframe tbody tr th:only-of-type {\n",
       "        vertical-align: middle;\n",
       "    }\n",
       "\n",
       "    .dataframe tbody tr th {\n",
       "        vertical-align: top;\n",
       "    }\n",
       "\n",
       "    .dataframe thead th {\n",
       "        text-align: right;\n",
       "    }\n",
       "</style>\n",
       "<table border=\"1\" class=\"dataframe\">\n",
       "  <thead>\n",
       "    <tr style=\"text-align: right;\">\n",
       "      <th></th>\n",
       "      <th>HeartDisease</th>\n",
       "      <th>BMI</th>\n",
       "      <th>Smoking</th>\n",
       "      <th>AlcoholDrinking</th>\n",
       "      <th>Stroke</th>\n",
       "      <th>PhysicalHealth</th>\n",
       "      <th>MentalHealth</th>\n",
       "      <th>DiffWalking</th>\n",
       "      <th>Sex</th>\n",
       "      <th>AgeCategory</th>\n",
       "      <th>Race</th>\n",
       "      <th>Diabetic</th>\n",
       "      <th>PhysicalActivity</th>\n",
       "      <th>GenHealth</th>\n",
       "      <th>SleepTime</th>\n",
       "      <th>Asthma</th>\n",
       "      <th>KidneyDisease</th>\n",
       "      <th>SkinCancer</th>\n",
       "    </tr>\n",
       "  </thead>\n",
       "  <tbody>\n",
       "    <tr>\n",
       "      <th>0</th>\n",
       "      <td>0</td>\n",
       "      <td>16.60</td>\n",
       "      <td>1</td>\n",
       "      <td>0</td>\n",
       "      <td>0</td>\n",
       "      <td>3.0</td>\n",
       "      <td>30.0</td>\n",
       "      <td>0</td>\n",
       "      <td>0</td>\n",
       "      <td>7</td>\n",
       "      <td>5</td>\n",
       "      <td>2</td>\n",
       "      <td>1</td>\n",
       "      <td>4</td>\n",
       "      <td>5.0</td>\n",
       "      <td>1</td>\n",
       "      <td>0</td>\n",
       "      <td>1</td>\n",
       "    </tr>\n",
       "    <tr>\n",
       "      <th>1</th>\n",
       "      <td>0</td>\n",
       "      <td>20.34</td>\n",
       "      <td>0</td>\n",
       "      <td>0</td>\n",
       "      <td>1</td>\n",
       "      <td>0.0</td>\n",
       "      <td>0.0</td>\n",
       "      <td>0</td>\n",
       "      <td>0</td>\n",
       "      <td>12</td>\n",
       "      <td>5</td>\n",
       "      <td>0</td>\n",
       "      <td>1</td>\n",
       "      <td>4</td>\n",
       "      <td>7.0</td>\n",
       "      <td>0</td>\n",
       "      <td>0</td>\n",
       "      <td>0</td>\n",
       "    </tr>\n",
       "    <tr>\n",
       "      <th>2</th>\n",
       "      <td>0</td>\n",
       "      <td>26.58</td>\n",
       "      <td>1</td>\n",
       "      <td>0</td>\n",
       "      <td>0</td>\n",
       "      <td>20.0</td>\n",
       "      <td>30.0</td>\n",
       "      <td>0</td>\n",
       "      <td>1</td>\n",
       "      <td>9</td>\n",
       "      <td>5</td>\n",
       "      <td>2</td>\n",
       "      <td>1</td>\n",
       "      <td>1</td>\n",
       "      <td>8.0</td>\n",
       "      <td>1</td>\n",
       "      <td>0</td>\n",
       "      <td>0</td>\n",
       "    </tr>\n",
       "    <tr>\n",
       "      <th>3</th>\n",
       "      <td>0</td>\n",
       "      <td>24.21</td>\n",
       "      <td>0</td>\n",
       "      <td>0</td>\n",
       "      <td>0</td>\n",
       "      <td>0.0</td>\n",
       "      <td>0.0</td>\n",
       "      <td>0</td>\n",
       "      <td>0</td>\n",
       "      <td>11</td>\n",
       "      <td>5</td>\n",
       "      <td>0</td>\n",
       "      <td>0</td>\n",
       "      <td>2</td>\n",
       "      <td>6.0</td>\n",
       "      <td>0</td>\n",
       "      <td>0</td>\n",
       "      <td>1</td>\n",
       "    </tr>\n",
       "    <tr>\n",
       "      <th>4</th>\n",
       "      <td>0</td>\n",
       "      <td>23.71</td>\n",
       "      <td>0</td>\n",
       "      <td>0</td>\n",
       "      <td>0</td>\n",
       "      <td>28.0</td>\n",
       "      <td>0.0</td>\n",
       "      <td>1</td>\n",
       "      <td>0</td>\n",
       "      <td>4</td>\n",
       "      <td>5</td>\n",
       "      <td>0</td>\n",
       "      <td>1</td>\n",
       "      <td>4</td>\n",
       "      <td>8.0</td>\n",
       "      <td>0</td>\n",
       "      <td>0</td>\n",
       "      <td>0</td>\n",
       "    </tr>\n",
       "    <tr>\n",
       "      <th>...</th>\n",
       "      <td>...</td>\n",
       "      <td>...</td>\n",
       "      <td>...</td>\n",
       "      <td>...</td>\n",
       "      <td>...</td>\n",
       "      <td>...</td>\n",
       "      <td>...</td>\n",
       "      <td>...</td>\n",
       "      <td>...</td>\n",
       "      <td>...</td>\n",
       "      <td>...</td>\n",
       "      <td>...</td>\n",
       "      <td>...</td>\n",
       "      <td>...</td>\n",
       "      <td>...</td>\n",
       "      <td>...</td>\n",
       "      <td>...</td>\n",
       "      <td>...</td>\n",
       "    </tr>\n",
       "    <tr>\n",
       "      <th>319790</th>\n",
       "      <td>1</td>\n",
       "      <td>27.41</td>\n",
       "      <td>1</td>\n",
       "      <td>0</td>\n",
       "      <td>0</td>\n",
       "      <td>7.0</td>\n",
       "      <td>0.0</td>\n",
       "      <td>1</td>\n",
       "      <td>1</td>\n",
       "      <td>8</td>\n",
       "      <td>3</td>\n",
       "      <td>2</td>\n",
       "      <td>0</td>\n",
       "      <td>1</td>\n",
       "      <td>6.0</td>\n",
       "      <td>1</td>\n",
       "      <td>0</td>\n",
       "      <td>0</td>\n",
       "    </tr>\n",
       "    <tr>\n",
       "      <th>319791</th>\n",
       "      <td>0</td>\n",
       "      <td>29.84</td>\n",
       "      <td>1</td>\n",
       "      <td>0</td>\n",
       "      <td>0</td>\n",
       "      <td>0.0</td>\n",
       "      <td>0.0</td>\n",
       "      <td>0</td>\n",
       "      <td>1</td>\n",
       "      <td>3</td>\n",
       "      <td>3</td>\n",
       "      <td>0</td>\n",
       "      <td>1</td>\n",
       "      <td>4</td>\n",
       "      <td>5.0</td>\n",
       "      <td>1</td>\n",
       "      <td>0</td>\n",
       "      <td>0</td>\n",
       "    </tr>\n",
       "    <tr>\n",
       "      <th>319792</th>\n",
       "      <td>0</td>\n",
       "      <td>24.24</td>\n",
       "      <td>0</td>\n",
       "      <td>0</td>\n",
       "      <td>0</td>\n",
       "      <td>0.0</td>\n",
       "      <td>0.0</td>\n",
       "      <td>0</td>\n",
       "      <td>0</td>\n",
       "      <td>5</td>\n",
       "      <td>3</td>\n",
       "      <td>0</td>\n",
       "      <td>1</td>\n",
       "      <td>2</td>\n",
       "      <td>6.0</td>\n",
       "      <td>0</td>\n",
       "      <td>0</td>\n",
       "      <td>0</td>\n",
       "    </tr>\n",
       "    <tr>\n",
       "      <th>319793</th>\n",
       "      <td>0</td>\n",
       "      <td>32.81</td>\n",
       "      <td>0</td>\n",
       "      <td>0</td>\n",
       "      <td>0</td>\n",
       "      <td>0.0</td>\n",
       "      <td>0.0</td>\n",
       "      <td>0</td>\n",
       "      <td>0</td>\n",
       "      <td>1</td>\n",
       "      <td>3</td>\n",
       "      <td>0</td>\n",
       "      <td>0</td>\n",
       "      <td>2</td>\n",
       "      <td>12.0</td>\n",
       "      <td>0</td>\n",
       "      <td>0</td>\n",
       "      <td>0</td>\n",
       "    </tr>\n",
       "    <tr>\n",
       "      <th>319794</th>\n",
       "      <td>0</td>\n",
       "      <td>46.56</td>\n",
       "      <td>0</td>\n",
       "      <td>0</td>\n",
       "      <td>0</td>\n",
       "      <td>0.0</td>\n",
       "      <td>0.0</td>\n",
       "      <td>0</td>\n",
       "      <td>0</td>\n",
       "      <td>12</td>\n",
       "      <td>3</td>\n",
       "      <td>0</td>\n",
       "      <td>1</td>\n",
       "      <td>2</td>\n",
       "      <td>8.0</td>\n",
       "      <td>0</td>\n",
       "      <td>0</td>\n",
       "      <td>0</td>\n",
       "    </tr>\n",
       "  </tbody>\n",
       "</table>\n",
       "<p>301717 rows × 18 columns</p>\n",
       "</div>"
      ],
      "text/plain": [
       "        HeartDisease    BMI  Smoking  AlcoholDrinking  Stroke  PhysicalHealth  \\\n",
       "0                  0  16.60        1                0       0             3.0   \n",
       "1                  0  20.34        0                0       1             0.0   \n",
       "2                  0  26.58        1                0       0            20.0   \n",
       "3                  0  24.21        0                0       0             0.0   \n",
       "4                  0  23.71        0                0       0            28.0   \n",
       "...              ...    ...      ...              ...     ...             ...   \n",
       "319790             1  27.41        1                0       0             7.0   \n",
       "319791             0  29.84        1                0       0             0.0   \n",
       "319792             0  24.24        0                0       0             0.0   \n",
       "319793             0  32.81        0                0       0             0.0   \n",
       "319794             0  46.56        0                0       0             0.0   \n",
       "\n",
       "        MentalHealth  DiffWalking  Sex  AgeCategory  Race  Diabetic  \\\n",
       "0               30.0            0    0            7     5         2   \n",
       "1                0.0            0    0           12     5         0   \n",
       "2               30.0            0    1            9     5         2   \n",
       "3                0.0            0    0           11     5         0   \n",
       "4                0.0            1    0            4     5         0   \n",
       "...              ...          ...  ...          ...   ...       ...   \n",
       "319790           0.0            1    1            8     3         2   \n",
       "319791           0.0            0    1            3     3         0   \n",
       "319792           0.0            0    0            5     3         0   \n",
       "319793           0.0            0    0            1     3         0   \n",
       "319794           0.0            0    0           12     3         0   \n",
       "\n",
       "        PhysicalActivity  GenHealth  SleepTime  Asthma  KidneyDisease  \\\n",
       "0                      1          4        5.0       1              0   \n",
       "1                      1          4        7.0       0              0   \n",
       "2                      1          1        8.0       1              0   \n",
       "3                      0          2        6.0       0              0   \n",
       "4                      1          4        8.0       0              0   \n",
       "...                  ...        ...        ...     ...            ...   \n",
       "319790                 0          1        6.0       1              0   \n",
       "319791                 1          4        5.0       1              0   \n",
       "319792                 1          2        6.0       0              0   \n",
       "319793                 0          2       12.0       0              0   \n",
       "319794                 1          2        8.0       0              0   \n",
       "\n",
       "        SkinCancer  \n",
       "0                1  \n",
       "1                0  \n",
       "2                0  \n",
       "3                1  \n",
       "4                0  \n",
       "...            ...  \n",
       "319790           0  \n",
       "319791           0  \n",
       "319792           0  \n",
       "319793           0  \n",
       "319794           0  \n",
       "\n",
       "[301717 rows x 18 columns]"
      ]
     },
     "execution_count": 109,
     "metadata": {},
     "output_type": "execute_result"
    }
   ],
   "source": [
    "df"
   ]
  },
  {
   "cell_type": "code",
   "execution_count": 110,
   "id": "8c85524d",
   "metadata": {
    "colab": {
     "base_uri": "https://localhost:8080/",
     "height": 613
    },
    "id": "5554349e",
    "outputId": "38821ebd-d8a7-401d-e1ea-dccc43b8486c"
   },
   "outputs": [
    {
     "data": {
      "text/html": [
       "<div>\n",
       "<style scoped>\n",
       "    .dataframe tbody tr th:only-of-type {\n",
       "        vertical-align: middle;\n",
       "    }\n",
       "\n",
       "    .dataframe tbody tr th {\n",
       "        vertical-align: top;\n",
       "    }\n",
       "\n",
       "    .dataframe thead th {\n",
       "        text-align: right;\n",
       "    }\n",
       "</style>\n",
       "<table border=\"1\" class=\"dataframe\">\n",
       "  <thead>\n",
       "    <tr style=\"text-align: right;\">\n",
       "      <th></th>\n",
       "      <th>count</th>\n",
       "      <th>mean</th>\n",
       "      <th>std</th>\n",
       "      <th>min</th>\n",
       "      <th>25%</th>\n",
       "      <th>50%</th>\n",
       "      <th>75%</th>\n",
       "      <th>max</th>\n",
       "    </tr>\n",
       "  </thead>\n",
       "  <tbody>\n",
       "    <tr>\n",
       "      <th>HeartDisease</th>\n",
       "      <td>301717.0</td>\n",
       "      <td>0.090353</td>\n",
       "      <td>0.286687</td>\n",
       "      <td>0.00</td>\n",
       "      <td>0.00</td>\n",
       "      <td>0.00</td>\n",
       "      <td>0.00</td>\n",
       "      <td>1.00</td>\n",
       "    </tr>\n",
       "    <tr>\n",
       "      <th>BMI</th>\n",
       "      <td>301717.0</td>\n",
       "      <td>28.441970</td>\n",
       "      <td>6.468134</td>\n",
       "      <td>12.02</td>\n",
       "      <td>24.03</td>\n",
       "      <td>27.41</td>\n",
       "      <td>31.65</td>\n",
       "      <td>94.85</td>\n",
       "    </tr>\n",
       "    <tr>\n",
       "      <th>Smoking</th>\n",
       "      <td>301717.0</td>\n",
       "      <td>0.422267</td>\n",
       "      <td>0.493921</td>\n",
       "      <td>0.00</td>\n",
       "      <td>0.00</td>\n",
       "      <td>0.00</td>\n",
       "      <td>1.00</td>\n",
       "      <td>1.00</td>\n",
       "    </tr>\n",
       "    <tr>\n",
       "      <th>AlcoholDrinking</th>\n",
       "      <td>301717.0</td>\n",
       "      <td>0.071527</td>\n",
       "      <td>0.257704</td>\n",
       "      <td>0.00</td>\n",
       "      <td>0.00</td>\n",
       "      <td>0.00</td>\n",
       "      <td>0.00</td>\n",
       "      <td>1.00</td>\n",
       "    </tr>\n",
       "    <tr>\n",
       "      <th>Stroke</th>\n",
       "      <td>301717.0</td>\n",
       "      <td>0.039984</td>\n",
       "      <td>0.195923</td>\n",
       "      <td>0.00</td>\n",
       "      <td>0.00</td>\n",
       "      <td>0.00</td>\n",
       "      <td>0.00</td>\n",
       "      <td>1.00</td>\n",
       "    </tr>\n",
       "    <tr>\n",
       "      <th>PhysicalHealth</th>\n",
       "      <td>301717.0</td>\n",
       "      <td>3.572298</td>\n",
       "      <td>8.140656</td>\n",
       "      <td>0.00</td>\n",
       "      <td>0.00</td>\n",
       "      <td>0.00</td>\n",
       "      <td>2.00</td>\n",
       "      <td>30.00</td>\n",
       "    </tr>\n",
       "    <tr>\n",
       "      <th>MentalHealth</th>\n",
       "      <td>301717.0</td>\n",
       "      <td>4.121475</td>\n",
       "      <td>8.128288</td>\n",
       "      <td>0.00</td>\n",
       "      <td>0.00</td>\n",
       "      <td>0.00</td>\n",
       "      <td>4.00</td>\n",
       "      <td>30.00</td>\n",
       "    </tr>\n",
       "    <tr>\n",
       "      <th>DiffWalking</th>\n",
       "      <td>301717.0</td>\n",
       "      <td>0.147009</td>\n",
       "      <td>0.354115</td>\n",
       "      <td>0.00</td>\n",
       "      <td>0.00</td>\n",
       "      <td>0.00</td>\n",
       "      <td>0.00</td>\n",
       "      <td>1.00</td>\n",
       "    </tr>\n",
       "    <tr>\n",
       "      <th>Sex</th>\n",
       "      <td>301717.0</td>\n",
       "      <td>0.470792</td>\n",
       "      <td>0.499147</td>\n",
       "      <td>0.00</td>\n",
       "      <td>0.00</td>\n",
       "      <td>0.00</td>\n",
       "      <td>1.00</td>\n",
       "      <td>1.00</td>\n",
       "    </tr>\n",
       "    <tr>\n",
       "      <th>AgeCategory</th>\n",
       "      <td>301717.0</td>\n",
       "      <td>6.509408</td>\n",
       "      <td>3.584510</td>\n",
       "      <td>0.00</td>\n",
       "      <td>4.00</td>\n",
       "      <td>7.00</td>\n",
       "      <td>9.00</td>\n",
       "      <td>12.00</td>\n",
       "    </tr>\n",
       "    <tr>\n",
       "      <th>Race</th>\n",
       "      <td>301717.0</td>\n",
       "      <td>4.365409</td>\n",
       "      <td>1.235817</td>\n",
       "      <td>0.00</td>\n",
       "      <td>5.00</td>\n",
       "      <td>5.00</td>\n",
       "      <td>5.00</td>\n",
       "      <td>5.00</td>\n",
       "    </tr>\n",
       "    <tr>\n",
       "      <th>Diabetic</th>\n",
       "      <td>301717.0</td>\n",
       "      <td>0.316926</td>\n",
       "      <td>0.732372</td>\n",
       "      <td>0.00</td>\n",
       "      <td>0.00</td>\n",
       "      <td>0.00</td>\n",
       "      <td>0.00</td>\n",
       "      <td>3.00</td>\n",
       "    </tr>\n",
       "    <tr>\n",
       "      <th>PhysicalActivity</th>\n",
       "      <td>301717.0</td>\n",
       "      <td>0.763669</td>\n",
       "      <td>0.424828</td>\n",
       "      <td>0.00</td>\n",
       "      <td>1.00</td>\n",
       "      <td>1.00</td>\n",
       "      <td>1.00</td>\n",
       "      <td>1.00</td>\n",
       "    </tr>\n",
       "    <tr>\n",
       "      <th>GenHealth</th>\n",
       "      <td>301717.0</td>\n",
       "      <td>2.221217</td>\n",
       "      <td>1.511502</td>\n",
       "      <td>0.00</td>\n",
       "      <td>1.00</td>\n",
       "      <td>2.00</td>\n",
       "      <td>4.00</td>\n",
       "      <td>4.00</td>\n",
       "    </tr>\n",
       "    <tr>\n",
       "      <th>SleepTime</th>\n",
       "      <td>301717.0</td>\n",
       "      <td>7.084559</td>\n",
       "      <td>1.467122</td>\n",
       "      <td>1.00</td>\n",
       "      <td>6.00</td>\n",
       "      <td>7.00</td>\n",
       "      <td>8.00</td>\n",
       "      <td>24.00</td>\n",
       "    </tr>\n",
       "    <tr>\n",
       "      <th>Asthma</th>\n",
       "      <td>301717.0</td>\n",
       "      <td>0.141361</td>\n",
       "      <td>0.348394</td>\n",
       "      <td>0.00</td>\n",
       "      <td>0.00</td>\n",
       "      <td>0.00</td>\n",
       "      <td>0.00</td>\n",
       "      <td>1.00</td>\n",
       "    </tr>\n",
       "    <tr>\n",
       "      <th>KidneyDisease</th>\n",
       "      <td>301717.0</td>\n",
       "      <td>0.039030</td>\n",
       "      <td>0.193667</td>\n",
       "      <td>0.00</td>\n",
       "      <td>0.00</td>\n",
       "      <td>0.00</td>\n",
       "      <td>0.00</td>\n",
       "      <td>1.00</td>\n",
       "    </tr>\n",
       "    <tr>\n",
       "      <th>SkinCancer</th>\n",
       "      <td>301717.0</td>\n",
       "      <td>0.097084</td>\n",
       "      <td>0.296073</td>\n",
       "      <td>0.00</td>\n",
       "      <td>0.00</td>\n",
       "      <td>0.00</td>\n",
       "      <td>0.00</td>\n",
       "      <td>1.00</td>\n",
       "    </tr>\n",
       "  </tbody>\n",
       "</table>\n",
       "</div>"
      ],
      "text/plain": [
       "                     count       mean       std    min    25%    50%    75%  \\\n",
       "HeartDisease      301717.0   0.090353  0.286687   0.00   0.00   0.00   0.00   \n",
       "BMI               301717.0  28.441970  6.468134  12.02  24.03  27.41  31.65   \n",
       "Smoking           301717.0   0.422267  0.493921   0.00   0.00   0.00   1.00   \n",
       "AlcoholDrinking   301717.0   0.071527  0.257704   0.00   0.00   0.00   0.00   \n",
       "Stroke            301717.0   0.039984  0.195923   0.00   0.00   0.00   0.00   \n",
       "PhysicalHealth    301717.0   3.572298  8.140656   0.00   0.00   0.00   2.00   \n",
       "MentalHealth      301717.0   4.121475  8.128288   0.00   0.00   0.00   4.00   \n",
       "DiffWalking       301717.0   0.147009  0.354115   0.00   0.00   0.00   0.00   \n",
       "Sex               301717.0   0.470792  0.499147   0.00   0.00   0.00   1.00   \n",
       "AgeCategory       301717.0   6.509408  3.584510   0.00   4.00   7.00   9.00   \n",
       "Race              301717.0   4.365409  1.235817   0.00   5.00   5.00   5.00   \n",
       "Diabetic          301717.0   0.316926  0.732372   0.00   0.00   0.00   0.00   \n",
       "PhysicalActivity  301717.0   0.763669  0.424828   0.00   1.00   1.00   1.00   \n",
       "GenHealth         301717.0   2.221217  1.511502   0.00   1.00   2.00   4.00   \n",
       "SleepTime         301717.0   7.084559  1.467122   1.00   6.00   7.00   8.00   \n",
       "Asthma            301717.0   0.141361  0.348394   0.00   0.00   0.00   0.00   \n",
       "KidneyDisease     301717.0   0.039030  0.193667   0.00   0.00   0.00   0.00   \n",
       "SkinCancer        301717.0   0.097084  0.296073   0.00   0.00   0.00   0.00   \n",
       "\n",
       "                    max  \n",
       "HeartDisease       1.00  \n",
       "BMI               94.85  \n",
       "Smoking            1.00  \n",
       "AlcoholDrinking    1.00  \n",
       "Stroke             1.00  \n",
       "PhysicalHealth    30.00  \n",
       "MentalHealth      30.00  \n",
       "DiffWalking        1.00  \n",
       "Sex                1.00  \n",
       "AgeCategory       12.00  \n",
       "Race               5.00  \n",
       "Diabetic           3.00  \n",
       "PhysicalActivity   1.00  \n",
       "GenHealth          4.00  \n",
       "SleepTime         24.00  \n",
       "Asthma             1.00  \n",
       "KidneyDisease      1.00  \n",
       "SkinCancer         1.00  "
      ]
     },
     "execution_count": 110,
     "metadata": {},
     "output_type": "execute_result"
    }
   ],
   "source": [
    "df.describe().T"
   ]
  },
  {
   "cell_type": "markdown",
   "id": "39abf20c",
   "metadata": {
    "id": "39fd1ea3"
   },
   "source": [
    "### We will need to scale our features first:"
   ]
  },
  {
   "cell_type": "code",
   "execution_count": 111,
   "id": "80a3b532",
   "metadata": {
    "id": "f3bd8a55"
   },
   "outputs": [],
   "source": [
    "df_scaled = df.copy()"
   ]
  },
  {
   "cell_type": "code",
   "execution_count": 112,
   "id": "3ec7bd69",
   "metadata": {
    "colab": {
     "base_uri": "https://localhost:8080/",
     "height": 487
    },
    "id": "c6ab440a",
    "outputId": "efa01bad-36e0-4598-eb9b-8b212892650a"
   },
   "outputs": [
    {
     "data": {
      "text/html": [
       "<div>\n",
       "<style scoped>\n",
       "    .dataframe tbody tr th:only-of-type {\n",
       "        vertical-align: middle;\n",
       "    }\n",
       "\n",
       "    .dataframe tbody tr th {\n",
       "        vertical-align: top;\n",
       "    }\n",
       "\n",
       "    .dataframe thead th {\n",
       "        text-align: right;\n",
       "    }\n",
       "</style>\n",
       "<table border=\"1\" class=\"dataframe\">\n",
       "  <thead>\n",
       "    <tr style=\"text-align: right;\">\n",
       "      <th></th>\n",
       "      <th>HeartDisease</th>\n",
       "      <th>BMI</th>\n",
       "      <th>Smoking</th>\n",
       "      <th>AlcoholDrinking</th>\n",
       "      <th>Stroke</th>\n",
       "      <th>PhysicalHealth</th>\n",
       "      <th>MentalHealth</th>\n",
       "      <th>DiffWalking</th>\n",
       "      <th>Sex</th>\n",
       "      <th>AgeCategory</th>\n",
       "      <th>Race</th>\n",
       "      <th>Diabetic</th>\n",
       "      <th>PhysicalActivity</th>\n",
       "      <th>GenHealth</th>\n",
       "      <th>SleepTime</th>\n",
       "      <th>Asthma</th>\n",
       "      <th>KidneyDisease</th>\n",
       "      <th>SkinCancer</th>\n",
       "    </tr>\n",
       "  </thead>\n",
       "  <tbody>\n",
       "    <tr>\n",
       "      <th>0</th>\n",
       "      <td>0</td>\n",
       "      <td>-1.418635</td>\n",
       "      <td>1</td>\n",
       "      <td>0</td>\n",
       "      <td>0</td>\n",
       "      <td>1.5</td>\n",
       "      <td>7.5</td>\n",
       "      <td>0</td>\n",
       "      <td>0</td>\n",
       "      <td>7</td>\n",
       "      <td>5</td>\n",
       "      <td>2</td>\n",
       "      <td>1</td>\n",
       "      <td>4</td>\n",
       "      <td>-1.0</td>\n",
       "      <td>1</td>\n",
       "      <td>0</td>\n",
       "      <td>1</td>\n",
       "    </tr>\n",
       "    <tr>\n",
       "      <th>1</th>\n",
       "      <td>0</td>\n",
       "      <td>-0.927822</td>\n",
       "      <td>0</td>\n",
       "      <td>0</td>\n",
       "      <td>1</td>\n",
       "      <td>0.0</td>\n",
       "      <td>0.0</td>\n",
       "      <td>0</td>\n",
       "      <td>0</td>\n",
       "      <td>12</td>\n",
       "      <td>5</td>\n",
       "      <td>0</td>\n",
       "      <td>1</td>\n",
       "      <td>4</td>\n",
       "      <td>0.0</td>\n",
       "      <td>0</td>\n",
       "      <td>0</td>\n",
       "      <td>0</td>\n",
       "    </tr>\n",
       "    <tr>\n",
       "      <th>2</th>\n",
       "      <td>0</td>\n",
       "      <td>-0.108924</td>\n",
       "      <td>1</td>\n",
       "      <td>0</td>\n",
       "      <td>0</td>\n",
       "      <td>10.0</td>\n",
       "      <td>7.5</td>\n",
       "      <td>0</td>\n",
       "      <td>1</td>\n",
       "      <td>9</td>\n",
       "      <td>5</td>\n",
       "      <td>2</td>\n",
       "      <td>1</td>\n",
       "      <td>1</td>\n",
       "      <td>0.5</td>\n",
       "      <td>1</td>\n",
       "      <td>0</td>\n",
       "      <td>0</td>\n",
       "    </tr>\n",
       "    <tr>\n",
       "      <th>3</th>\n",
       "      <td>0</td>\n",
       "      <td>-0.419948</td>\n",
       "      <td>0</td>\n",
       "      <td>0</td>\n",
       "      <td>0</td>\n",
       "      <td>0.0</td>\n",
       "      <td>0.0</td>\n",
       "      <td>0</td>\n",
       "      <td>0</td>\n",
       "      <td>11</td>\n",
       "      <td>5</td>\n",
       "      <td>0</td>\n",
       "      <td>0</td>\n",
       "      <td>2</td>\n",
       "      <td>-0.5</td>\n",
       "      <td>0</td>\n",
       "      <td>0</td>\n",
       "      <td>1</td>\n",
       "    </tr>\n",
       "    <tr>\n",
       "      <th>4</th>\n",
       "      <td>0</td>\n",
       "      <td>-0.485564</td>\n",
       "      <td>0</td>\n",
       "      <td>0</td>\n",
       "      <td>0</td>\n",
       "      <td>14.0</td>\n",
       "      <td>0.0</td>\n",
       "      <td>1</td>\n",
       "      <td>0</td>\n",
       "      <td>4</td>\n",
       "      <td>5</td>\n",
       "      <td>0</td>\n",
       "      <td>1</td>\n",
       "      <td>4</td>\n",
       "      <td>0.5</td>\n",
       "      <td>0</td>\n",
       "      <td>0</td>\n",
       "      <td>0</td>\n",
       "    </tr>\n",
       "    <tr>\n",
       "      <th>...</th>\n",
       "      <td>...</td>\n",
       "      <td>...</td>\n",
       "      <td>...</td>\n",
       "      <td>...</td>\n",
       "      <td>...</td>\n",
       "      <td>...</td>\n",
       "      <td>...</td>\n",
       "      <td>...</td>\n",
       "      <td>...</td>\n",
       "      <td>...</td>\n",
       "      <td>...</td>\n",
       "      <td>...</td>\n",
       "      <td>...</td>\n",
       "      <td>...</td>\n",
       "      <td>...</td>\n",
       "      <td>...</td>\n",
       "      <td>...</td>\n",
       "      <td>...</td>\n",
       "    </tr>\n",
       "    <tr>\n",
       "      <th>319790</th>\n",
       "      <td>1</td>\n",
       "      <td>0.000000</td>\n",
       "      <td>1</td>\n",
       "      <td>0</td>\n",
       "      <td>0</td>\n",
       "      <td>3.5</td>\n",
       "      <td>0.0</td>\n",
       "      <td>1</td>\n",
       "      <td>1</td>\n",
       "      <td>8</td>\n",
       "      <td>3</td>\n",
       "      <td>2</td>\n",
       "      <td>0</td>\n",
       "      <td>1</td>\n",
       "      <td>-0.5</td>\n",
       "      <td>1</td>\n",
       "      <td>0</td>\n",
       "      <td>0</td>\n",
       "    </tr>\n",
       "    <tr>\n",
       "      <th>319791</th>\n",
       "      <td>0</td>\n",
       "      <td>0.318898</td>\n",
       "      <td>1</td>\n",
       "      <td>0</td>\n",
       "      <td>0</td>\n",
       "      <td>0.0</td>\n",
       "      <td>0.0</td>\n",
       "      <td>0</td>\n",
       "      <td>1</td>\n",
       "      <td>3</td>\n",
       "      <td>3</td>\n",
       "      <td>0</td>\n",
       "      <td>1</td>\n",
       "      <td>4</td>\n",
       "      <td>-1.0</td>\n",
       "      <td>1</td>\n",
       "      <td>0</td>\n",
       "      <td>0</td>\n",
       "    </tr>\n",
       "    <tr>\n",
       "      <th>319792</th>\n",
       "      <td>0</td>\n",
       "      <td>-0.416010</td>\n",
       "      <td>0</td>\n",
       "      <td>0</td>\n",
       "      <td>0</td>\n",
       "      <td>0.0</td>\n",
       "      <td>0.0</td>\n",
       "      <td>0</td>\n",
       "      <td>0</td>\n",
       "      <td>5</td>\n",
       "      <td>3</td>\n",
       "      <td>0</td>\n",
       "      <td>1</td>\n",
       "      <td>2</td>\n",
       "      <td>-0.5</td>\n",
       "      <td>0</td>\n",
       "      <td>0</td>\n",
       "      <td>0</td>\n",
       "    </tr>\n",
       "    <tr>\n",
       "      <th>319793</th>\n",
       "      <td>0</td>\n",
       "      <td>0.708661</td>\n",
       "      <td>0</td>\n",
       "      <td>0</td>\n",
       "      <td>0</td>\n",
       "      <td>0.0</td>\n",
       "      <td>0.0</td>\n",
       "      <td>0</td>\n",
       "      <td>0</td>\n",
       "      <td>1</td>\n",
       "      <td>3</td>\n",
       "      <td>0</td>\n",
       "      <td>0</td>\n",
       "      <td>2</td>\n",
       "      <td>2.5</td>\n",
       "      <td>0</td>\n",
       "      <td>0</td>\n",
       "      <td>0</td>\n",
       "    </tr>\n",
       "    <tr>\n",
       "      <th>319794</th>\n",
       "      <td>0</td>\n",
       "      <td>2.513123</td>\n",
       "      <td>0</td>\n",
       "      <td>0</td>\n",
       "      <td>0</td>\n",
       "      <td>0.0</td>\n",
       "      <td>0.0</td>\n",
       "      <td>0</td>\n",
       "      <td>0</td>\n",
       "      <td>12</td>\n",
       "      <td>3</td>\n",
       "      <td>0</td>\n",
       "      <td>1</td>\n",
       "      <td>2</td>\n",
       "      <td>0.5</td>\n",
       "      <td>0</td>\n",
       "      <td>0</td>\n",
       "      <td>0</td>\n",
       "    </tr>\n",
       "  </tbody>\n",
       "</table>\n",
       "<p>301717 rows × 18 columns</p>\n",
       "</div>"
      ],
      "text/plain": [
       "        HeartDisease       BMI  Smoking  AlcoholDrinking  Stroke  \\\n",
       "0                  0 -1.418635        1                0       0   \n",
       "1                  0 -0.927822        0                0       1   \n",
       "2                  0 -0.108924        1                0       0   \n",
       "3                  0 -0.419948        0                0       0   \n",
       "4                  0 -0.485564        0                0       0   \n",
       "...              ...       ...      ...              ...     ...   \n",
       "319790             1  0.000000        1                0       0   \n",
       "319791             0  0.318898        1                0       0   \n",
       "319792             0 -0.416010        0                0       0   \n",
       "319793             0  0.708661        0                0       0   \n",
       "319794             0  2.513123        0                0       0   \n",
       "\n",
       "        PhysicalHealth  MentalHealth  DiffWalking  Sex  AgeCategory  Race  \\\n",
       "0                  1.5           7.5            0    0            7     5   \n",
       "1                  0.0           0.0            0    0           12     5   \n",
       "2                 10.0           7.5            0    1            9     5   \n",
       "3                  0.0           0.0            0    0           11     5   \n",
       "4                 14.0           0.0            1    0            4     5   \n",
       "...                ...           ...          ...  ...          ...   ...   \n",
       "319790             3.5           0.0            1    1            8     3   \n",
       "319791             0.0           0.0            0    1            3     3   \n",
       "319792             0.0           0.0            0    0            5     3   \n",
       "319793             0.0           0.0            0    0            1     3   \n",
       "319794             0.0           0.0            0    0           12     3   \n",
       "\n",
       "        Diabetic  PhysicalActivity  GenHealth  SleepTime  Asthma  \\\n",
       "0              2                 1          4       -1.0       1   \n",
       "1              0                 1          4        0.0       0   \n",
       "2              2                 1          1        0.5       1   \n",
       "3              0                 0          2       -0.5       0   \n",
       "4              0                 1          4        0.5       0   \n",
       "...          ...               ...        ...        ...     ...   \n",
       "319790         2                 0          1       -0.5       1   \n",
       "319791         0                 1          4       -1.0       1   \n",
       "319792         0                 1          2       -0.5       0   \n",
       "319793         0                 0          2        2.5       0   \n",
       "319794         0                 1          2        0.5       0   \n",
       "\n",
       "        KidneyDisease  SkinCancer  \n",
       "0                   0           1  \n",
       "1                   0           0  \n",
       "2                   0           0  \n",
       "3                   0           1  \n",
       "4                   0           0  \n",
       "...               ...         ...  \n",
       "319790              0           0  \n",
       "319791              0           0  \n",
       "319792              0           0  \n",
       "319793              0           0  \n",
       "319794              0           0  \n",
       "\n",
       "[301717 rows x 18 columns]"
      ]
     },
     "execution_count": 112,
     "metadata": {},
     "output_type": "execute_result"
    }
   ],
   "source": [
    "# Since we have outliers in our data, let's first try the Robust scaler:\n",
    "from sklearn.preprocessing import RobustScaler\n",
    "rob = RobustScaler()\n",
    "outliered_featuers = [\"BMI\", \"PhysicalHealth\", \"MentalHealth\", \"SleepTime\"]\n",
    "for i in outliered_featuers:\n",
    "    df_scaled[i] = rob.fit_transform(df_scaled[[i]])\n",
    "df_scaled"
   ]
  },
  {
   "cell_type": "code",
   "execution_count": 113,
   "id": "5d699b64",
   "metadata": {
    "colab": {
     "base_uri": "https://localhost:8080/",
     "height": 613
    },
    "id": "b5df810c",
    "outputId": "e5d07afb-eb7e-42ae-915d-5c983083453d"
   },
   "outputs": [
    {
     "data": {
      "text/html": [
       "<div>\n",
       "<style scoped>\n",
       "    .dataframe tbody tr th:only-of-type {\n",
       "        vertical-align: middle;\n",
       "    }\n",
       "\n",
       "    .dataframe tbody tr th {\n",
       "        vertical-align: top;\n",
       "    }\n",
       "\n",
       "    .dataframe thead th {\n",
       "        text-align: right;\n",
       "    }\n",
       "</style>\n",
       "<table border=\"1\" class=\"dataframe\">\n",
       "  <thead>\n",
       "    <tr style=\"text-align: right;\">\n",
       "      <th></th>\n",
       "      <th>count</th>\n",
       "      <th>mean</th>\n",
       "      <th>std</th>\n",
       "      <th>min</th>\n",
       "      <th>25%</th>\n",
       "      <th>50%</th>\n",
       "      <th>75%</th>\n",
       "      <th>max</th>\n",
       "    </tr>\n",
       "  </thead>\n",
       "  <tbody>\n",
       "    <tr>\n",
       "      <th>HeartDisease</th>\n",
       "      <td>301717.0</td>\n",
       "      <td>0.090353</td>\n",
       "      <td>0.286687</td>\n",
       "      <td>0.000000</td>\n",
       "      <td>0.00000</td>\n",
       "      <td>0.0</td>\n",
       "      <td>0.00000</td>\n",
       "      <td>1.000000</td>\n",
       "    </tr>\n",
       "    <tr>\n",
       "      <th>BMI</th>\n",
       "      <td>301717.0</td>\n",
       "      <td>0.135429</td>\n",
       "      <td>0.848837</td>\n",
       "      <td>-2.019685</td>\n",
       "      <td>-0.44357</td>\n",
       "      <td>0.0</td>\n",
       "      <td>0.55643</td>\n",
       "      <td>8.850394</td>\n",
       "    </tr>\n",
       "    <tr>\n",
       "      <th>Smoking</th>\n",
       "      <td>301717.0</td>\n",
       "      <td>0.422267</td>\n",
       "      <td>0.493921</td>\n",
       "      <td>0.000000</td>\n",
       "      <td>0.00000</td>\n",
       "      <td>0.0</td>\n",
       "      <td>1.00000</td>\n",
       "      <td>1.000000</td>\n",
       "    </tr>\n",
       "    <tr>\n",
       "      <th>AlcoholDrinking</th>\n",
       "      <td>301717.0</td>\n",
       "      <td>0.071527</td>\n",
       "      <td>0.257704</td>\n",
       "      <td>0.000000</td>\n",
       "      <td>0.00000</td>\n",
       "      <td>0.0</td>\n",
       "      <td>0.00000</td>\n",
       "      <td>1.000000</td>\n",
       "    </tr>\n",
       "    <tr>\n",
       "      <th>Stroke</th>\n",
       "      <td>301717.0</td>\n",
       "      <td>0.039984</td>\n",
       "      <td>0.195923</td>\n",
       "      <td>0.000000</td>\n",
       "      <td>0.00000</td>\n",
       "      <td>0.0</td>\n",
       "      <td>0.00000</td>\n",
       "      <td>1.000000</td>\n",
       "    </tr>\n",
       "    <tr>\n",
       "      <th>PhysicalHealth</th>\n",
       "      <td>301717.0</td>\n",
       "      <td>1.786149</td>\n",
       "      <td>4.070328</td>\n",
       "      <td>0.000000</td>\n",
       "      <td>0.00000</td>\n",
       "      <td>0.0</td>\n",
       "      <td>1.00000</td>\n",
       "      <td>15.000000</td>\n",
       "    </tr>\n",
       "    <tr>\n",
       "      <th>MentalHealth</th>\n",
       "      <td>301717.0</td>\n",
       "      <td>1.030369</td>\n",
       "      <td>2.032072</td>\n",
       "      <td>0.000000</td>\n",
       "      <td>0.00000</td>\n",
       "      <td>0.0</td>\n",
       "      <td>1.00000</td>\n",
       "      <td>7.500000</td>\n",
       "    </tr>\n",
       "    <tr>\n",
       "      <th>DiffWalking</th>\n",
       "      <td>301717.0</td>\n",
       "      <td>0.147009</td>\n",
       "      <td>0.354115</td>\n",
       "      <td>0.000000</td>\n",
       "      <td>0.00000</td>\n",
       "      <td>0.0</td>\n",
       "      <td>0.00000</td>\n",
       "      <td>1.000000</td>\n",
       "    </tr>\n",
       "    <tr>\n",
       "      <th>Sex</th>\n",
       "      <td>301717.0</td>\n",
       "      <td>0.470792</td>\n",
       "      <td>0.499147</td>\n",
       "      <td>0.000000</td>\n",
       "      <td>0.00000</td>\n",
       "      <td>0.0</td>\n",
       "      <td>1.00000</td>\n",
       "      <td>1.000000</td>\n",
       "    </tr>\n",
       "    <tr>\n",
       "      <th>AgeCategory</th>\n",
       "      <td>301717.0</td>\n",
       "      <td>6.509408</td>\n",
       "      <td>3.584510</td>\n",
       "      <td>0.000000</td>\n",
       "      <td>4.00000</td>\n",
       "      <td>7.0</td>\n",
       "      <td>9.00000</td>\n",
       "      <td>12.000000</td>\n",
       "    </tr>\n",
       "    <tr>\n",
       "      <th>Race</th>\n",
       "      <td>301717.0</td>\n",
       "      <td>4.365409</td>\n",
       "      <td>1.235817</td>\n",
       "      <td>0.000000</td>\n",
       "      <td>5.00000</td>\n",
       "      <td>5.0</td>\n",
       "      <td>5.00000</td>\n",
       "      <td>5.000000</td>\n",
       "    </tr>\n",
       "    <tr>\n",
       "      <th>Diabetic</th>\n",
       "      <td>301717.0</td>\n",
       "      <td>0.316926</td>\n",
       "      <td>0.732372</td>\n",
       "      <td>0.000000</td>\n",
       "      <td>0.00000</td>\n",
       "      <td>0.0</td>\n",
       "      <td>0.00000</td>\n",
       "      <td>3.000000</td>\n",
       "    </tr>\n",
       "    <tr>\n",
       "      <th>PhysicalActivity</th>\n",
       "      <td>301717.0</td>\n",
       "      <td>0.763669</td>\n",
       "      <td>0.424828</td>\n",
       "      <td>0.000000</td>\n",
       "      <td>1.00000</td>\n",
       "      <td>1.0</td>\n",
       "      <td>1.00000</td>\n",
       "      <td>1.000000</td>\n",
       "    </tr>\n",
       "    <tr>\n",
       "      <th>GenHealth</th>\n",
       "      <td>301717.0</td>\n",
       "      <td>2.221217</td>\n",
       "      <td>1.511502</td>\n",
       "      <td>0.000000</td>\n",
       "      <td>1.00000</td>\n",
       "      <td>2.0</td>\n",
       "      <td>4.00000</td>\n",
       "      <td>4.000000</td>\n",
       "    </tr>\n",
       "    <tr>\n",
       "      <th>SleepTime</th>\n",
       "      <td>301717.0</td>\n",
       "      <td>0.042280</td>\n",
       "      <td>0.733561</td>\n",
       "      <td>-3.000000</td>\n",
       "      <td>-0.50000</td>\n",
       "      <td>0.0</td>\n",
       "      <td>0.50000</td>\n",
       "      <td>8.500000</td>\n",
       "    </tr>\n",
       "    <tr>\n",
       "      <th>Asthma</th>\n",
       "      <td>301717.0</td>\n",
       "      <td>0.141361</td>\n",
       "      <td>0.348394</td>\n",
       "      <td>0.000000</td>\n",
       "      <td>0.00000</td>\n",
       "      <td>0.0</td>\n",
       "      <td>0.00000</td>\n",
       "      <td>1.000000</td>\n",
       "    </tr>\n",
       "    <tr>\n",
       "      <th>KidneyDisease</th>\n",
       "      <td>301717.0</td>\n",
       "      <td>0.039030</td>\n",
       "      <td>0.193667</td>\n",
       "      <td>0.000000</td>\n",
       "      <td>0.00000</td>\n",
       "      <td>0.0</td>\n",
       "      <td>0.00000</td>\n",
       "      <td>1.000000</td>\n",
       "    </tr>\n",
       "    <tr>\n",
       "      <th>SkinCancer</th>\n",
       "      <td>301717.0</td>\n",
       "      <td>0.097084</td>\n",
       "      <td>0.296073</td>\n",
       "      <td>0.000000</td>\n",
       "      <td>0.00000</td>\n",
       "      <td>0.0</td>\n",
       "      <td>0.00000</td>\n",
       "      <td>1.000000</td>\n",
       "    </tr>\n",
       "  </tbody>\n",
       "</table>\n",
       "</div>"
      ],
      "text/plain": [
       "                     count      mean       std       min      25%  50%  \\\n",
       "HeartDisease      301717.0  0.090353  0.286687  0.000000  0.00000  0.0   \n",
       "BMI               301717.0  0.135429  0.848837 -2.019685 -0.44357  0.0   \n",
       "Smoking           301717.0  0.422267  0.493921  0.000000  0.00000  0.0   \n",
       "AlcoholDrinking   301717.0  0.071527  0.257704  0.000000  0.00000  0.0   \n",
       "Stroke            301717.0  0.039984  0.195923  0.000000  0.00000  0.0   \n",
       "PhysicalHealth    301717.0  1.786149  4.070328  0.000000  0.00000  0.0   \n",
       "MentalHealth      301717.0  1.030369  2.032072  0.000000  0.00000  0.0   \n",
       "DiffWalking       301717.0  0.147009  0.354115  0.000000  0.00000  0.0   \n",
       "Sex               301717.0  0.470792  0.499147  0.000000  0.00000  0.0   \n",
       "AgeCategory       301717.0  6.509408  3.584510  0.000000  4.00000  7.0   \n",
       "Race              301717.0  4.365409  1.235817  0.000000  5.00000  5.0   \n",
       "Diabetic          301717.0  0.316926  0.732372  0.000000  0.00000  0.0   \n",
       "PhysicalActivity  301717.0  0.763669  0.424828  0.000000  1.00000  1.0   \n",
       "GenHealth         301717.0  2.221217  1.511502  0.000000  1.00000  2.0   \n",
       "SleepTime         301717.0  0.042280  0.733561 -3.000000 -0.50000  0.0   \n",
       "Asthma            301717.0  0.141361  0.348394  0.000000  0.00000  0.0   \n",
       "KidneyDisease     301717.0  0.039030  0.193667  0.000000  0.00000  0.0   \n",
       "SkinCancer        301717.0  0.097084  0.296073  0.000000  0.00000  0.0   \n",
       "\n",
       "                      75%        max  \n",
       "HeartDisease      0.00000   1.000000  \n",
       "BMI               0.55643   8.850394  \n",
       "Smoking           1.00000   1.000000  \n",
       "AlcoholDrinking   0.00000   1.000000  \n",
       "Stroke            0.00000   1.000000  \n",
       "PhysicalHealth    1.00000  15.000000  \n",
       "MentalHealth      1.00000   7.500000  \n",
       "DiffWalking       0.00000   1.000000  \n",
       "Sex               1.00000   1.000000  \n",
       "AgeCategory       9.00000  12.000000  \n",
       "Race              5.00000   5.000000  \n",
       "Diabetic          0.00000   3.000000  \n",
       "PhysicalActivity  1.00000   1.000000  \n",
       "GenHealth         4.00000   4.000000  \n",
       "SleepTime         0.50000   8.500000  \n",
       "Asthma            0.00000   1.000000  \n",
       "KidneyDisease     0.00000   1.000000  \n",
       "SkinCancer        0.00000   1.000000  "
      ]
     },
     "execution_count": 113,
     "metadata": {},
     "output_type": "execute_result"
    }
   ],
   "source": [
    "df_scaled.describe().T"
   ]
  },
  {
   "cell_type": "markdown",
   "id": "fcafac94",
   "metadata": {
    "id": "49bb93c1"
   },
   "source": [
    "### Now, we can apply any scaler to the whole dataset, but because we don't need to scale our target in our case here, we will scale only the features, so we can do this after droping the target (while we are getting ready for the splitting stage)"
   ]
  },
  {
   "cell_type": "code",
   "execution_count": 114,
   "id": "f75d7d06",
   "metadata": {
    "id": "c9a72fba"
   },
   "outputs": [],
   "source": [
    "x = df_scaled.drop(columns='HeartDisease')"
   ]
  },
  {
   "cell_type": "code",
   "execution_count": 115,
   "id": "88d728dd",
   "metadata": {
    "id": "4b289818"
   },
   "outputs": [],
   "source": [
    "# We will use the minmaxscaler:\n",
    "from sklearn.preprocessing import MinMaxScaler\n",
    "minmax = MinMaxScaler()"
   ]
  },
  {
   "cell_type": "code",
   "execution_count": 116,
   "id": "84b5604d",
   "metadata": {
    "colab": {
     "base_uri": "https://localhost:8080/",
     "height": 487
    },
    "id": "44899b57",
    "outputId": "1fcb020d-8526-4ec1-e797-a9d8a369df11"
   },
   "outputs": [
    {
     "data": {
      "text/html": [
       "<div>\n",
       "<style scoped>\n",
       "    .dataframe tbody tr th:only-of-type {\n",
       "        vertical-align: middle;\n",
       "    }\n",
       "\n",
       "    .dataframe tbody tr th {\n",
       "        vertical-align: top;\n",
       "    }\n",
       "\n",
       "    .dataframe thead th {\n",
       "        text-align: right;\n",
       "    }\n",
       "</style>\n",
       "<table border=\"1\" class=\"dataframe\">\n",
       "  <thead>\n",
       "    <tr style=\"text-align: right;\">\n",
       "      <th></th>\n",
       "      <th>BMI</th>\n",
       "      <th>Smoking</th>\n",
       "      <th>AlcoholDrinking</th>\n",
       "      <th>Stroke</th>\n",
       "      <th>PhysicalHealth</th>\n",
       "      <th>MentalHealth</th>\n",
       "      <th>DiffWalking</th>\n",
       "      <th>Sex</th>\n",
       "      <th>AgeCategory</th>\n",
       "      <th>Race</th>\n",
       "      <th>Diabetic</th>\n",
       "      <th>PhysicalActivity</th>\n",
       "      <th>GenHealth</th>\n",
       "      <th>SleepTime</th>\n",
       "      <th>Asthma</th>\n",
       "      <th>KidneyDisease</th>\n",
       "      <th>SkinCancer</th>\n",
       "    </tr>\n",
       "  </thead>\n",
       "  <tbody>\n",
       "    <tr>\n",
       "      <th>0</th>\n",
       "      <td>0.055294</td>\n",
       "      <td>1.0</td>\n",
       "      <td>0.0</td>\n",
       "      <td>0.0</td>\n",
       "      <td>0.100000</td>\n",
       "      <td>1.0</td>\n",
       "      <td>0.0</td>\n",
       "      <td>0.0</td>\n",
       "      <td>0.583333</td>\n",
       "      <td>1.0</td>\n",
       "      <td>0.666667</td>\n",
       "      <td>1.0</td>\n",
       "      <td>1.00</td>\n",
       "      <td>0.173913</td>\n",
       "      <td>1.0</td>\n",
       "      <td>0.0</td>\n",
       "      <td>1.0</td>\n",
       "    </tr>\n",
       "    <tr>\n",
       "      <th>1</th>\n",
       "      <td>0.100447</td>\n",
       "      <td>0.0</td>\n",
       "      <td>0.0</td>\n",
       "      <td>1.0</td>\n",
       "      <td>0.000000</td>\n",
       "      <td>0.0</td>\n",
       "      <td>0.0</td>\n",
       "      <td>0.0</td>\n",
       "      <td>1.000000</td>\n",
       "      <td>1.0</td>\n",
       "      <td>0.000000</td>\n",
       "      <td>1.0</td>\n",
       "      <td>1.00</td>\n",
       "      <td>0.260870</td>\n",
       "      <td>0.0</td>\n",
       "      <td>0.0</td>\n",
       "      <td>0.0</td>\n",
       "    </tr>\n",
       "    <tr>\n",
       "      <th>2</th>\n",
       "      <td>0.175782</td>\n",
       "      <td>1.0</td>\n",
       "      <td>0.0</td>\n",
       "      <td>0.0</td>\n",
       "      <td>0.666667</td>\n",
       "      <td>1.0</td>\n",
       "      <td>0.0</td>\n",
       "      <td>1.0</td>\n",
       "      <td>0.750000</td>\n",
       "      <td>1.0</td>\n",
       "      <td>0.666667</td>\n",
       "      <td>1.0</td>\n",
       "      <td>0.25</td>\n",
       "      <td>0.304348</td>\n",
       "      <td>1.0</td>\n",
       "      <td>0.0</td>\n",
       "      <td>0.0</td>\n",
       "    </tr>\n",
       "    <tr>\n",
       "      <th>3</th>\n",
       "      <td>0.147169</td>\n",
       "      <td>0.0</td>\n",
       "      <td>0.0</td>\n",
       "      <td>0.0</td>\n",
       "      <td>0.000000</td>\n",
       "      <td>0.0</td>\n",
       "      <td>0.0</td>\n",
       "      <td>0.0</td>\n",
       "      <td>0.916667</td>\n",
       "      <td>1.0</td>\n",
       "      <td>0.000000</td>\n",
       "      <td>0.0</td>\n",
       "      <td>0.50</td>\n",
       "      <td>0.217391</td>\n",
       "      <td>0.0</td>\n",
       "      <td>0.0</td>\n",
       "      <td>1.0</td>\n",
       "    </tr>\n",
       "    <tr>\n",
       "      <th>4</th>\n",
       "      <td>0.141132</td>\n",
       "      <td>0.0</td>\n",
       "      <td>0.0</td>\n",
       "      <td>0.0</td>\n",
       "      <td>0.933333</td>\n",
       "      <td>0.0</td>\n",
       "      <td>1.0</td>\n",
       "      <td>0.0</td>\n",
       "      <td>0.333333</td>\n",
       "      <td>1.0</td>\n",
       "      <td>0.000000</td>\n",
       "      <td>1.0</td>\n",
       "      <td>1.00</td>\n",
       "      <td>0.304348</td>\n",
       "      <td>0.0</td>\n",
       "      <td>0.0</td>\n",
       "      <td>0.0</td>\n",
       "    </tr>\n",
       "    <tr>\n",
       "      <th>...</th>\n",
       "      <td>...</td>\n",
       "      <td>...</td>\n",
       "      <td>...</td>\n",
       "      <td>...</td>\n",
       "      <td>...</td>\n",
       "      <td>...</td>\n",
       "      <td>...</td>\n",
       "      <td>...</td>\n",
       "      <td>...</td>\n",
       "      <td>...</td>\n",
       "      <td>...</td>\n",
       "      <td>...</td>\n",
       "      <td>...</td>\n",
       "      <td>...</td>\n",
       "      <td>...</td>\n",
       "      <td>...</td>\n",
       "      <td>...</td>\n",
       "    </tr>\n",
       "    <tr>\n",
       "      <th>319790</th>\n",
       "      <td>0.185802</td>\n",
       "      <td>1.0</td>\n",
       "      <td>0.0</td>\n",
       "      <td>0.0</td>\n",
       "      <td>0.233333</td>\n",
       "      <td>0.0</td>\n",
       "      <td>1.0</td>\n",
       "      <td>1.0</td>\n",
       "      <td>0.666667</td>\n",
       "      <td>0.6</td>\n",
       "      <td>0.666667</td>\n",
       "      <td>0.0</td>\n",
       "      <td>0.25</td>\n",
       "      <td>0.217391</td>\n",
       "      <td>1.0</td>\n",
       "      <td>0.0</td>\n",
       "      <td>0.0</td>\n",
       "    </tr>\n",
       "    <tr>\n",
       "      <th>319791</th>\n",
       "      <td>0.215139</td>\n",
       "      <td>1.0</td>\n",
       "      <td>0.0</td>\n",
       "      <td>0.0</td>\n",
       "      <td>0.000000</td>\n",
       "      <td>0.0</td>\n",
       "      <td>0.0</td>\n",
       "      <td>1.0</td>\n",
       "      <td>0.250000</td>\n",
       "      <td>0.6</td>\n",
       "      <td>0.000000</td>\n",
       "      <td>1.0</td>\n",
       "      <td>1.00</td>\n",
       "      <td>0.173913</td>\n",
       "      <td>1.0</td>\n",
       "      <td>0.0</td>\n",
       "      <td>0.0</td>\n",
       "    </tr>\n",
       "    <tr>\n",
       "      <th>319792</th>\n",
       "      <td>0.147531</td>\n",
       "      <td>0.0</td>\n",
       "      <td>0.0</td>\n",
       "      <td>0.0</td>\n",
       "      <td>0.000000</td>\n",
       "      <td>0.0</td>\n",
       "      <td>0.0</td>\n",
       "      <td>0.0</td>\n",
       "      <td>0.416667</td>\n",
       "      <td>0.6</td>\n",
       "      <td>0.000000</td>\n",
       "      <td>1.0</td>\n",
       "      <td>0.50</td>\n",
       "      <td>0.217391</td>\n",
       "      <td>0.0</td>\n",
       "      <td>0.0</td>\n",
       "      <td>0.0</td>\n",
       "    </tr>\n",
       "    <tr>\n",
       "      <th>319793</th>\n",
       "      <td>0.250996</td>\n",
       "      <td>0.0</td>\n",
       "      <td>0.0</td>\n",
       "      <td>0.0</td>\n",
       "      <td>0.000000</td>\n",
       "      <td>0.0</td>\n",
       "      <td>0.0</td>\n",
       "      <td>0.0</td>\n",
       "      <td>0.083333</td>\n",
       "      <td>0.6</td>\n",
       "      <td>0.000000</td>\n",
       "      <td>0.0</td>\n",
       "      <td>0.50</td>\n",
       "      <td>0.478261</td>\n",
       "      <td>0.0</td>\n",
       "      <td>0.0</td>\n",
       "      <td>0.0</td>\n",
       "    </tr>\n",
       "    <tr>\n",
       "      <th>319794</th>\n",
       "      <td>0.416999</td>\n",
       "      <td>0.0</td>\n",
       "      <td>0.0</td>\n",
       "      <td>0.0</td>\n",
       "      <td>0.000000</td>\n",
       "      <td>0.0</td>\n",
       "      <td>0.0</td>\n",
       "      <td>0.0</td>\n",
       "      <td>1.000000</td>\n",
       "      <td>0.6</td>\n",
       "      <td>0.000000</td>\n",
       "      <td>1.0</td>\n",
       "      <td>0.50</td>\n",
       "      <td>0.304348</td>\n",
       "      <td>0.0</td>\n",
       "      <td>0.0</td>\n",
       "      <td>0.0</td>\n",
       "    </tr>\n",
       "  </tbody>\n",
       "</table>\n",
       "<p>301717 rows × 17 columns</p>\n",
       "</div>"
      ],
      "text/plain": [
       "             BMI  Smoking  AlcoholDrinking  Stroke  PhysicalHealth  \\\n",
       "0       0.055294      1.0              0.0     0.0        0.100000   \n",
       "1       0.100447      0.0              0.0     1.0        0.000000   \n",
       "2       0.175782      1.0              0.0     0.0        0.666667   \n",
       "3       0.147169      0.0              0.0     0.0        0.000000   \n",
       "4       0.141132      0.0              0.0     0.0        0.933333   \n",
       "...          ...      ...              ...     ...             ...   \n",
       "319790  0.185802      1.0              0.0     0.0        0.233333   \n",
       "319791  0.215139      1.0              0.0     0.0        0.000000   \n",
       "319792  0.147531      0.0              0.0     0.0        0.000000   \n",
       "319793  0.250996      0.0              0.0     0.0        0.000000   \n",
       "319794  0.416999      0.0              0.0     0.0        0.000000   \n",
       "\n",
       "        MentalHealth  DiffWalking  Sex  AgeCategory  Race  Diabetic  \\\n",
       "0                1.0          0.0  0.0     0.583333   1.0  0.666667   \n",
       "1                0.0          0.0  0.0     1.000000   1.0  0.000000   \n",
       "2                1.0          0.0  1.0     0.750000   1.0  0.666667   \n",
       "3                0.0          0.0  0.0     0.916667   1.0  0.000000   \n",
       "4                0.0          1.0  0.0     0.333333   1.0  0.000000   \n",
       "...              ...          ...  ...          ...   ...       ...   \n",
       "319790           0.0          1.0  1.0     0.666667   0.6  0.666667   \n",
       "319791           0.0          0.0  1.0     0.250000   0.6  0.000000   \n",
       "319792           0.0          0.0  0.0     0.416667   0.6  0.000000   \n",
       "319793           0.0          0.0  0.0     0.083333   0.6  0.000000   \n",
       "319794           0.0          0.0  0.0     1.000000   0.6  0.000000   \n",
       "\n",
       "        PhysicalActivity  GenHealth  SleepTime  Asthma  KidneyDisease  \\\n",
       "0                    1.0       1.00   0.173913     1.0            0.0   \n",
       "1                    1.0       1.00   0.260870     0.0            0.0   \n",
       "2                    1.0       0.25   0.304348     1.0            0.0   \n",
       "3                    0.0       0.50   0.217391     0.0            0.0   \n",
       "4                    1.0       1.00   0.304348     0.0            0.0   \n",
       "...                  ...        ...        ...     ...            ...   \n",
       "319790               0.0       0.25   0.217391     1.0            0.0   \n",
       "319791               1.0       1.00   0.173913     1.0            0.0   \n",
       "319792               1.0       0.50   0.217391     0.0            0.0   \n",
       "319793               0.0       0.50   0.478261     0.0            0.0   \n",
       "319794               1.0       0.50   0.304348     0.0            0.0   \n",
       "\n",
       "        SkinCancer  \n",
       "0              1.0  \n",
       "1              0.0  \n",
       "2              0.0  \n",
       "3              1.0  \n",
       "4              0.0  \n",
       "...            ...  \n",
       "319790         0.0  \n",
       "319791         0.0  \n",
       "319792         0.0  \n",
       "319793         0.0  \n",
       "319794         0.0  \n",
       "\n",
       "[301717 rows x 17 columns]"
      ]
     },
     "execution_count": 116,
     "metadata": {},
     "output_type": "execute_result"
    }
   ],
   "source": [
    "for i in x:\n",
    "    x[i] = minmax.fit_transform(x[[i]])\n",
    "x"
   ]
  },
  {
   "cell_type": "code",
   "execution_count": 117,
   "id": "b2e0ac17",
   "metadata": {
    "colab": {
     "base_uri": "https://localhost:8080/",
     "height": 582
    },
    "id": "abbb34d7",
    "outputId": "bec01ed9-044e-44dd-cd00-10944b8e3105"
   },
   "outputs": [
    {
     "data": {
      "text/html": [
       "<div>\n",
       "<style scoped>\n",
       "    .dataframe tbody tr th:only-of-type {\n",
       "        vertical-align: middle;\n",
       "    }\n",
       "\n",
       "    .dataframe tbody tr th {\n",
       "        vertical-align: top;\n",
       "    }\n",
       "\n",
       "    .dataframe thead th {\n",
       "        text-align: right;\n",
       "    }\n",
       "</style>\n",
       "<table border=\"1\" class=\"dataframe\">\n",
       "  <thead>\n",
       "    <tr style=\"text-align: right;\">\n",
       "      <th></th>\n",
       "      <th>count</th>\n",
       "      <th>mean</th>\n",
       "      <th>std</th>\n",
       "      <th>min</th>\n",
       "      <th>25%</th>\n",
       "      <th>50%</th>\n",
       "      <th>75%</th>\n",
       "      <th>max</th>\n",
       "    </tr>\n",
       "  </thead>\n",
       "  <tbody>\n",
       "    <tr>\n",
       "      <th>BMI</th>\n",
       "      <td>301717.0</td>\n",
       "      <td>0.198261</td>\n",
       "      <td>0.078089</td>\n",
       "      <td>0.0</td>\n",
       "      <td>0.144996</td>\n",
       "      <td>0.185802</td>\n",
       "      <td>0.236991</td>\n",
       "      <td>1.0</td>\n",
       "    </tr>\n",
       "    <tr>\n",
       "      <th>Smoking</th>\n",
       "      <td>301717.0</td>\n",
       "      <td>0.422267</td>\n",
       "      <td>0.493921</td>\n",
       "      <td>0.0</td>\n",
       "      <td>0.000000</td>\n",
       "      <td>0.000000</td>\n",
       "      <td>1.000000</td>\n",
       "      <td>1.0</td>\n",
       "    </tr>\n",
       "    <tr>\n",
       "      <th>AlcoholDrinking</th>\n",
       "      <td>301717.0</td>\n",
       "      <td>0.071527</td>\n",
       "      <td>0.257704</td>\n",
       "      <td>0.0</td>\n",
       "      <td>0.000000</td>\n",
       "      <td>0.000000</td>\n",
       "      <td>0.000000</td>\n",
       "      <td>1.0</td>\n",
       "    </tr>\n",
       "    <tr>\n",
       "      <th>Stroke</th>\n",
       "      <td>301717.0</td>\n",
       "      <td>0.039984</td>\n",
       "      <td>0.195923</td>\n",
       "      <td>0.0</td>\n",
       "      <td>0.000000</td>\n",
       "      <td>0.000000</td>\n",
       "      <td>0.000000</td>\n",
       "      <td>1.0</td>\n",
       "    </tr>\n",
       "    <tr>\n",
       "      <th>PhysicalHealth</th>\n",
       "      <td>301717.0</td>\n",
       "      <td>0.119077</td>\n",
       "      <td>0.271355</td>\n",
       "      <td>0.0</td>\n",
       "      <td>0.000000</td>\n",
       "      <td>0.000000</td>\n",
       "      <td>0.066667</td>\n",
       "      <td>1.0</td>\n",
       "    </tr>\n",
       "    <tr>\n",
       "      <th>MentalHealth</th>\n",
       "      <td>301717.0</td>\n",
       "      <td>0.137382</td>\n",
       "      <td>0.270943</td>\n",
       "      <td>0.0</td>\n",
       "      <td>0.000000</td>\n",
       "      <td>0.000000</td>\n",
       "      <td>0.133333</td>\n",
       "      <td>1.0</td>\n",
       "    </tr>\n",
       "    <tr>\n",
       "      <th>DiffWalking</th>\n",
       "      <td>301717.0</td>\n",
       "      <td>0.147009</td>\n",
       "      <td>0.354115</td>\n",
       "      <td>0.0</td>\n",
       "      <td>0.000000</td>\n",
       "      <td>0.000000</td>\n",
       "      <td>0.000000</td>\n",
       "      <td>1.0</td>\n",
       "    </tr>\n",
       "    <tr>\n",
       "      <th>Sex</th>\n",
       "      <td>301717.0</td>\n",
       "      <td>0.470792</td>\n",
       "      <td>0.499147</td>\n",
       "      <td>0.0</td>\n",
       "      <td>0.000000</td>\n",
       "      <td>0.000000</td>\n",
       "      <td>1.000000</td>\n",
       "      <td>1.0</td>\n",
       "    </tr>\n",
       "    <tr>\n",
       "      <th>AgeCategory</th>\n",
       "      <td>301717.0</td>\n",
       "      <td>0.542451</td>\n",
       "      <td>0.298709</td>\n",
       "      <td>0.0</td>\n",
       "      <td>0.333333</td>\n",
       "      <td>0.583333</td>\n",
       "      <td>0.750000</td>\n",
       "      <td>1.0</td>\n",
       "    </tr>\n",
       "    <tr>\n",
       "      <th>Race</th>\n",
       "      <td>301717.0</td>\n",
       "      <td>0.873082</td>\n",
       "      <td>0.247163</td>\n",
       "      <td>0.0</td>\n",
       "      <td>1.000000</td>\n",
       "      <td>1.000000</td>\n",
       "      <td>1.000000</td>\n",
       "      <td>1.0</td>\n",
       "    </tr>\n",
       "    <tr>\n",
       "      <th>Diabetic</th>\n",
       "      <td>301717.0</td>\n",
       "      <td>0.105642</td>\n",
       "      <td>0.244124</td>\n",
       "      <td>0.0</td>\n",
       "      <td>0.000000</td>\n",
       "      <td>0.000000</td>\n",
       "      <td>0.000000</td>\n",
       "      <td>1.0</td>\n",
       "    </tr>\n",
       "    <tr>\n",
       "      <th>PhysicalActivity</th>\n",
       "      <td>301717.0</td>\n",
       "      <td>0.763669</td>\n",
       "      <td>0.424828</td>\n",
       "      <td>0.0</td>\n",
       "      <td>1.000000</td>\n",
       "      <td>1.000000</td>\n",
       "      <td>1.000000</td>\n",
       "      <td>1.0</td>\n",
       "    </tr>\n",
       "    <tr>\n",
       "      <th>GenHealth</th>\n",
       "      <td>301717.0</td>\n",
       "      <td>0.555304</td>\n",
       "      <td>0.377875</td>\n",
       "      <td>0.0</td>\n",
       "      <td>0.250000</td>\n",
       "      <td>0.500000</td>\n",
       "      <td>1.000000</td>\n",
       "      <td>1.0</td>\n",
       "    </tr>\n",
       "    <tr>\n",
       "      <th>SleepTime</th>\n",
       "      <td>301717.0</td>\n",
       "      <td>0.264546</td>\n",
       "      <td>0.063788</td>\n",
       "      <td>0.0</td>\n",
       "      <td>0.217391</td>\n",
       "      <td>0.260870</td>\n",
       "      <td>0.304348</td>\n",
       "      <td>1.0</td>\n",
       "    </tr>\n",
       "    <tr>\n",
       "      <th>Asthma</th>\n",
       "      <td>301717.0</td>\n",
       "      <td>0.141361</td>\n",
       "      <td>0.348394</td>\n",
       "      <td>0.0</td>\n",
       "      <td>0.000000</td>\n",
       "      <td>0.000000</td>\n",
       "      <td>0.000000</td>\n",
       "      <td>1.0</td>\n",
       "    </tr>\n",
       "    <tr>\n",
       "      <th>KidneyDisease</th>\n",
       "      <td>301717.0</td>\n",
       "      <td>0.039030</td>\n",
       "      <td>0.193667</td>\n",
       "      <td>0.0</td>\n",
       "      <td>0.000000</td>\n",
       "      <td>0.000000</td>\n",
       "      <td>0.000000</td>\n",
       "      <td>1.0</td>\n",
       "    </tr>\n",
       "    <tr>\n",
       "      <th>SkinCancer</th>\n",
       "      <td>301717.0</td>\n",
       "      <td>0.097084</td>\n",
       "      <td>0.296073</td>\n",
       "      <td>0.0</td>\n",
       "      <td>0.000000</td>\n",
       "      <td>0.000000</td>\n",
       "      <td>0.000000</td>\n",
       "      <td>1.0</td>\n",
       "    </tr>\n",
       "  </tbody>\n",
       "</table>\n",
       "</div>"
      ],
      "text/plain": [
       "                     count      mean       std  min       25%       50%  \\\n",
       "BMI               301717.0  0.198261  0.078089  0.0  0.144996  0.185802   \n",
       "Smoking           301717.0  0.422267  0.493921  0.0  0.000000  0.000000   \n",
       "AlcoholDrinking   301717.0  0.071527  0.257704  0.0  0.000000  0.000000   \n",
       "Stroke            301717.0  0.039984  0.195923  0.0  0.000000  0.000000   \n",
       "PhysicalHealth    301717.0  0.119077  0.271355  0.0  0.000000  0.000000   \n",
       "MentalHealth      301717.0  0.137382  0.270943  0.0  0.000000  0.000000   \n",
       "DiffWalking       301717.0  0.147009  0.354115  0.0  0.000000  0.000000   \n",
       "Sex               301717.0  0.470792  0.499147  0.0  0.000000  0.000000   \n",
       "AgeCategory       301717.0  0.542451  0.298709  0.0  0.333333  0.583333   \n",
       "Race              301717.0  0.873082  0.247163  0.0  1.000000  1.000000   \n",
       "Diabetic          301717.0  0.105642  0.244124  0.0  0.000000  0.000000   \n",
       "PhysicalActivity  301717.0  0.763669  0.424828  0.0  1.000000  1.000000   \n",
       "GenHealth         301717.0  0.555304  0.377875  0.0  0.250000  0.500000   \n",
       "SleepTime         301717.0  0.264546  0.063788  0.0  0.217391  0.260870   \n",
       "Asthma            301717.0  0.141361  0.348394  0.0  0.000000  0.000000   \n",
       "KidneyDisease     301717.0  0.039030  0.193667  0.0  0.000000  0.000000   \n",
       "SkinCancer        301717.0  0.097084  0.296073  0.0  0.000000  0.000000   \n",
       "\n",
       "                       75%  max  \n",
       "BMI               0.236991  1.0  \n",
       "Smoking           1.000000  1.0  \n",
       "AlcoholDrinking   0.000000  1.0  \n",
       "Stroke            0.000000  1.0  \n",
       "PhysicalHealth    0.066667  1.0  \n",
       "MentalHealth      0.133333  1.0  \n",
       "DiffWalking       0.000000  1.0  \n",
       "Sex               1.000000  1.0  \n",
       "AgeCategory       0.750000  1.0  \n",
       "Race              1.000000  1.0  \n",
       "Diabetic          0.000000  1.0  \n",
       "PhysicalActivity  1.000000  1.0  \n",
       "GenHealth         1.000000  1.0  \n",
       "SleepTime         0.304348  1.0  \n",
       "Asthma            0.000000  1.0  \n",
       "KidneyDisease     0.000000  1.0  \n",
       "SkinCancer        0.000000  1.0  "
      ]
     },
     "execution_count": 117,
     "metadata": {},
     "output_type": "execute_result"
    }
   ],
   "source": [
    "x.describe().T"
   ]
  },
  {
   "cell_type": "markdown",
   "id": "d3b7ed8b",
   "metadata": {},
   "source": [
    "# Data Splitting"
   ]
  },
  {
   "cell_type": "markdown",
   "id": "0e96993d",
   "metadata": {
    "id": "095b8f04"
   },
   "source": [
    "### Let's first split our dataset into train and test sets:"
   ]
  },
  {
   "cell_type": "code",
   "execution_count": 118,
   "id": "dc319c5e",
   "metadata": {
    "id": "5f201da0"
   },
   "outputs": [],
   "source": [
    "y = df['HeartDisease']"
   ]
  },
  {
   "cell_type": "code",
   "execution_count": 119,
   "id": "9441328f",
   "metadata": {
    "id": "9a579c66"
   },
   "outputs": [],
   "source": [
    "from sklearn.model_selection import train_test_split"
   ]
  },
  {
   "cell_type": "code",
   "execution_count": 120,
   "id": "dccc5fa9",
   "metadata": {
    "id": "bf5abcfa"
   },
   "outputs": [],
   "source": [
    "x_train, x_test, y_train, y_test = train_test_split(x, y, stratify=y, test_size=0.3, random_state=42)"
   ]
  },
  {
   "cell_type": "markdown",
   "id": "59ad9131",
   "metadata": {
    "id": "f96273ac"
   },
   "source": [
    "## Let's check our model before applying any oversampling or undersampling techniques:"
   ]
  },
  {
   "cell_type": "markdown",
   "id": "26949fdc",
   "metadata": {
    "id": "7ac26bbf"
   },
   "source": [
    "### Let's first import the remaining packages we are going to need:"
   ]
  },
  {
   "cell_type": "code",
   "execution_count": 121,
   "id": "60a850e2",
   "metadata": {
    "id": "1efd9615"
   },
   "outputs": [],
   "source": [
    "from sklearn.model_selection import GridSearchCV\n",
    "from sklearn.ensemble import RandomForestClassifier\n",
    "from sklearn.linear_model import LogisticRegression\n",
    "from sklearn.tree import DecisionTreeClassifier\n",
    "from xgboost import XGBClassifier\n",
    "from sklearn.svm import SVC\n",
    "from sklearn.naive_bayes import GaussianNB\n",
    "from sklearn.neighbors import KNeighborsClassifier\n",
    "\n",
    "from sklearn import metrics\n",
    "from sklearn.metrics import confusion_matrix,classification_report,ConfusionMatrixDisplay\n",
    "from sklearn.metrics import accuracy_score, precision_score, recall_score, f1_score\n",
    "from sklearn.model_selection import KFold,StratifiedKFold\n",
    "from sklearn.model_selection import cross_val_score, cross_validate\n"
   ]
  },
  {
   "cell_type": "markdown",
   "id": "38ef4b35",
   "metadata": {},
   "source": [
    "# Modeling"
   ]
  },
  {
   "cell_type": "code",
   "execution_count": 122,
   "id": "f2a3f394",
   "metadata": {
    "id": "d68f9525"
   },
   "outputs": [],
   "source": [
    "def evaluate_model(models, x_train, x_test, y_train, y_test):\n",
    "    compare_list = []\n",
    "    for index,clf in models :\n",
    "        clf.fit(x_train, y_train)\n",
    "        y_pred = clf.predict(x_test)\n",
    "        compare_list.append((pd.Series({\"Precision\" : precision_score(y_test, y_pred,average='macro'),\n",
    "                           \"Recall\" : recall_score(y_test, y_pred,average='macro'),\n",
    "                           \"F1\" : f1_score(y_test, y_pred,average='macro'),\n",
    "                           \"Accuracy\" : accuracy_score(y_test, y_pred),\n",
    "                           \"Train_Score\" : clf.score((x_train),y_train),\n",
    "                           \"Test_Score\" : clf.score((x_test), y_test)}, name = index)))\n",
    "    compare_list = pd.DataFrame(compare_list).T\n",
    "    return compare_list"
   ]
  },
  {
   "cell_type": "code",
   "execution_count": 123,
   "id": "9ea71de5",
   "metadata": {
    "id": "552f1312"
   },
   "outputs": [],
   "source": [
    "LR = LogisticRegression()\n",
    "RF = RandomForestClassifier(n_estimators=4,random_state=42)\n",
    "DT = DecisionTreeClassifier(random_state=0)\n",
    "KNN = KNeighborsClassifier(n_neighbors=100)\n",
    "XGB = XGBClassifier()\n",
    "\n",
    "models = [('LogR', LR), ('RandF', RF), ('DTs', DT),('KNN', KNN), ('XGB', XGB)]"
   ]
  },
  {
   "cell_type": "code",
   "execution_count": 124,
   "id": "4c9a7abf",
   "metadata": {
    "id": "b110c537"
   },
   "outputs": [],
   "source": [
    "def highlight(s):\n",
    "    is_max = s == s.max()\n",
    "    return ['background-color: blue' if v else '' for v in is_max]"
   ]
  },
  {
   "cell_type": "code",
   "execution_count": 125,
   "id": "c192caa3",
   "metadata": {
    "colab": {
     "base_uri": "https://localhost:8080/",
     "height": 237
    },
    "id": "44b2354c",
    "outputId": "4b76848a-55c4-4092-e198-b34046423040"
   },
   "outputs": [
    {
     "data": {
      "text/html": [
       "<style type=\"text/css\">\n",
       "#T_85e83_row0_col3, #T_85e83_row1_col2, #T_85e83_row2_col2, #T_85e83_row3_col3, #T_85e83_row4_col2, #T_85e83_row5_col3 {\n",
       "  background-color: blue;\n",
       "}\n",
       "</style>\n",
       "<table id=\"T_85e83\">\n",
       "  <thead>\n",
       "    <tr>\n",
       "      <th class=\"blank level0\" >&nbsp;</th>\n",
       "      <th id=\"T_85e83_level0_col0\" class=\"col_heading level0 col0\" >LogR</th>\n",
       "      <th id=\"T_85e83_level0_col1\" class=\"col_heading level0 col1\" >RandF</th>\n",
       "      <th id=\"T_85e83_level0_col2\" class=\"col_heading level0 col2\" >DTs</th>\n",
       "      <th id=\"T_85e83_level0_col3\" class=\"col_heading level0 col3\" >KNN</th>\n",
       "      <th id=\"T_85e83_level0_col4\" class=\"col_heading level0 col4\" >XGB</th>\n",
       "    </tr>\n",
       "  </thead>\n",
       "  <tbody>\n",
       "    <tr>\n",
       "      <th id=\"T_85e83_level0_row0\" class=\"row_heading level0 row0\" >Precision</th>\n",
       "      <td id=\"T_85e83_row0_col0\" class=\"data row0 col0\" >0.716365</td>\n",
       "      <td id=\"T_85e83_row0_col1\" class=\"data row0 col1\" >0.605636</td>\n",
       "      <td id=\"T_85e83_row0_col2\" class=\"data row0 col2\" >0.575108</td>\n",
       "      <td id=\"T_85e83_row0_col3\" class=\"data row0 col3\" >0.750186</td>\n",
       "      <td id=\"T_85e83_row0_col4\" class=\"data row0 col4\" >0.710703</td>\n",
       "    </tr>\n",
       "    <tr>\n",
       "      <th id=\"T_85e83_level0_row1\" class=\"row_heading level0 row1\" >Recall</th>\n",
       "      <td id=\"T_85e83_row1_col0\" class=\"data row1 col0\" >0.543354</td>\n",
       "      <td id=\"T_85e83_row1_col1\" class=\"data row1 col1\" >0.540273</td>\n",
       "      <td id=\"T_85e83_row1_col2\" class=\"data row1 col2\" >0.583992</td>\n",
       "      <td id=\"T_85e83_row1_col3\" class=\"data row1 col3\" >0.517122</td>\n",
       "      <td id=\"T_85e83_row1_col4\" class=\"data row1 col4\" >0.547437</td>\n",
       "    </tr>\n",
       "    <tr>\n",
       "      <th id=\"T_85e83_level0_row2\" class=\"row_heading level0 row2\" >F1</th>\n",
       "      <td id=\"T_85e83_row2_col0\" class=\"data row2 col0\" >0.556943</td>\n",
       "      <td id=\"T_85e83_row2_col1\" class=\"data row2 col1\" >0.550171</td>\n",
       "      <td id=\"T_85e83_row2_col2\" class=\"data row2 col2\" >0.579060</td>\n",
       "      <td id=\"T_85e83_row2_col3\" class=\"data row2 col3\" >0.511173</td>\n",
       "      <td id=\"T_85e83_row2_col4\" class=\"data row2 col4\" >0.563147</td>\n",
       "    </tr>\n",
       "    <tr>\n",
       "      <th id=\"T_85e83_level0_row3\" class=\"row_heading level0 row3\" >Accuracy</th>\n",
       "      <td id=\"T_85e83_row3_col0\" class=\"data row3 col0\" >0.910182</td>\n",
       "      <td id=\"T_85e83_row3_col1\" class=\"data row3 col1\" >0.896361</td>\n",
       "      <td id=\"T_85e83_row3_col2\" class=\"data row3 col2\" >0.853374</td>\n",
       "      <td id=\"T_85e83_row3_col3\" class=\"data row3 col3\" >0.910646</td>\n",
       "      <td id=\"T_85e83_row3_col4\" class=\"data row3 col4\" >0.909795</td>\n",
       "    </tr>\n",
       "    <tr>\n",
       "      <th id=\"T_85e83_level0_row4\" class=\"row_heading level0 row4\" >Train_Score</th>\n",
       "      <td id=\"T_85e83_row4_col0\" class=\"data row4 col0\" >0.910337</td>\n",
       "      <td id=\"T_85e83_row4_col1\" class=\"data row4 col1\" >0.968864</td>\n",
       "      <td id=\"T_85e83_row4_col2\" class=\"data row4 col2\" >0.997386</td>\n",
       "      <td id=\"T_85e83_row4_col3\" class=\"data row4 col3\" >0.910881</td>\n",
       "      <td id=\"T_85e83_row4_col4\" class=\"data row4 col4\" >0.918405</td>\n",
       "    </tr>\n",
       "    <tr>\n",
       "      <th id=\"T_85e83_level0_row5\" class=\"row_heading level0 row5\" >Test_Score</th>\n",
       "      <td id=\"T_85e83_row5_col0\" class=\"data row5 col0\" >0.910182</td>\n",
       "      <td id=\"T_85e83_row5_col1\" class=\"data row5 col1\" >0.896361</td>\n",
       "      <td id=\"T_85e83_row5_col2\" class=\"data row5 col2\" >0.853374</td>\n",
       "      <td id=\"T_85e83_row5_col3\" class=\"data row5 col3\" >0.910646</td>\n",
       "      <td id=\"T_85e83_row5_col4\" class=\"data row5 col4\" >0.909795</td>\n",
       "    </tr>\n",
       "  </tbody>\n",
       "</table>\n"
      ],
      "text/plain": [
       "<pandas.io.formats.style.Styler at 0x7f87adf32c70>"
      ]
     },
     "execution_count": 125,
     "metadata": {},
     "output_type": "execute_result"
    }
   ],
   "source": [
    "result_1 = evaluate_model(models, x_train, x_test, y_train, y_test)\n",
    "result_1.style.apply(highlight,axis=1)"
   ]
  },
  {
   "cell_type": "markdown",
   "id": "332694f7",
   "metadata": {
    "id": "6a050e61"
   },
   "source": [
    "#### As we can see the results are not the best thing. So, let's jumb to the techniques in order to solve our main problem (imbalance)."
   ]
  },
  {
   "cell_type": "markdown",
   "id": "c2a3dd00",
   "metadata": {},
   "source": [
    "# Applying Resampling Techniques"
   ]
  },
  {
   "cell_type": "markdown",
   "id": "6ee8b989",
   "metadata": {
    "id": "6a123405"
   },
   "source": [
    "## 1st Technique: \"Over-Sampling\" (Randomly):\n",
    "It aims to balance class distribution by randomly increasing minority class examples by replicating them."
   ]
  },
  {
   "cell_type": "markdown",
   "id": "fd3299cc",
   "metadata": {
    "id": "c72918f7"
   },
   "source": [
    "#### There's an easier and quicker way to apply the random oversampling technique, which is importing and using the **ROSE (Random Oversampling Examples)** method from the **\"imblearn\"** package, as follows:"
   ]
  },
  {
   "cell_type": "code",
   "execution_count": 126,
   "id": "fed9f0be",
   "metadata": {
    "id": "ef345ada"
   },
   "outputs": [],
   "source": [
    "from imblearn.over_sampling import RandomOverSampler\n",
    "ros = RandomOverSampler(random_state=42)\n",
    "x_overR, y_overR = ros.fit_resample(x_train, y_train)"
   ]
  },
  {
   "cell_type": "code",
   "execution_count": 127,
   "id": "8d53f4a9",
   "metadata": {
    "colab": {
     "base_uri": "https://localhost:8080/"
    },
    "id": "4cc5036a",
    "outputId": "29130a04-911c-4430-b3b7-25fe873ae3ad"
   },
   "outputs": [
    {
     "data": {
      "text/plain": [
       "0    192118\n",
       "1     19083\n",
       "Name: HeartDisease, dtype: int64"
      ]
     },
     "execution_count": 127,
     "metadata": {},
     "output_type": "execute_result"
    }
   ],
   "source": [
    "y_train.value_counts()"
   ]
  },
  {
   "cell_type": "code",
   "execution_count": 128,
   "id": "e67fc65a",
   "metadata": {
    "colab": {
     "base_uri": "https://localhost:8080/"
    },
    "id": "68f8c98c",
    "outputId": "f682a4b5-0b23-43e4-d196-aa8ca9d86039"
   },
   "outputs": [
    {
     "data": {
      "text/plain": [
       "0    192118\n",
       "1    192118\n",
       "Name: HeartDisease, dtype: int64"
      ]
     },
     "execution_count": 128,
     "metadata": {},
     "output_type": "execute_result"
    }
   ],
   "source": [
    "y_overR.value_counts()"
   ]
  },
  {
   "cell_type": "code",
   "execution_count": 129,
   "id": "842a4f3a",
   "metadata": {
    "colab": {
     "base_uri": "https://localhost:8080/"
    },
    "id": "911e6be2",
    "outputId": "130d3231-7552-4560-d399-b9377e573f1b"
   },
   "outputs": [
    {
     "data": {
      "text/plain": [
       "(211201, 17)"
      ]
     },
     "execution_count": 129,
     "metadata": {},
     "output_type": "execute_result"
    }
   ],
   "source": [
    "x_train.shape"
   ]
  },
  {
   "cell_type": "code",
   "execution_count": 130,
   "id": "53724857",
   "metadata": {
    "colab": {
     "base_uri": "https://localhost:8080/"
    },
    "id": "e550863c",
    "outputId": "c2942690-d90d-45ba-b86e-afe664493a56"
   },
   "outputs": [
    {
     "data": {
      "text/plain": [
       "(384236, 17)"
      ]
     },
     "execution_count": 130,
     "metadata": {},
     "output_type": "execute_result"
    }
   ],
   "source": [
    "x_overR.shape"
   ]
  },
  {
   "cell_type": "code",
   "execution_count": 131,
   "id": "773ea749",
   "metadata": {
    "colab": {
     "base_uri": "https://localhost:8080/"
    },
    "id": "744494b5",
    "outputId": "22167ba6-f1c9-4c20-cc88-bd1bfd7a9fac"
   },
   "outputs": [
    {
     "data": {
      "text/plain": [
       "384236"
      ]
     },
     "execution_count": 131,
     "metadata": {},
     "output_type": "execute_result"
    }
   ],
   "source": [
    "192118*2"
   ]
  },
  {
   "cell_type": "code",
   "execution_count": 132,
   "id": "7ec94f5d",
   "metadata": {
    "colab": {
     "base_uri": "https://localhost:8080/",
     "height": 237
    },
    "id": "f800756d",
    "outputId": "e1579820-51dc-43e3-f0d1-274766260280"
   },
   "outputs": [
    {
     "data": {
      "text/html": [
       "<style type=\"text/css\">\n",
       "#T_9e369_row0_col1, #T_9e369_row1_col4, #T_9e369_row2_col4, #T_9e369_row3_col1, #T_9e369_row4_col2, #T_9e369_row5_col1 {\n",
       "  background-color: blue;\n",
       "}\n",
       "</style>\n",
       "<table id=\"T_9e369\">\n",
       "  <thead>\n",
       "    <tr>\n",
       "      <th class=\"blank level0\" >&nbsp;</th>\n",
       "      <th id=\"T_9e369_level0_col0\" class=\"col_heading level0 col0\" >LogR</th>\n",
       "      <th id=\"T_9e369_level0_col1\" class=\"col_heading level0 col1\" >RandF</th>\n",
       "      <th id=\"T_9e369_level0_col2\" class=\"col_heading level0 col2\" >DTs</th>\n",
       "      <th id=\"T_9e369_level0_col3\" class=\"col_heading level0 col3\" >KNN</th>\n",
       "      <th id=\"T_9e369_level0_col4\" class=\"col_heading level0 col4\" >XGB</th>\n",
       "    </tr>\n",
       "  </thead>\n",
       "  <tbody>\n",
       "    <tr>\n",
       "      <th id=\"T_9e369_level0_row0\" class=\"row_heading level0 row0\" >Precision</th>\n",
       "      <td id=\"T_9e369_row0_col0\" class=\"data row0 col0\" >0.593474</td>\n",
       "      <td id=\"T_9e369_row0_col1\" class=\"data row0 col1\" >0.595988</td>\n",
       "      <td id=\"T_9e369_row0_col2\" class=\"data row0 col2\" >0.571763</td>\n",
       "      <td id=\"T_9e369_row0_col3\" class=\"data row0 col3\" >0.588709</td>\n",
       "      <td id=\"T_9e369_row0_col4\" class=\"data row0 col4\" >0.595878</td>\n",
       "    </tr>\n",
       "    <tr>\n",
       "      <th id=\"T_9e369_level0_row1\" class=\"row_heading level0 row1\" >Recall</th>\n",
       "      <td id=\"T_9e369_row1_col0\" class=\"data row1 col0\" >0.745168</td>\n",
       "      <td id=\"T_9e369_row1_col1\" class=\"data row1 col1\" >0.564393</td>\n",
       "      <td id=\"T_9e369_row1_col2\" class=\"data row1 col2\" >0.573449</td>\n",
       "      <td id=\"T_9e369_row1_col3\" class=\"data row1 col3\" >0.742206</td>\n",
       "      <td id=\"T_9e369_row1_col4\" class=\"data row1 col4\" >0.748124</td>\n",
       "    </tr>\n",
       "    <tr>\n",
       "      <th id=\"T_9e369_level0_row2\" class=\"row_heading level0 row2\" >F1</th>\n",
       "      <td id=\"T_9e369_row2_col0\" class=\"data row2 col0\" >0.585943</td>\n",
       "      <td id=\"T_9e369_row2_col1\" class=\"data row2 col1\" >0.574964</td>\n",
       "      <td id=\"T_9e369_row2_col2\" class=\"data row2 col2\" >0.572586</td>\n",
       "      <td id=\"T_9e369_row2_col3\" class=\"data row2 col3\" >0.571749</td>\n",
       "      <td id=\"T_9e369_row2_col4\" class=\"data row2 col4\" >0.591318</td>\n",
       "    </tr>\n",
       "    <tr>\n",
       "      <th id=\"T_9e369_level0_row3\" class=\"row_heading level0 row3\" >Accuracy</th>\n",
       "      <td id=\"T_9e369_row3_col0\" class=\"data row3 col0\" >0.732644</td>\n",
       "      <td id=\"T_9e369_row3_col1\" class=\"data row3 col1\" >0.882838</td>\n",
       "      <td id=\"T_9e369_row3_col2\" class=\"data row3 col2\" >0.857837</td>\n",
       "      <td id=\"T_9e369_row3_col3\" class=\"data row3 col3\" >0.710725</td>\n",
       "      <td id=\"T_9e369_row3_col4\" class=\"data row3 col4\" >0.739825</td>\n",
       "    </tr>\n",
       "    <tr>\n",
       "      <th id=\"T_9e369_level0_row4\" class=\"row_heading level0 row4\" >Train_Score</th>\n",
       "      <td id=\"T_9e369_row4_col0\" class=\"data row4 col0\" >0.748170</td>\n",
       "      <td id=\"T_9e369_row4_col1\" class=\"data row4 col1\" >0.996950</td>\n",
       "      <td id=\"T_9e369_row4_col2\" class=\"data row4 col2\" >0.998563</td>\n",
       "      <td id=\"T_9e369_row4_col3\" class=\"data row4 col3\" >0.771708</td>\n",
       "      <td id=\"T_9e369_row4_col4\" class=\"data row4 col4\" >0.796721</td>\n",
       "    </tr>\n",
       "    <tr>\n",
       "      <th id=\"T_9e369_level0_row5\" class=\"row_heading level0 row5\" >Test_Score</th>\n",
       "      <td id=\"T_9e369_row5_col0\" class=\"data row5 col0\" >0.732644</td>\n",
       "      <td id=\"T_9e369_row5_col1\" class=\"data row5 col1\" >0.882838</td>\n",
       "      <td id=\"T_9e369_row5_col2\" class=\"data row5 col2\" >0.857837</td>\n",
       "      <td id=\"T_9e369_row5_col3\" class=\"data row5 col3\" >0.710725</td>\n",
       "      <td id=\"T_9e369_row5_col4\" class=\"data row5 col4\" >0.739825</td>\n",
       "    </tr>\n",
       "  </tbody>\n",
       "</table>\n"
      ],
      "text/plain": [
       "<pandas.io.formats.style.Styler at 0x7f87a2e33880>"
      ]
     },
     "execution_count": 132,
     "metadata": {},
     "output_type": "execute_result"
    }
   ],
   "source": [
    "result_2 = evaluate_model(models, x_overR, x_test, y_overR, y_test)\n",
    "result_2.style.apply(highlight,axis=1)"
   ]
  },
  {
   "cell_type": "markdown",
   "id": "9f709fbf",
   "metadata": {
    "id": "3b95b4a2"
   },
   "source": [
    "## 2rd Technique: \"Under-Sampling\" (Randomly):\n",
    "It aims to balance class distribution by randomly delete majority class examples."
   ]
  },
  {
   "cell_type": "markdown",
   "id": "8555feb4",
   "metadata": {
    "id": "2fa89097"
   },
   "source": [
    "#### There's also an easier and quicker way to apply the random undersampling technique, using the undersampling method from the **\"imblearn\"** package, as follows:"
   ]
  },
  {
   "cell_type": "code",
   "execution_count": 133,
   "id": "0c49be74",
   "metadata": {
    "id": "941e440b"
   },
   "outputs": [],
   "source": [
    "from imblearn.under_sampling import RandomUnderSampler\n",
    "rus = RandomUnderSampler(random_state=42)\n",
    "x_underR, y_underR = rus.fit_resample(x_train, y_train)"
   ]
  },
  {
   "cell_type": "code",
   "execution_count": 134,
   "id": "5bf50e81",
   "metadata": {
    "colab": {
     "base_uri": "https://localhost:8080/"
    },
    "id": "202e60da",
    "outputId": "c2ec264a-c9c7-4648-cb15-32f98eed5d1b"
   },
   "outputs": [
    {
     "data": {
      "text/plain": [
       "0    19083\n",
       "1    19083\n",
       "Name: HeartDisease, dtype: int64"
      ]
     },
     "execution_count": 134,
     "metadata": {},
     "output_type": "execute_result"
    }
   ],
   "source": [
    "y_underR.value_counts()"
   ]
  },
  {
   "cell_type": "code",
   "execution_count": 135,
   "id": "912ee71a",
   "metadata": {
    "colab": {
     "base_uri": "https://localhost:8080/",
     "height": 237
    },
    "id": "52e0251b",
    "outputId": "9a899199-d749-446c-b535-e1e6e1171298"
   },
   "outputs": [
    {
     "data": {
      "text/html": [
       "<style type=\"text/css\">\n",
       "#T_456aa_row0_col4, #T_456aa_row1_col4, #T_456aa_row2_col0, #T_456aa_row3_col1, #T_456aa_row4_col2, #T_456aa_row5_col1 {\n",
       "  background-color: blue;\n",
       "}\n",
       "</style>\n",
       "<table id=\"T_456aa\">\n",
       "  <thead>\n",
       "    <tr>\n",
       "      <th class=\"blank level0\" >&nbsp;</th>\n",
       "      <th id=\"T_456aa_level0_col0\" class=\"col_heading level0 col0\" >LogR</th>\n",
       "      <th id=\"T_456aa_level0_col1\" class=\"col_heading level0 col1\" >RandF</th>\n",
       "      <th id=\"T_456aa_level0_col2\" class=\"col_heading level0 col2\" >DTs</th>\n",
       "      <th id=\"T_456aa_level0_col3\" class=\"col_heading level0 col3\" >KNN</th>\n",
       "      <th id=\"T_456aa_level0_col4\" class=\"col_heading level0 col4\" >XGB</th>\n",
       "    </tr>\n",
       "  </thead>\n",
       "  <tbody>\n",
       "    <tr>\n",
       "      <th id=\"T_456aa_level0_row0\" class=\"row_heading level0 row0\" >Precision</th>\n",
       "      <td id=\"T_456aa_row0_col0\" class=\"data row0 col0\" >0.593044</td>\n",
       "      <td id=\"T_456aa_row0_col1\" class=\"data row0 col1\" >0.580346</td>\n",
       "      <td id=\"T_456aa_row0_col2\" class=\"data row0 col2\" >0.558382</td>\n",
       "      <td id=\"T_456aa_row0_col3\" class=\"data row0 col3\" >0.589058</td>\n",
       "      <td id=\"T_456aa_row0_col4\" class=\"data row0 col4\" >0.593423</td>\n",
       "    </tr>\n",
       "    <tr>\n",
       "      <th id=\"T_456aa_level0_row1\" class=\"row_heading level0 row1\" >Recall</th>\n",
       "      <td id=\"T_456aa_row1_col0\" class=\"data row1 col0\" >0.745338</td>\n",
       "      <td id=\"T_456aa_row1_col1\" class=\"data row1 col1\" >0.689057</td>\n",
       "      <td id=\"T_456aa_row1_col2\" class=\"data row1 col2\" >0.664127</td>\n",
       "      <td id=\"T_456aa_row1_col3\" class=\"data row1 col3\" >0.742685</td>\n",
       "      <td id=\"T_456aa_row1_col4\" class=\"data row1 col4\" >0.751991</td>\n",
       "    </tr>\n",
       "    <tr>\n",
       "      <th id=\"T_456aa_level0_row2\" class=\"row_heading level0 row2\" >F1</th>\n",
       "      <td id=\"T_456aa_row2_col0\" class=\"data row2 col0\" >0.584457</td>\n",
       "      <td id=\"T_456aa_row2_col1\" class=\"data row2 col1\" >0.581649</td>\n",
       "      <td id=\"T_456aa_row2_col2\" class=\"data row2 col2\" >0.524229</td>\n",
       "      <td id=\"T_456aa_row2_col3\" class=\"data row2 col3\" >0.572649</td>\n",
       "      <td id=\"T_456aa_row2_col4\" class=\"data row2 col4\" >0.580647</td>\n",
       "    </tr>\n",
       "    <tr>\n",
       "      <th id=\"T_456aa_level0_row3\" class=\"row_heading level0 row3\" >Accuracy</th>\n",
       "      <td id=\"T_456aa_row3_col0\" class=\"data row3 col0\" >0.730147</td>\n",
       "      <td id=\"T_456aa_row3_col1\" class=\"data row3 col1\" >0.757093</td>\n",
       "      <td id=\"T_456aa_row3_col2\" class=\"data row3 col2\" >0.666755</td>\n",
       "      <td id=\"T_456aa_row3_col3\" class=\"data row3 col3\" >0.711996</td>\n",
       "      <td id=\"T_456aa_row3_col4\" class=\"data row3 col4\" >0.720712</td>\n",
       "    </tr>\n",
       "    <tr>\n",
       "      <th id=\"T_456aa_level0_row4\" class=\"row_heading level0 row4\" >Train_Score</th>\n",
       "      <td id=\"T_456aa_row4_col0\" class=\"data row4 col0\" >0.752817</td>\n",
       "      <td id=\"T_456aa_row4_col1\" class=\"data row4 col1\" >0.940366</td>\n",
       "      <td id=\"T_456aa_row4_col2\" class=\"data row4 col2\" >0.998638</td>\n",
       "      <td id=\"T_456aa_row4_col3\" class=\"data row4 col3\" >0.754991</td>\n",
       "      <td id=\"T_456aa_row4_col4\" class=\"data row4 col4\" >0.815805</td>\n",
       "    </tr>\n",
       "    <tr>\n",
       "      <th id=\"T_456aa_level0_row5\" class=\"row_heading level0 row5\" >Test_Score</th>\n",
       "      <td id=\"T_456aa_row5_col0\" class=\"data row5 col0\" >0.730147</td>\n",
       "      <td id=\"T_456aa_row5_col1\" class=\"data row5 col1\" >0.757093</td>\n",
       "      <td id=\"T_456aa_row5_col2\" class=\"data row5 col2\" >0.666755</td>\n",
       "      <td id=\"T_456aa_row5_col3\" class=\"data row5 col3\" >0.711996</td>\n",
       "      <td id=\"T_456aa_row5_col4\" class=\"data row5 col4\" >0.720712</td>\n",
       "    </tr>\n",
       "  </tbody>\n",
       "</table>\n"
      ],
      "text/plain": [
       "<pandas.io.formats.style.Styler at 0x7f87a2e339d0>"
      ]
     },
     "execution_count": 135,
     "metadata": {},
     "output_type": "execute_result"
    }
   ],
   "source": [
    "result_3 = evaluate_model(models, x_underR, x_test, y_underR, y_test)\n",
    "result_3.style.apply(highlight,axis=1)"
   ]
  },
  {
   "cell_type": "markdown",
   "id": "e34312f1",
   "metadata": {
    "id": "b2e45edd"
   },
   "source": [
    "#### These random techniques are are referred to as “naive resampling” methods because they assume nothing about the data. This makes them simple to implement and fast to execute, which is desirable for very large and complex datasets.\n",
    "\n",
    "#### But we should know that they are not always recommended due to the duplicates that get created during the process which might cause overfitting to the model. So, we shall be aware of data leakage.\n",
    "\n"
   ]
  },
  {
   "cell_type": "markdown",
   "id": "d6639ccc",
   "metadata": {
    "id": "d323b54d"
   },
   "source": [
    "## 3rd Technique: \"Over-Sampling\" using SMOTE (Intelligently):\n"
   ]
  },
  {
   "cell_type": "code",
   "execution_count": 136,
   "id": "61af59d8",
   "metadata": {
    "id": "d246da0d"
   },
   "outputs": [],
   "source": [
    "from imblearn.over_sampling import SMOTE"
   ]
  },
  {
   "cell_type": "code",
   "execution_count": 137,
   "id": "0e477a22",
   "metadata": {
    "id": "05e0494d"
   },
   "outputs": [],
   "source": [
    "sm = SMOTE(random_state=42)\n",
    "x_oversm, y_oversm = sm.fit_resample(x_train, y_train)"
   ]
  },
  {
   "cell_type": "code",
   "execution_count": 138,
   "id": "a67f2b98",
   "metadata": {
    "colab": {
     "base_uri": "https://localhost:8080/"
    },
    "id": "fe25c695",
    "outputId": "09dca52d-5766-4699-86fb-02ef3575eda8"
   },
   "outputs": [
    {
     "data": {
      "text/plain": [
       "0    192118\n",
       "1    192118\n",
       "Name: HeartDisease, dtype: int64"
      ]
     },
     "execution_count": 138,
     "metadata": {},
     "output_type": "execute_result"
    }
   ],
   "source": [
    "y_oversm.value_counts()"
   ]
  },
  {
   "cell_type": "code",
   "execution_count": 139,
   "id": "f7e1dfd8",
   "metadata": {
    "colab": {
     "base_uri": "https://localhost:8080/",
     "height": 237
    },
    "id": "b53fad27",
    "outputId": "a6b3f0ca-44b6-4320-c8d7-3531068951c5"
   },
   "outputs": [
    {
     "data": {
      "text/html": [
       "<style type=\"text/css\">\n",
       "#T_2c735_row0_col4, #T_2c735_row1_col0, #T_2c735_row2_col4, #T_2c735_row3_col4, #T_2c735_row4_col2, #T_2c735_row5_col4 {\n",
       "  background-color: blue;\n",
       "}\n",
       "</style>\n",
       "<table id=\"T_2c735\">\n",
       "  <thead>\n",
       "    <tr>\n",
       "      <th class=\"blank level0\" >&nbsp;</th>\n",
       "      <th id=\"T_2c735_level0_col0\" class=\"col_heading level0 col0\" >LogR</th>\n",
       "      <th id=\"T_2c735_level0_col1\" class=\"col_heading level0 col1\" >RandF</th>\n",
       "      <th id=\"T_2c735_level0_col2\" class=\"col_heading level0 col2\" >DTs</th>\n",
       "      <th id=\"T_2c735_level0_col3\" class=\"col_heading level0 col3\" >KNN</th>\n",
       "      <th id=\"T_2c735_level0_col4\" class=\"col_heading level0 col4\" >XGB</th>\n",
       "    </tr>\n",
       "  </thead>\n",
       "  <tbody>\n",
       "    <tr>\n",
       "      <th id=\"T_2c735_level0_row0\" class=\"row_heading level0 row0\" >Precision</th>\n",
       "      <td id=\"T_2c735_row0_col0\" class=\"data row0 col0\" >0.592619</td>\n",
       "      <td id=\"T_2c735_row0_col1\" class=\"data row0 col1\" >0.589083</td>\n",
       "      <td id=\"T_2c735_row0_col2\" class=\"data row0 col2\" >0.563915</td>\n",
       "      <td id=\"T_2c735_row0_col3\" class=\"data row0 col3\" >0.585385</td>\n",
       "      <td id=\"T_2c735_row0_col4\" class=\"data row0 col4\" >0.631204</td>\n",
       "    </tr>\n",
       "    <tr>\n",
       "      <th id=\"T_2c735_level0_row1\" class=\"row_heading level0 row1\" >Recall</th>\n",
       "      <td id=\"T_2c735_row1_col0\" class=\"data row1 col0\" >0.744725</td>\n",
       "      <td id=\"T_2c735_row1_col1\" class=\"data row1 col1\" >0.573885</td>\n",
       "      <td id=\"T_2c735_row1_col2\" class=\"data row1 col2\" >0.584339</td>\n",
       "      <td id=\"T_2c735_row1_col3\" class=\"data row1 col3\" >0.740714</td>\n",
       "      <td id=\"T_2c735_row1_col4\" class=\"data row1 col4\" >0.602453</td>\n",
       "    </tr>\n",
       "    <tr>\n",
       "      <th id=\"T_2c735_level0_row2\" class=\"row_heading level0 row2\" >F1</th>\n",
       "      <td id=\"T_2c735_row2_col0\" class=\"data row2 col0\" >0.583525</td>\n",
       "      <td id=\"T_2c735_row2_col1\" class=\"data row2 col1\" >0.580233</td>\n",
       "      <td id=\"T_2c735_row2_col2\" class=\"data row2 col2\" >0.571047</td>\n",
       "      <td id=\"T_2c735_row2_col3\" class=\"data row2 col3\" >0.559024</td>\n",
       "      <td id=\"T_2c735_row2_col4\" class=\"data row2 col4\" >0.614096</td>\n",
       "    </tr>\n",
       "    <tr>\n",
       "      <th id=\"T_2c735_level0_row3\" class=\"row_heading level0 row3\" >Accuracy</th>\n",
       "      <td id=\"T_2c735_row3_col0\" class=\"data row3 col0\" >0.728932</td>\n",
       "      <td id=\"T_2c735_row3_col1\" class=\"data row3 col1\" >0.873658</td>\n",
       "      <td id=\"T_2c735_row3_col2\" class=\"data row3 col2\" >0.835974</td>\n",
       "      <td id=\"T_2c735_row3_col3\" class=\"data row3 col3\" >0.689977</td>\n",
       "      <td id=\"T_2c735_row3_col4\" class=\"data row3 col4\" >0.886860</td>\n",
       "    </tr>\n",
       "    <tr>\n",
       "      <th id=\"T_2c735_level0_row4\" class=\"row_heading level0 row4\" >Train_Score</th>\n",
       "      <td id=\"T_2c735_row4_col0\" class=\"data row4 col0\" >0.752387</td>\n",
       "      <td id=\"T_2c735_row4_col1\" class=\"data row4 col1\" >0.981295</td>\n",
       "      <td id=\"T_2c735_row4_col2\" class=\"data row4 col2\" >0.998558</td>\n",
       "      <td id=\"T_2c735_row4_col3\" class=\"data row4 col3\" >0.782103</td>\n",
       "      <td id=\"T_2c735_row4_col4\" class=\"data row4 col4\" >0.919216</td>\n",
       "    </tr>\n",
       "    <tr>\n",
       "      <th id=\"T_2c735_level0_row5\" class=\"row_heading level0 row5\" >Test_Score</th>\n",
       "      <td id=\"T_2c735_row5_col0\" class=\"data row5 col0\" >0.728932</td>\n",
       "      <td id=\"T_2c735_row5_col1\" class=\"data row5 col1\" >0.873658</td>\n",
       "      <td id=\"T_2c735_row5_col2\" class=\"data row5 col2\" >0.835974</td>\n",
       "      <td id=\"T_2c735_row5_col3\" class=\"data row5 col3\" >0.689977</td>\n",
       "      <td id=\"T_2c735_row5_col4\" class=\"data row5 col4\" >0.886860</td>\n",
       "    </tr>\n",
       "  </tbody>\n",
       "</table>\n"
      ],
      "text/plain": [
       "<pandas.io.formats.style.Styler at 0x7f87b47020d0>"
      ]
     },
     "execution_count": 139,
     "metadata": {},
     "output_type": "execute_result"
    }
   ],
   "source": [
    "result_4 = evaluate_model(models, x_oversm, x_test, y_oversm, y_test)\n",
    "result_4.style.apply(highlight,axis=1)"
   ]
  },
  {
   "cell_type": "markdown",
   "id": "8ef31970",
   "metadata": {
    "id": "b78da181"
   },
   "source": [
    "## 4th Technique: \"Under-Sampling\" using Tomek Links Technique (Intelligently):"
   ]
  },
  {
   "cell_type": "code",
   "execution_count": 140,
   "id": "75b702f5",
   "metadata": {
    "id": "158ba5db"
   },
   "outputs": [],
   "source": [
    "from imblearn.under_sampling import TomekLinks"
   ]
  },
  {
   "cell_type": "code",
   "execution_count": 141,
   "id": "492f289c",
   "metadata": {
    "id": "86e19628"
   },
   "outputs": [],
   "source": [
    "tomek = TomekLinks()\n",
    "x_underT, y_underT = tomek.fit_resample(x_train, y_train)"
   ]
  },
  {
   "cell_type": "code",
   "execution_count": 142,
   "id": "441160de",
   "metadata": {
    "colab": {
     "base_uri": "https://localhost:8080/"
    },
    "id": "cb17080e",
    "outputId": "7e7c1af7-ccf8-4dab-ebdc-90132e8b35d7"
   },
   "outputs": [
    {
     "data": {
      "text/plain": [
       "0    184693\n",
       "1     19083\n",
       "Name: HeartDisease, dtype: int64"
      ]
     },
     "execution_count": 142,
     "metadata": {},
     "output_type": "execute_result"
    }
   ],
   "source": [
    "y_underT.value_counts()"
   ]
  },
  {
   "cell_type": "code",
   "execution_count": 143,
   "id": "8a816159",
   "metadata": {
    "colab": {
     "base_uri": "https://localhost:8080/",
     "height": 237
    },
    "id": "92dba455",
    "outputId": "572393cd-3451-4c54-a5a8-20f60a6cd604"
   },
   "outputs": [
    {
     "data": {
      "text/html": [
       "<style type=\"text/css\">\n",
       "#T_5e42e_row0_col3, #T_5e42e_row1_col2, #T_5e42e_row2_col4, #T_5e42e_row3_col3, #T_5e42e_row4_col2, #T_5e42e_row5_col3 {\n",
       "  background-color: blue;\n",
       "}\n",
       "</style>\n",
       "<table id=\"T_5e42e\">\n",
       "  <thead>\n",
       "    <tr>\n",
       "      <th class=\"blank level0\" >&nbsp;</th>\n",
       "      <th id=\"T_5e42e_level0_col0\" class=\"col_heading level0 col0\" >LogR</th>\n",
       "      <th id=\"T_5e42e_level0_col1\" class=\"col_heading level0 col1\" >RandF</th>\n",
       "      <th id=\"T_5e42e_level0_col2\" class=\"col_heading level0 col2\" >DTs</th>\n",
       "      <th id=\"T_5e42e_level0_col3\" class=\"col_heading level0 col3\" >KNN</th>\n",
       "      <th id=\"T_5e42e_level0_col4\" class=\"col_heading level0 col4\" >XGB</th>\n",
       "    </tr>\n",
       "  </thead>\n",
       "  <tbody>\n",
       "    <tr>\n",
       "      <th id=\"T_5e42e_level0_row0\" class=\"row_heading level0 row0\" >Precision</th>\n",
       "      <td id=\"T_5e42e_row0_col0\" class=\"data row0 col0\" >0.704391</td>\n",
       "      <td id=\"T_5e42e_row0_col1\" class=\"data row0 col1\" >0.616912</td>\n",
       "      <td id=\"T_5e42e_row0_col2\" class=\"data row0 col2\" >0.580603</td>\n",
       "      <td id=\"T_5e42e_row0_col3\" class=\"data row0 col3\" >0.721279</td>\n",
       "      <td id=\"T_5e42e_row0_col4\" class=\"data row0 col4\" >0.700032</td>\n",
       "    </tr>\n",
       "    <tr>\n",
       "      <th id=\"T_5e42e_level0_row1\" class=\"row_heading level0 row1\" >Recall</th>\n",
       "      <td id=\"T_5e42e_row1_col0\" class=\"data row1 col0\" >0.559891</td>\n",
       "      <td id=\"T_5e42e_row1_col1\" class=\"data row1 col1\" >0.559455</td>\n",
       "      <td id=\"T_5e42e_row1_col2\" class=\"data row1 col2\" >0.598976</td>\n",
       "      <td id=\"T_5e42e_row1_col3\" class=\"data row1 col3\" >0.531306</td>\n",
       "      <td id=\"T_5e42e_row1_col4\" class=\"data row1 col4\" >0.568056</td>\n",
       "    </tr>\n",
       "    <tr>\n",
       "      <th id=\"T_5e42e_level0_row2\" class=\"row_heading level0 row2\" >F1</th>\n",
       "      <td id=\"T_5e42e_row2_col0\" class=\"data row2 col0\" >0.580856</td>\n",
       "      <td id=\"T_5e42e_row2_col1\" class=\"data row2 col1\" >0.573789</td>\n",
       "      <td id=\"T_5e42e_row2_col2\" class=\"data row2 col2\" >0.587960</td>\n",
       "      <td id=\"T_5e42e_row2_col3\" class=\"data row2 col3\" >0.537172</td>\n",
       "      <td id=\"T_5e42e_row2_col4\" class=\"data row2 col4\" >0.591386</td>\n",
       "    </tr>\n",
       "    <tr>\n",
       "      <th id=\"T_5e42e_level0_row3\" class=\"row_heading level0 row3\" >Accuracy</th>\n",
       "      <td id=\"T_5e42e_row3_col0\" class=\"data row3 col0\" >0.909110</td>\n",
       "      <td id=\"T_5e42e_row3_col1\" class=\"data row3 col1\" >0.893389</td>\n",
       "      <td id=\"T_5e42e_row3_col2\" class=\"data row3 col2\" >0.848878</td>\n",
       "      <td id=\"T_5e42e_row3_col3\" class=\"data row3 col3\" >0.910303</td>\n",
       "      <td id=\"T_5e42e_row3_col4\" class=\"data row3 col4\" >0.908436</td>\n",
       "    </tr>\n",
       "    <tr>\n",
       "      <th id=\"T_5e42e_level0_row4\" class=\"row_heading level0 row4\" >Train_Score</th>\n",
       "      <td id=\"T_5e42e_row4_col0\" class=\"data row4 col0\" >0.909199</td>\n",
       "      <td id=\"T_5e42e_row4_col1\" class=\"data row4 col1\" >0.970939</td>\n",
       "      <td id=\"T_5e42e_row4_col2\" class=\"data row4 col2\" >0.997291</td>\n",
       "      <td id=\"T_5e42e_row4_col3\" class=\"data row4 col3\" >0.909538</td>\n",
       "      <td id=\"T_5e42e_row4_col4\" class=\"data row4 col4\" >0.918175</td>\n",
       "    </tr>\n",
       "    <tr>\n",
       "      <th id=\"T_5e42e_level0_row5\" class=\"row_heading level0 row5\" >Test_Score</th>\n",
       "      <td id=\"T_5e42e_row5_col0\" class=\"data row5 col0\" >0.909110</td>\n",
       "      <td id=\"T_5e42e_row5_col1\" class=\"data row5 col1\" >0.893389</td>\n",
       "      <td id=\"T_5e42e_row5_col2\" class=\"data row5 col2\" >0.848878</td>\n",
       "      <td id=\"T_5e42e_row5_col3\" class=\"data row5 col3\" >0.910303</td>\n",
       "      <td id=\"T_5e42e_row5_col4\" class=\"data row5 col4\" >0.908436</td>\n",
       "    </tr>\n",
       "  </tbody>\n",
       "</table>\n"
      ],
      "text/plain": [
       "<pandas.io.formats.style.Styler at 0x7f87a16f6a30>"
      ]
     },
     "execution_count": 143,
     "metadata": {},
     "output_type": "execute_result"
    }
   ],
   "source": [
    "result_5 = evaluate_model(models, x_underT, x_test, y_underT, y_test)\n",
    "result_5.style.apply(highlight,axis=1)"
   ]
  },
  {
   "cell_type": "markdown",
   "id": "bb1157dd",
   "metadata": {
    "id": "4c7272c0"
   },
   "source": [
    "## 5th Technique: Combining both Over-Sampling \"SMOTE\" and Under-Sampling \"Tomek Links\" (Intelligently): Using \"SMOTETomek\""
   ]
  },
  {
   "cell_type": "code",
   "execution_count": 144,
   "id": "704229a4",
   "metadata": {
    "id": "ATnpOWA1GXpD"
   },
   "outputs": [],
   "source": [
    "from imblearn.combine import SMOTETomek"
   ]
  },
  {
   "cell_type": "code",
   "execution_count": 145,
   "id": "220ba922",
   "metadata": {
    "id": "9l5AEb9FGZOs"
   },
   "outputs": [],
   "source": [
    "smT = SMOTETomek(random_state=42)"
   ]
  },
  {
   "cell_type": "code",
   "execution_count": 146,
   "id": "a7269a16",
   "metadata": {
    "id": "k_gYFlNIGZRw"
   },
   "outputs": [],
   "source": [
    "x_smT, y_smT = smT.fit_resample(x_train, y_train)"
   ]
  },
  {
   "cell_type": "code",
   "execution_count": 147,
   "id": "efba574f",
   "metadata": {
    "colab": {
     "base_uri": "https://localhost:8080/"
    },
    "id": "gv7K8tshGZf1",
    "outputId": "11498326-94c4-47e4-8216-8fe09a0712d7"
   },
   "outputs": [
    {
     "data": {
      "text/plain": [
       "0    186568\n",
       "1    186568\n",
       "Name: HeartDisease, dtype: int64"
      ]
     },
     "execution_count": 147,
     "metadata": {},
     "output_type": "execute_result"
    }
   ],
   "source": [
    "y_smT.value_counts()"
   ]
  },
  {
   "cell_type": "code",
   "execution_count": 148,
   "id": "0da61f70",
   "metadata": {
    "colab": {
     "base_uri": "https://localhost:8080/",
     "height": 237
    },
    "id": "0VLHGUHvHijB",
    "outputId": "084d93ac-230d-449a-8bef-9e0e5ac796e2"
   },
   "outputs": [
    {
     "data": {
      "text/html": [
       "<style type=\"text/css\">\n",
       "#T_6ce3b_row0_col4, #T_6ce3b_row1_col0, #T_6ce3b_row2_col4, #T_6ce3b_row3_col4, #T_6ce3b_row4_col2, #T_6ce3b_row5_col4 {\n",
       "  background-color: blue;\n",
       "}\n",
       "</style>\n",
       "<table id=\"T_6ce3b\">\n",
       "  <thead>\n",
       "    <tr>\n",
       "      <th class=\"blank level0\" >&nbsp;</th>\n",
       "      <th id=\"T_6ce3b_level0_col0\" class=\"col_heading level0 col0\" >LogR</th>\n",
       "      <th id=\"T_6ce3b_level0_col1\" class=\"col_heading level0 col1\" >RandF</th>\n",
       "      <th id=\"T_6ce3b_level0_col2\" class=\"col_heading level0 col2\" >DTs</th>\n",
       "      <th id=\"T_6ce3b_level0_col3\" class=\"col_heading level0 col3\" >KNN</th>\n",
       "      <th id=\"T_6ce3b_level0_col4\" class=\"col_heading level0 col4\" >XGB</th>\n",
       "    </tr>\n",
       "  </thead>\n",
       "  <tbody>\n",
       "    <tr>\n",
       "      <th id=\"T_6ce3b_level0_row0\" class=\"row_heading level0 row0\" >Precision</th>\n",
       "      <td id=\"T_6ce3b_row0_col0\" class=\"data row0 col0\" >0.592444</td>\n",
       "      <td id=\"T_6ce3b_row0_col1\" class=\"data row0 col1\" >0.590166</td>\n",
       "      <td id=\"T_6ce3b_row0_col2\" class=\"data row0 col2\" >0.568065</td>\n",
       "      <td id=\"T_6ce3b_row0_col3\" class=\"data row0 col3\" >0.585185</td>\n",
       "      <td id=\"T_6ce3b_row0_col4\" class=\"data row0 col4\" >0.631059</td>\n",
       "    </tr>\n",
       "    <tr>\n",
       "      <th id=\"T_6ce3b_level0_row1\" class=\"row_heading level0 row1\" >Recall</th>\n",
       "      <td id=\"T_6ce3b_row1_col0\" class=\"data row1 col0\" >0.744858</td>\n",
       "      <td id=\"T_6ce3b_row1_col1\" class=\"data row1 col1\" >0.575826</td>\n",
       "      <td id=\"T_6ce3b_row1_col2\" class=\"data row1 col2\" >0.589906</td>\n",
       "      <td id=\"T_6ce3b_row1_col3\" class=\"data row1 col3\" >0.740319</td>\n",
       "      <td id=\"T_6ce3b_row1_col4\" class=\"data row1 col4\" >0.606306</td>\n",
       "    </tr>\n",
       "    <tr>\n",
       "      <th id=\"T_6ce3b_level0_row2\" class=\"row_heading level0 row2\" >F1</th>\n",
       "      <td id=\"T_6ce3b_row2_col0\" class=\"data row2 col0\" >0.582854</td>\n",
       "      <td id=\"T_6ce3b_row2_col1\" class=\"data row2 col1\" >0.581905</td>\n",
       "      <td id=\"T_6ce3b_row2_col2\" class=\"data row2 col2\" >0.575776</td>\n",
       "      <td id=\"T_6ce3b_row2_col3\" class=\"data row2 col3\" >0.558552</td>\n",
       "      <td id=\"T_6ce3b_row2_col4\" class=\"data row2 col4\" >0.616681</td>\n",
       "    </tr>\n",
       "    <tr>\n",
       "      <th id=\"T_6ce3b_level0_row3\" class=\"row_heading level0 row3\" >Accuracy</th>\n",
       "      <td id=\"T_6ce3b_row3_col0\" class=\"data row3 col0\" >0.727772</td>\n",
       "      <td id=\"T_6ce3b_row3_col1\" class=\"data row3 col1\" >0.873382</td>\n",
       "      <td id=\"T_6ce3b_row3_col2\" class=\"data row3 col2\" >0.837686</td>\n",
       "      <td id=\"T_6ce3b_row3_col3\" class=\"data row3 col3\" >0.689359</td>\n",
       "      <td id=\"T_6ce3b_row3_col4\" class=\"data row3 col4\" >0.885755</td>\n",
       "    </tr>\n",
       "    <tr>\n",
       "      <th id=\"T_6ce3b_level0_row4\" class=\"row_heading level0 row4\" >Train_Score</th>\n",
       "      <td id=\"T_6ce3b_row4_col0\" class=\"data row4 col0\" >0.760334</td>\n",
       "      <td id=\"T_6ce3b_row4_col1\" class=\"data row4 col1\" >0.985290</td>\n",
       "      <td id=\"T_6ce3b_row4_col2\" class=\"data row4 col2\" >0.998518</td>\n",
       "      <td id=\"T_6ce3b_row4_col3\" class=\"data row4 col3\" >0.789120</td>\n",
       "      <td id=\"T_6ce3b_row4_col4\" class=\"data row4 col4\" >0.927914</td>\n",
       "    </tr>\n",
       "    <tr>\n",
       "      <th id=\"T_6ce3b_level0_row5\" class=\"row_heading level0 row5\" >Test_Score</th>\n",
       "      <td id=\"T_6ce3b_row5_col0\" class=\"data row5 col0\" >0.727772</td>\n",
       "      <td id=\"T_6ce3b_row5_col1\" class=\"data row5 col1\" >0.873382</td>\n",
       "      <td id=\"T_6ce3b_row5_col2\" class=\"data row5 col2\" >0.837686</td>\n",
       "      <td id=\"T_6ce3b_row5_col3\" class=\"data row5 col3\" >0.689359</td>\n",
       "      <td id=\"T_6ce3b_row5_col4\" class=\"data row5 col4\" >0.885755</td>\n",
       "    </tr>\n",
       "  </tbody>\n",
       "</table>\n"
      ],
      "text/plain": [
       "<pandas.io.formats.style.Styler at 0x7f87b5cc51f0>"
      ]
     },
     "execution_count": 148,
     "metadata": {},
     "output_type": "execute_result"
    }
   ],
   "source": [
    "result_6 = evaluate_model(models, x_smT, x_test, y_smT, y_test)\n",
    "result_6.style.apply(highlight,axis=1)"
   ]
  },
  {
   "cell_type": "markdown",
   "id": "df481724",
   "metadata": {},
   "source": [
    "# Conclusion"
   ]
  },
  {
   "cell_type": "markdown",
   "id": "3047e087",
   "metadata": {},
   "source": [
    "### According to our results, we conclude that:\n",
    "- The SMOTE technique, and the combination technique (SMOTETOMEK) were the best approaches.\n",
    "- We found that both XGB and Logistic Regression had the best results, regarding both the accuracy and the recall (with about 90% accuracy and 75% recall).\n",
    "- Our original data without any resampling, had the highest and most misleading accuracy as expected."
   ]
  }
 ],
 "metadata": {
  "accelerator": "GPU",
  "colab": {
   "gpuType": "T4",
   "provenance": []
  },
  "kernelspec": {
   "display_name": "Python 3 (ipykernel)",
   "language": "python",
   "name": "python3"
  },
  "language_info": {
   "codemirror_mode": {
    "name": "ipython",
    "version": 3
   },
   "file_extension": ".py",
   "mimetype": "text/x-python",
   "name": "python",
   "nbconvert_exporter": "python",
   "pygments_lexer": "ipython3",
   "version": "3.9.12"
  }
 },
 "nbformat": 4,
 "nbformat_minor": 5
}
